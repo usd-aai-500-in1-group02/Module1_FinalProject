{
 "cells": [
  {
   "cell_type": "markdown",
   "metadata": {},
   "source": [
    "# Stroke Prediction Analysis - Evidence-Based Feature Engineering\n",
    "\n",
    "## 📓 Notebook Overview\n",
    "\n",
    "This notebook transforms raw patient data into clinically meaningful features for stroke prediction, building on statistical evidence from the hypothesis testing phase. We'll create evidence-based features that align with medical guidelines and enhance model interpretability while improving predictive performance through domain-expert feature engineering.\n",
    "\n",
    "## 🎯 Objectives\n",
    "\n",
    "1. **Create Medical Evidence-Based Features**: Design features aligned with AHA/ASA stroke guidelines and WHO classifications\n",
    "2. **Develop Risk Stratification Categories**: Build clinically meaningful age, BMI, and glucose risk categories\n",
    "3. **Engineer Interaction Features**: Capture synergistic effects between risk factors (Age×Hypertension, BMI×Diabetes)\n",
    "4. **Build Composite Risk Profiles**: Create cardiovascular risk scores and metabolic syndrome indicators\n",
    "5. **Validate Feature Quality**: Apply multiple selection methods and statistical validation techniques\n",
    "6. **Optimize Feature Set**: Select top-performing features while maintaining clinical interpretability\n",
    "\n",
    "## 🔬 Scientific Methodology\n",
    "\n",
    "We follow evidence-based feature engineering principles:\n",
    "\n",
    "- **Medical Guideline Alignment**: Features based on AHA/ASA, WHO, and ADA clinical standards\n",
    "- **Domain Knowledge Integration**: Incorporate established stroke risk factor research\n",
    "- **Statistical Validation**: Multiple feature selection methods with cross-validation\n",
    "- **Clinical Interpretability**: Maintain transparent, explainable feature definitions\n",
    "- **Performance Validation**: Quantify improvement over baseline features\n",
    "- **Multiple Testing Correction**: Apply Bonferroni correction for feature significance testing\n",
    "\n",
    "## 🏥 Expected Feature Categories\n",
    "\n",
    "Based on medical evidence and clinical guidelines, we will engineer:\n",
    "\n",
    "1. **H₁ (Age Risk Categories)**: Young Adult (<45), Middle-Aged (45-64), Elderly (65-74), Very Elderly (75+)\n",
    "2. **H₂ (BMI Classifications)**: WHO categories - Underweight (<18.5), Normal (18.5-24.9), Overweight (25-29.9), Obese (≥30)\n",
    "3. **H₃ (Glucose Risk Levels)**: ADA guidelines - Normal (<100), Prediabetic (100-125), Diabetic (≥126 mg/dL)\n",
    "4. **H₄ (Cardiovascular Profiles)**: Traditional risk factor combinations and high-risk patient identification\n",
    "5. **H₅ (Smoking Risk Stratification)**: Never, Former, Current smoker categories with differential risk levels\n",
    "6. **H₆ (Interaction Effects)**: Age×Hypertension, BMI×Diabetes, Gender×Risk factor combinations\n",
    "7. **H₇ (Composite Risk Scores)**: Metabolic syndrome, multiple risk factor counts, clinical decision support metrics\n",
    "8. **H₈ (Demographic Risk Factors)**: Work stress levels, marital status, and residence type risk associations\n",
    "\n",
    "## ⭐ Feature Quality Standards\n",
    "\n",
    "- **Mutual Information Score**: >0.05 for meaningful predictive value\n",
    "- **Statistical Significance**: p<0.05 with Bonferroni correction for multiple testing\n",
    "- **Clinical Relevance**: Odds Ratio >1.5 or <0.67 for practical significance\n",
    "- **Feature Stability**: Cross-validation AUC improvement >0.02 over baseline\n",
    "- **Interpretability Score**: Clear clinical definition and actionable thresholds\n",
    "- **Missing Value Tolerance**: <10% missing values or evidence-based imputation strategy"
   ]
  },
  {
   "cell_type": "code",
   "execution_count": 2,
   "metadata": {},
   "outputs": [
    {
     "name": "stdout",
     "output_type": "stream",
     "text": [
      "Libraries imported successfully!\n",
      "Feature Engineering Notebook - Ready for Analysis\n"
     ]
    }
   ],
   "source": [
    "# Import required libraries\n",
    "import pandas as pd\n",
    "import numpy as np\n",
    "import matplotlib.pyplot as plt\n",
    "import seaborn as sns\n",
    "import plotly.express as px\n",
    "import plotly.graph_objects as go\n",
    "from plotly.subplots import make_subplots\n",
    "import pandas as pd\n",
    "import polars as pl\n",
    "import numpy as np\n",
    "from pathlib import Path\n",
    "import warnings\n",
    "warnings.filterwarnings('ignore')\n",
    "\n",
    "# Statistical libraries\n",
    "from scipy import stats\n",
    "from scipy.stats import chi2_contingency, fisher_exact\n",
    "import statsmodels.api as sm\n",
    "from statsmodels.stats.contingency_tables import mcnemar\n",
    "\n",
    "# Machine Learning libraries\n",
    "from sklearn.preprocessing import StandardScaler, LabelEncoder\n",
    "from sklearn.feature_selection import mutual_info_classif, chi2, SelectKBest\n",
    "from sklearn.linear_model import LogisticRegression\n",
    "from sklearn.model_selection import cross_val_score\n",
    "from sklearn.metrics import roc_auc_score\n",
    "\n",
    "# Set plotting style\n",
    "plt.style.use('default')\n",
    "sns.set_palette(\"husl\")\n",
    "\n",
    "# Configure pandas display\n",
    "pd.set_option('display.max_columns', None)\n",
    "pd.set_option('display.width', None)\n",
    "pd.set_option('display.max_colwidth', None)\n",
    "\n",
    "print(\"Libraries imported successfully!\")\n",
    "print(\"Feature Engineering Notebook - Ready for Analysis\")"
   ]
  },
  {
   "cell_type": "code",
   "execution_count": 3,
   "metadata": {},
   "outputs": [],
   "source": [
    "\n",
    "\n",
    "def load_cleaned_stroke_dataset(file_path: str, show_info: bool = True):\n",
    "    \"\"\"\n",
    "    Load the cleaned stroke dataset and verify it's ready for feature engineering\n",
    "    \"\"\"\n",
    "    \n",
    "    if show_info:\n",
    "        print(\"=\"*80)\n",
    "        print(\"📂 LOADING CLEANED DATASET FOR FEATURE ENGINEERING\")\n",
    "        print(\"=\"*80)\n",
    "    \n",
    "    # Load dataset with Polars (faster and more memory efficient)\n",
    "    try:\n",
    "        df = pl.read_csv(\n",
    "            file_path,\n",
    "            infer_schema_length=10000,\n",
    "            try_parse_dates=True\n",
    "        )\n",
    "        \n",
    "        if show_info:\n",
    "            print(f\"✅ Dataset loaded successfully!\")\n",
    "            print(f\"   📄 Source: {file_path}\")\n",
    "            print(f\"   📊 Shape: {df.shape[0]:,} rows × {df.shape[1]} columns\")\n",
    "        \n",
    "    except Exception as e:\n",
    "        print(f\"❌ Error loading dataset: {e}\")\n",
    "        return None\n",
    "    \n",
    "    # Verify data quality (should be perfect after cleaning)\n",
    "    missing_count = sum([df[col].null_count() for col in df.columns])\n",
    "    \n",
    "    if show_info:\n",
    "        print(f\"\\n🔍 DATA QUALITY VERIFICATION:\")\n",
    "        print(f\"   ├── Missing values: {missing_count} (should be 0)\")\n",
    "        print(f\"   ├── Duplicate rows: {df.is_duplicated().sum()}\")\n",
    "        \n",
    "        # Show data types\n",
    "        print(f\"   └── Data types:\")\n",
    "        for col in df.columns:\n",
    "            dtype = str(df[col].dtype)\n",
    "            unique_count = df[col].n_unique()\n",
    "            print(f\"       • {col}: {dtype} ({unique_count:,} unique values)\")\n",
    "    \n",
    "    # Verify target variable distribution\n",
    "    if 'stroke' in df.columns:\n",
    "        stroke_rate = df['stroke'].mean() * 100\n",
    "        stroke_count = df['stroke'].sum()\n",
    "        no_stroke_count = (df['stroke'] == 0).sum()\n",
    "        \n",
    "        if show_info:\n",
    "            print(f\"\\n🎯 TARGET VARIABLE (STROKE):\")\n",
    "            print(f\"   ├── Stroke cases: {stroke_count:,} ({stroke_rate:.1f}%)\")\n",
    "            print(f\"   ├── No stroke cases: {no_stroke_count:,} ({100-stroke_rate:.1f}%)\")\n",
    "            print(f\"   └── Class imbalance ratio: {no_stroke_count/stroke_count:.1f}:1\")\n",
    "    \n",
    "    # Show sample of the data\n",
    "    if show_info:\n",
    "        print(f\"\\n📋 SAMPLE DATA (first 5 rows):\")\n",
    "        print(df.head())\n",
    "        \n",
    "        print(f\"\\n📈 READY FOR FEATURE ENGINEERING!\")\n",
    "        print(f\"   ✅ No missing values to handle\")\n",
    "        print(f\"   ✅ Data types properly set\")\n",
    "        print(f\"   ✅ Clinical validation completed\")\n",
    "        print(f\"   ✅ Quality assurance passed\")\n",
    "    \n",
    "    return df\n",
    "\n",
    "def verify_dataset_readiness(df: pl.DataFrame):\n",
    "    \"\"\"\n",
    "    Comprehensive verification that dataset is ready for feature engineering\n",
    "    \"\"\"\n",
    "    print(\"\\n\" + \"=\"*60)\n",
    "    print(\"🔬 FEATURE ENGINEERING READINESS CHECK\")\n",
    "    print(\"=\"*60)\n",
    "    \n",
    "    checks_passed = 0\n",
    "    total_checks = 6\n",
    "    \n",
    "    # Check 1: No missing values\n",
    "    missing_count = sum([df[col].null_count() for col in df.columns])\n",
    "    if missing_count == 0:\n",
    "        print(\"✅ Check 1: No missing values\")\n",
    "        checks_passed += 1\n",
    "    else:\n",
    "        print(f\"❌ Check 1: {missing_count} missing values found\")\n",
    "    \n",
    "    # Check 2: Target variable present\n",
    "    if 'stroke' in df.columns:\n",
    "        print(\"✅ Check 2: Target variable 'stroke' present\")\n",
    "        checks_passed += 1\n",
    "    else:\n",
    "        print(\"❌ Check 2: Target variable 'stroke' missing\")\n",
    "    \n",
    "    # Check 3: Reasonable sample size\n",
    "    if df.shape[0] >= 1000:\n",
    "        print(f\"✅ Check 3: Adequate sample size ({df.shape[0]:,} rows)\")\n",
    "        checks_passed += 1\n",
    "    else:\n",
    "        print(f\"⚠️  Check 3: Small sample size ({df.shape[0]:,} rows)\")\n",
    "    \n",
    "    # Check 4: Multiple features available\n",
    "    feature_count = df.shape[1] - 1  # Exclude target\n",
    "    if feature_count >= 5:\n",
    "        print(f\"✅ Check 4: Multiple features available ({feature_count} features)\")\n",
    "        checks_passed += 1\n",
    "    else:\n",
    "        print(f\"❌ Check 4: Limited features ({feature_count} features)\")\n",
    "    \n",
    "    # Check 5: Reasonable target distribution\n",
    "    if 'stroke' in df.columns:\n",
    "        stroke_rate = df['stroke'].mean()\n",
    "        if 0.01 <= stroke_rate <= 0.99:  # Between 1% and 99%\n",
    "            print(f\"✅ Check 5: Reasonable target distribution ({stroke_rate*100:.1f}%)\")\n",
    "            checks_passed += 1\n",
    "        else:\n",
    "            print(f\"⚠️  Check 5: Extreme target distribution ({stroke_rate*100:.1f}%)\")\n",
    "    \n",
    "    # Check 6: Data types appropriate\n",
    "    numeric_cols = [col for col in df.columns if df[col].dtype in [pl.Int8, pl.Int16, pl.Int32, pl.Int64, pl.Float32, pl.Float64]]\n",
    "    categorical_cols = [col for col in df.columns if col not in numeric_cols]\n",
    "    \n",
    "    if len(numeric_cols) >= 2 and len(categorical_cols) >= 2:\n",
    "        print(f\"✅ Check 6: Mixed data types available ({len(numeric_cols)} numeric, {len(categorical_cols)} categorical)\")\n",
    "        checks_passed += 1\n",
    "    else:\n",
    "        print(f\"⚠️  Check 6: Limited data type variety\")\n",
    "    \n",
    "    # Overall assessment\n",
    "    print(f\"\\n📊 OVERALL READINESS: {checks_passed}/{total_checks} checks passed\")\n",
    "    \n",
    "    if checks_passed == total_checks:\n",
    "        print(\"🎉 DATASET FULLY READY FOR FEATURE ENGINEERING!\")\n",
    "        readiness_level = \"EXCELLENT\"\n",
    "    elif checks_passed >= 4:\n",
    "        print(\"✅ Dataset ready for feature engineering with minor considerations\")\n",
    "        readiness_level = \"GOOD\"\n",
    "    elif checks_passed >= 2:\n",
    "        print(\"⚠️  Dataset may need additional preparation\")\n",
    "        readiness_level = \"FAIR\"\n",
    "    else:\n",
    "        print(\"❌ Dataset requires significant preparation\")\n",
    "        readiness_level = \"POOR\"\n",
    "    \n",
    "    return {\n",
    "        'readiness_level': readiness_level,\n",
    "        'checks_passed': checks_passed,\n",
    "        'total_checks': total_checks,\n",
    "        'numeric_columns': numeric_cols,\n",
    "        'categorical_columns': categorical_cols,\n",
    "        'ready_for_feature_engineering': checks_passed >= 4\n",
    "    }\n",
    "\n",
    "def show_feature_engineering_opportunities(df: pl.DataFrame):\n",
    "    \"\"\"\n",
    "    Identify specific feature engineering opportunities in the dataset\n",
    "    \"\"\"\n",
    "    print(\"\\n\" + \"=\"*60)\n",
    "    print(\"🛠️ FEATURE ENGINEERING OPPORTUNITIES\")\n",
    "    print(\"=\"*60)\n",
    "    \n",
    "    opportunities = []\n",
    "    \n",
    "    # Age-based features\n",
    "    if 'age' in df.columns:\n",
    "        age_stats = {\n",
    "            'min': df['age'].min(),\n",
    "            'max': df['age'].max(),\n",
    "            'mean': df['age'].mean()\n",
    "        }\n",
    "        opportunities.append({\n",
    "            'category': 'Age Transformations',\n",
    "            'features': [\n",
    "                '• Age groups (young: <45, middle: 45-65, elderly: >65)',\n",
    "                '• Age squared (capture non-linear effects)',\n",
    "                '• Elderly flag (age >= 65)',\n",
    "                '• Age standardization/scaling'\n",
    "            ],\n",
    "            'rationale': f'Age range: {age_stats[\"min\"]:.1f}-{age_stats[\"max\"]:.1f} years, mean: {age_stats[\"mean\"]:.1f}'\n",
    "        })\n",
    "    \n",
    "    # BMI-based features\n",
    "    if 'bmi' in df.columns:\n",
    "        bmi_stats = {\n",
    "            'min': df['bmi'].min(),\n",
    "            'max': df['bmi'].max(),\n",
    "            'mean': df['bmi'].mean()\n",
    "        }\n",
    "        opportunities.append({\n",
    "            'category': 'BMI Transformations',\n",
    "            'features': [\n",
    "                '• BMI categories (underweight <18.5, normal 18.5-25, overweight 25-30, obese >30)',\n",
    "                '• Obesity flag (BMI >= 30)',\n",
    "                '• BMI squared or log transformation',\n",
    "                '• BMI standardization'\n",
    "            ],\n",
    "            'rationale': f'BMI range: {bmi_stats[\"min\"]:.1f}-{bmi_stats[\"max\"]:.1f}, mean: {bmi_stats[\"mean\"]:.1f}'\n",
    "        })\n",
    "    \n",
    "    # Glucose-based features\n",
    "    if 'avg_glucose_level' in df.columns:\n",
    "        glucose_stats = {\n",
    "            'min': df['avg_glucose_level'].min(),\n",
    "            'max': df['avg_glucose_level'].max(),\n",
    "            'mean': df['avg_glucose_level'].mean()\n",
    "        }\n",
    "        opportunities.append({\n",
    "            'category': 'Glucose Transformations',\n",
    "            'features': [\n",
    "                '• Diabetes categories (normal <100, prediabetic 100-125, diabetic >=126)',\n",
    "                '• High glucose flag (>140 mg/dL)',\n",
    "                '• Log glucose (often right-skewed)',\n",
    "                '• Glucose standardization'\n",
    "            ],\n",
    "            'rationale': f'Glucose range: {glucose_stats[\"min\"]:.1f}-{glucose_stats[\"max\"]:.1f} mg/dL, mean: {glucose_stats[\"mean\"]:.1f}'\n",
    "        })\n",
    "    \n",
    "    # Interaction features\n",
    "    opportunities.append({\n",
    "        'category': 'Interaction Features',\n",
    "        'features': [\n",
    "            '• Age × Hypertension (compound cardiovascular risk)',\n",
    "            '• BMI × Glucose (metabolic syndrome indicator)',\n",
    "            '• Age × Heart Disease (age-related cardiac risk)',\n",
    "            '• Smoking × Age (cumulative smoking exposure)'\n",
    "        ],\n",
    "        'rationale': 'Medical conditions often interact synergistically'\n",
    "    })\n",
    "    \n",
    "    # Risk scores\n",
    "    opportunities.append({\n",
    "        'category': 'Risk Scores',\n",
    "        'features': [\n",
    "            '• Cardiovascular risk score (age + hypertension + heart disease)',\n",
    "            '• Metabolic risk score (BMI + glucose + age)',\n",
    "            '• Lifestyle risk score (smoking + work type)',\n",
    "            '• Overall risk index (weighted combination)'\n",
    "        ],\n",
    "        'rationale': 'Clinical risk scores are interpretable and actionable'\n",
    "    })\n",
    "    \n",
    "    # Encoding opportunities\n",
    "    categorical_cols = [col for col in df.columns if df[col].dtype == pl.Utf8]\n",
    "    if categorical_cols:\n",
    "        opportunities.append({\n",
    "            'category': 'Categorical Encoding',\n",
    "            'features': [\n",
    "                '• One-hot encoding for nominal variables',\n",
    "                '• Ordinal encoding for ordered categories',\n",
    "                '• Target encoding (mean stroke rate by category)',\n",
    "                '• Frequency encoding'\n",
    "            ],\n",
    "            'rationale': f'Categorical variables: {\", \".join(categorical_cols)}'\n",
    "        })\n",
    "    \n",
    "    # Print opportunities\n",
    "    for i, opp in enumerate(opportunities, 1):\n",
    "        print(f\"\\n{i}. {opp['category']}\")\n",
    "        print(f\"   Rationale: {opp['rationale']}\")\n",
    "        print(\"   Potential features:\")\n",
    "        for feature in opp['features']:\n",
    "            print(f\"     {feature}\")\n",
    "    \n",
    "    print(f\"\\n🎯 TOTAL OPPORTUNITIES: {len(opportunities)} categories identified\")\n",
    "    print(f\"💡 Recommended: Start with age groups, BMI categories, and cardiovascular risk scores\")\n",
    "    \n",
    "    return opportunities\n",
    "\n"
   ]
  },
  {
   "cell_type": "code",
   "execution_count": 4,
   "metadata": {},
   "outputs": [
    {
     "name": "stdout",
     "output_type": "stream",
     "text": [
      "📋 QUICK START FOR FEATURE ENGINEERING:\n",
      "========================================\n",
      "1. Copy this code to your 03_feature_engineering.ipynb\n",
      "2. Run: df, readiness, opportunities = setup_feature_engineering_notebook()\n",
      "3. Begin creating features based on identified opportunities\n",
      "4. The dataset is 100% ready - no additional cleaning needed!\n"
     ]
    }
   ],
   "source": [
    "# Example usage for your feature engineering notebook\n",
    "def setup_feature_engineering_notebook():\n",
    "    \"\"\"\n",
    "    Complete setup for feature engineering phase\n",
    "    \"\"\"\n",
    "    # Your specific file path\n",
    "    CLEANED_DATASET_PATH = \"results/cleaned_data/stroke_dataset_cleaned_20250619_122557.csv\"\n",
    "    \n",
    "    print(\"🚀 SETTING UP FEATURE ENGINEERING PHASE\")\n",
    "    print(\"=\"*50)\n",
    "    \n",
    "    # Load the cleaned dataset\n",
    "    df_cleaned = load_cleaned_stroke_dataset(CLEANED_DATASET_PATH)\n",
    "    \n",
    "    if df_cleaned is not None:\n",
    "        # Verify readiness\n",
    "        readiness_check = verify_dataset_readiness(df_cleaned)\n",
    "        \n",
    "        # Show opportunities\n",
    "        opportunities = show_feature_engineering_opportunities(df_cleaned)\n",
    "        \n",
    "        print(f\"\\n✅ SETUP COMPLETE!\")\n",
    "        print(f\"   Dataset loaded: {df_cleaned.shape[0]:,} rows × {df_cleaned.shape[1]} columns\")\n",
    "        print(f\"   Readiness level: {readiness_check['readiness_level']}\")\n",
    "        print(f\"   Ready to proceed: {'Yes' if readiness_check['ready_for_feature_engineering'] else 'No'}\")\n",
    "        \n",
    "        return df_cleaned, readiness_check, opportunities\n",
    "    else:\n",
    "        print(\"❌ Setup failed - could not load dataset\")\n",
    "        return None, None, None\n",
    "\n",
    "# Quick start for your next notebook\n",
    "print(\"📋 QUICK START FOR FEATURE ENGINEERING:\")\n",
    "print(\"=\"*40)\n",
    "print(\"1. Copy this code to your 03_feature_engineering.ipynb\")\n",
    "print(\"2. Run: df, readiness, opportunities = setup_feature_engineering_notebook()\")\n",
    "print(\"3. Begin creating features based on identified opportunities\")\n",
    "print(\"4. The dataset is 100% ready - no additional cleaning needed!\")"
   ]
  },
  {
   "cell_type": "code",
   "execution_count": 5,
   "metadata": {},
   "outputs": [
    {
     "name": "stdout",
     "output_type": "stream",
     "text": [
      "🚀 SETTING UP FEATURE ENGINEERING PHASE\n",
      "==================================================\n",
      "================================================================================\n",
      "📂 LOADING CLEANED DATASET FOR FEATURE ENGINEERING\n",
      "================================================================================\n",
      "✅ Dataset loaded successfully!\n",
      "   📄 Source: results/cleaned_data/stroke_dataset_cleaned_20250619_122557.csv\n",
      "   📊 Shape: 5,110 rows × 12 columns\n",
      "\n",
      "🔍 DATA QUALITY VERIFICATION:\n",
      "   ├── Missing values: 0 (should be 0)\n",
      "   ├── Duplicate rows: 0\n",
      "   └── Data types:\n",
      "       • id: Int64 (5,110 unique values)\n",
      "       • gender: String (3 unique values)\n",
      "       • age: Float64 (104 unique values)\n",
      "       • hypertension: Int64 (2 unique values)\n",
      "       • heart_disease: Int64 (2 unique values)\n",
      "       • ever_married: String (2 unique values)\n",
      "       • work_type: String (5 unique values)\n",
      "       • Residence_type: String (2 unique values)\n",
      "       • avg_glucose_level: Float64 (3,979 unique values)\n",
      "       • bmi: Float64 (546 unique values)\n",
      "       • smoking_status: String (4 unique values)\n",
      "       • stroke: Int64 (2 unique values)\n",
      "\n",
      "🎯 TARGET VARIABLE (STROKE):\n",
      "   ├── Stroke cases: 249 (4.9%)\n",
      "   ├── No stroke cases: 4,861 (95.1%)\n",
      "   └── Class imbalance ratio: 19.5:1\n",
      "\n",
      "📋 SAMPLE DATA (first 5 rows):\n",
      "shape: (5, 12)\n",
      "┌───────┬────────┬──────┬──────────────┬───┬───────────────────┬───────┬─────────────────┬────────┐\n",
      "│ id    ┆ gender ┆ age  ┆ hypertension ┆ … ┆ avg_glucose_level ┆ bmi   ┆ smoking_status  ┆ stroke │\n",
      "│ ---   ┆ ---    ┆ ---  ┆ ---          ┆   ┆ ---               ┆ ---   ┆ ---             ┆ ---    │\n",
      "│ i64   ┆ str    ┆ f64  ┆ i64          ┆   ┆ f64               ┆ f64   ┆ str             ┆ i64    │\n",
      "╞═══════╪════════╪══════╪══════════════╪═══╪═══════════════════╪═══════╪═════════════════╪════════╡\n",
      "│ 9046  ┆ Male   ┆ 67.0 ┆ 0            ┆ … ┆ 228.69            ┆ 36.6  ┆ formerly smoked ┆ 1      │\n",
      "│ 51676 ┆ Female ┆ 61.0 ┆ 0            ┆ … ┆ 202.21            ┆ 33.58 ┆ never smoked    ┆ 1      │\n",
      "│ 31112 ┆ Male   ┆ 80.0 ┆ 0            ┆ … ┆ 105.92            ┆ 32.5  ┆ never smoked    ┆ 1      │\n",
      "│ 60182 ┆ Female ┆ 49.0 ┆ 0            ┆ … ┆ 171.23            ┆ 34.4  ┆ smokes          ┆ 1      │\n",
      "│ 1665  ┆ Female ┆ 79.0 ┆ 1            ┆ … ┆ 174.12            ┆ 24.0  ┆ never smoked    ┆ 1      │\n",
      "└───────┴────────┴──────┴──────────────┴───┴───────────────────┴───────┴─────────────────┴────────┘\n",
      "\n",
      "📈 READY FOR FEATURE ENGINEERING!\n",
      "   ✅ No missing values to handle\n",
      "   ✅ Data types properly set\n",
      "   ✅ Clinical validation completed\n",
      "   ✅ Quality assurance passed\n",
      "\n",
      "============================================================\n",
      "🔬 FEATURE ENGINEERING READINESS CHECK\n",
      "============================================================\n",
      "✅ Check 1: No missing values\n",
      "✅ Check 2: Target variable 'stroke' present\n",
      "✅ Check 3: Adequate sample size (5,110 rows)\n",
      "✅ Check 4: Multiple features available (11 features)\n",
      "✅ Check 5: Reasonable target distribution (4.9%)\n",
      "✅ Check 6: Mixed data types available (7 numeric, 5 categorical)\n",
      "\n",
      "📊 OVERALL READINESS: 6/6 checks passed\n",
      "🎉 DATASET FULLY READY FOR FEATURE ENGINEERING!\n",
      "\n",
      "============================================================\n",
      "🛠️ FEATURE ENGINEERING OPPORTUNITIES\n",
      "============================================================\n",
      "\n",
      "1. Age Transformations\n",
      "   Rationale: Age range: 0.1-82.0 years, mean: 43.2\n",
      "   Potential features:\n",
      "     • Age groups (young: <45, middle: 45-65, elderly: >65)\n",
      "     • Age squared (capture non-linear effects)\n",
      "     • Elderly flag (age >= 65)\n",
      "     • Age standardization/scaling\n",
      "\n",
      "2. BMI Transformations\n",
      "   Rationale: BMI range: 10.3-97.6, mean: 29.0\n",
      "   Potential features:\n",
      "     • BMI categories (underweight <18.5, normal 18.5-25, overweight 25-30, obese >30)\n",
      "     • Obesity flag (BMI >= 30)\n",
      "     • BMI squared or log transformation\n",
      "     • BMI standardization\n",
      "\n",
      "3. Glucose Transformations\n",
      "   Rationale: Glucose range: 55.1-271.7 mg/dL, mean: 106.1\n",
      "   Potential features:\n",
      "     • Diabetes categories (normal <100, prediabetic 100-125, diabetic >=126)\n",
      "     • High glucose flag (>140 mg/dL)\n",
      "     • Log glucose (often right-skewed)\n",
      "     • Glucose standardization\n",
      "\n",
      "4. Interaction Features\n",
      "   Rationale: Medical conditions often interact synergistically\n",
      "   Potential features:\n",
      "     • Age × Hypertension (compound cardiovascular risk)\n",
      "     • BMI × Glucose (metabolic syndrome indicator)\n",
      "     • Age × Heart Disease (age-related cardiac risk)\n",
      "     • Smoking × Age (cumulative smoking exposure)\n",
      "\n",
      "5. Risk Scores\n",
      "   Rationale: Clinical risk scores are interpretable and actionable\n",
      "   Potential features:\n",
      "     • Cardiovascular risk score (age + hypertension + heart disease)\n",
      "     • Metabolic risk score (BMI + glucose + age)\n",
      "     • Lifestyle risk score (smoking + work type)\n",
      "     • Overall risk index (weighted combination)\n",
      "\n",
      "6. Categorical Encoding\n",
      "   Rationale: Categorical variables: gender, ever_married, work_type, Residence_type, smoking_status\n",
      "   Potential features:\n",
      "     • One-hot encoding for nominal variables\n",
      "     • Ordinal encoding for ordered categories\n",
      "     • Target encoding (mean stroke rate by category)\n",
      "     • Frequency encoding\n",
      "\n",
      "🎯 TOTAL OPPORTUNITIES: 6 categories identified\n",
      "💡 Recommended: Start with age groups, BMI categories, and cardiovascular risk scores\n",
      "\n",
      "✅ SETUP COMPLETE!\n",
      "   Dataset loaded: 5,110 rows × 12 columns\n",
      "   Readiness level: EXCELLENT\n",
      "   Ready to proceed: Yes\n"
     ]
    }
   ],
   "source": [
    "# Start of 03_feature_engineering.ipynb\n",
    "CLEANED_DATASET_PATH = \"notebooks/results/cleaned_data/stroke_dataset_cleaned_20250619_122557.csv\"\n",
    "\n",
    "# Load and verify the dataset\n",
    "df, readiness, opportunities = setup_feature_engineering_notebook()"
   ]
  },
  {
   "cell_type": "code",
   "execution_count": 8,
   "metadata": {},
   "outputs": [
    {
     "name": "stdout",
     "output_type": "stream",
     "text": [
      "📋 Dataset Overview:\n",
      "shape: (9, 13)\n",
      "┌────────────┬────────────┬────────┬───────────┬───┬────────────┬──────────┬────────────┬──────────┐\n",
      "│ statistic  ┆ id         ┆ gender ┆ age       ┆ … ┆ avg_glucos ┆ bmi      ┆ smoking_st ┆ stroke   │\n",
      "│ ---        ┆ ---        ┆ ---    ┆ ---       ┆   ┆ e_level    ┆ ---      ┆ atus       ┆ ---      │\n",
      "│ str        ┆ f64        ┆ str    ┆ f64       ┆   ┆ ---        ┆ f64      ┆ ---        ┆ f64      │\n",
      "│            ┆            ┆        ┆           ┆   ┆ f64        ┆          ┆ str        ┆          │\n",
      "╞════════════╪════════════╪════════╪═══════════╪═══╪════════════╪══════════╪════════════╪══════════╡\n",
      "│ count      ┆ 5110.0     ┆ 5110   ┆ 5110.0    ┆ … ┆ 5110.0     ┆ 5110.0   ┆ 5110       ┆ 5110.0   │\n",
      "│ null_count ┆ 0.0        ┆ 0      ┆ 0.0       ┆ … ┆ 0.0        ┆ 0.0      ┆ 0          ┆ 0.0      │\n",
      "│ mean       ┆ 36517.8293 ┆ null   ┆ 43.226614 ┆ … ┆ 106.147677 ┆ 28.95656 ┆ null       ┆ 0.048728 │\n",
      "│            ┆ 54         ┆        ┆           ┆   ┆            ┆          ┆            ┆          │\n",
      "│ std        ┆ 21161.7216 ┆ null   ┆ 22.612647 ┆ … ┆ 45.28356   ┆ 7.766248 ┆ null       ┆ 0.21532  │\n",
      "│            ┆ 25         ┆        ┆           ┆   ┆            ┆          ┆            ┆          │\n",
      "│ min        ┆ 67.0       ┆ Female ┆ 0.08      ┆ … ┆ 55.12      ┆ 10.3     ┆ Unknown    ┆ 0.0      │\n",
      "│ 25%        ┆ 17740.0    ┆ null   ┆ 25.0      ┆ … ┆ 77.24      ┆ 23.7     ┆ null       ┆ 0.0      │\n",
      "│ 50%        ┆ 36942.0    ┆ null   ┆ 45.0      ┆ … ┆ 91.89      ┆ 28.2     ┆ null       ┆ 0.0      │\n",
      "│ 75%        ┆ 54695.0    ┆ null   ┆ 61.0      ┆ … ┆ 114.09     ┆ 33.1     ┆ null       ┆ 0.0      │\n",
      "│ max        ┆ 72940.0    ┆ Other  ┆ 82.0      ┆ … ┆ 271.74     ┆ 97.6     ┆ smokes     ┆ 1.0      │\n",
      "└────────────┴────────────┴────────┴───────────┴───┴────────────┴──────────┴────────────┴──────────┘\n",
      "\n",
      "🎯 Target Distribution:\n",
      "shape: (2, 2)\n",
      "┌────────┬───────┐\n",
      "│ stroke ┆ count │\n",
      "│ ---    ┆ ---   │\n",
      "│ i64    ┆ u32   │\n",
      "╞════════╪═══════╡\n",
      "│ 0      ┆ 4861  │\n",
      "│ 1      ┆ 249   │\n",
      "└────────┴───────┘\n"
     ]
    }
   ],
   "source": [
    "print(\"📋 Dataset Overview:\")\n",
    "print(df.describe())\n",
    "print(f\"\\n🎯 Target Distribution:\")\n",
    "target_dist = df.select(pl.col('stroke').value_counts()).unnest('stroke')\n",
    "print(target_dist)"
   ]
  },
  {
   "cell_type": "markdown",
   "metadata": {},
   "source": [
    "# ============================================================================\n",
    "# SECTION 2: MEDICAL EVIDENCE-BASED FEATURE CATEGORIES\n",
    "# ============================================================================\n",
    "\n",
    "\n",
    "## Medical Evidence for Feature Engineering\n",
    "\n",
    "Based on clinical research and medical guidelines, we'll create features that align\n",
    "with established stroke risk factors:\n",
    "\n",
    "### 1. Age Categories (AHA/ASA Guidelines)\n",
    "- Young Adults: 18-44 years\n",
    "- Middle-aged: 45-64 years  \n",
    "- Elderly: 65-74 years\n",
    "- Very Elderly: 75+ years\n",
    "\n",
    "### 2. BMI Categories (WHO Classification)\n",
    "- Underweight: <18.5\n",
    "- Normal: 18.5-24.9\n",
    "- Overweight: 25.0-29.9\n",
    "- Obese: ≥30.0\n",
    "\n",
    "### 3. Glucose Categories (ADA Guidelines)\n",
    "- Normal: <100 mg/dL\n",
    "- Prediabetic: 100-125 mg/dL\n",
    "- Diabetic: ≥126 mg/dL\n",
    "\n",
    "### 4. Cardiovascular Risk Profiles\n",
    "- Multiple risk factor combinations\n",
    "- High-risk vs. low-risk profiles"
   ]
  },
  {
   "cell_type": "code",
   "execution_count": 9,
   "metadata": {},
   "outputs": [
    {
     "name": "stdout",
     "output_type": "stream",
     "text": [
      "🔧 Creating evidence-based feature categories...\n",
      "\n",
      "🔧 Creating age categories...\n",
      "✅ Age categories created:\n",
      "shape: (4, 2)\n",
      "┌──────────────┬───────┐\n",
      "│ age_group    ┆ count │\n",
      "│ ---          ┆ ---   │\n",
      "│ str          ┆ u32   │\n",
      "╞══════════════╪═══════╡\n",
      "│ Very_Elderly ┆ 518   │\n",
      "│ Elderly      ┆ 509   │\n",
      "│ Young_Adult  ┆ 2533  │\n",
      "│ Middle_Aged  ┆ 1550  │\n",
      "└──────────────┴───────┘\n",
      "\n",
      "📊 High-risk age (65+): 0.201\n",
      "🔧 Creating BMI categories...\n",
      "✅ BMI categories created:\n",
      "shape: (4, 2)\n",
      "┌──────────────┬───────┐\n",
      "│ bmi_category ┆ count │\n",
      "│ ---          ┆ ---   │\n",
      "│ str          ┆ u32   │\n",
      "╞══════════════╪═══════╡\n",
      "│ Overweight   ┆ 1479  │\n",
      "│ Normal       ┆ 1252  │\n",
      "│ Underweight  ┆ 343   │\n",
      "│ Obese        ┆ 2036  │\n",
      "└──────────────┴───────┘\n",
      "\n",
      "📊 Obesity rate: 0.398\n",
      "📊 Extreme obesity rate: 0.187\n",
      "🔧 Creating glucose categories...\n",
      "✅ Glucose categories created:\n",
      "shape: (3, 2)\n",
      "┌──────────────────┬───────┐\n",
      "│ glucose_category ┆ count │\n",
      "│ ---              ┆ ---   │\n",
      "│ str              ┆ u32   │\n",
      "╞══════════════════╪═══════╡\n",
      "│ Diabetic         ┆ 981   │\n",
      "│ Prediabetic      ┆ 998   │\n",
      "│ Normal           ┆ 3131  │\n",
      "└──────────────────┴───────┘\n",
      "\n",
      "📊 Diabetes rate: 0.192\n",
      "📊 Prediabetes rate: 0.195\n",
      "🔧 Creating smoking risk categories...\n",
      "✅ Smoking risk categories created:\n",
      "shape: (4, 2)\n",
      "┌─────────────────┬───────┐\n",
      "│ smoking_status  ┆ count │\n",
      "│ ---             ┆ ---   │\n",
      "│ str             ┆ u32   │\n",
      "╞═════════════════╪═══════╡\n",
      "│ never smoked    ┆ 1892  │\n",
      "│ formerly smoked ┆ 885   │\n",
      "│ smokes          ┆ 789   │\n",
      "│ Unknown         ┆ 1544  │\n",
      "└─────────────────┴───────┘\n",
      "\n",
      "📊 Current smoker rate: 0.154\n",
      "📊 Ever smoker rate: 0.328\n",
      "\n",
      "✅ Basic feature engineering completed!\n"
     ]
    }
   ],
   "source": [
    "def create_age_categories(df):\n",
    "    \"\"\"\n",
    "    Create age categories based on stroke risk stratification.\n",
    "    \n",
    "    Categories based on American Heart Association guidelines for stroke risk.\n",
    "    \"\"\"\n",
    "    print(\"🔧 Creating age categories...\")\n",
    "    \n",
    "    df = df.with_columns([\n",
    "        # Create age groups\n",
    "        pl.when(pl.col('age') < 45).then(pl.lit('Young_Adult'))\n",
    "        .when(pl.col('age') < 65).then(pl.lit('Middle_Aged'))\n",
    "        .when(pl.col('age') < 75).then(pl.lit('Elderly'))\n",
    "        .otherwise(pl.lit('Very_Elderly'))\n",
    "        .alias('age_group'),\n",
    "        \n",
    "        # Create binary high-risk age indicator (65+)\n",
    "        (pl.col('age') >= 65).cast(pl.Int32).alias('age_high_risk'),\n",
    "        \n",
    "        # Create age decades for more granular analysis\n",
    "        ((pl.col('age') // 10) * 10).alias('age_decade')\n",
    "    ])\n",
    "    \n",
    "    print(\"✅ Age categories created:\")\n",
    "    age_counts = df.select(pl.col('age_group').value_counts()).unnest('age_group')\n",
    "    print(age_counts)\n",
    "    \n",
    "    high_risk_rate = df.select(pl.col('age_high_risk').mean()).item()\n",
    "    print(f\"\\n📊 High-risk age (65+): {high_risk_rate:.3f}\")\n",
    "    \n",
    "    return df\n",
    "\n",
    "def create_bmi_categories(df):\n",
    "    \"\"\"\n",
    "    Create BMI categories based on WHO classification.\n",
    "    \n",
    "    Includes both standard categories and stroke-specific risk groups.\n",
    "    \"\"\"\n",
    "    print(\"🔧 Creating BMI categories...\")\n",
    "    \n",
    "    # Check for missing BMI values\n",
    "    missing_bmi = df.select(pl.col('bmi').is_null().sum()).item()\n",
    "    if missing_bmi > 0:\n",
    "        print(f\"⚠️  {missing_bmi} missing BMI values - using median imputation\")\n",
    "        bmi_median = df.select(pl.col('bmi').median()).item()\n",
    "        df = df.with_columns(pl.col('bmi').fill_null(bmi_median))\n",
    "    \n",
    "    df = df.with_columns([\n",
    "        # Standard WHO categories\n",
    "        pl.when(pl.col('bmi') < 18.5).then(pl.lit('Underweight'))\n",
    "        .when(pl.col('bmi') < 25).then(pl.lit('Normal'))\n",
    "        .when(pl.col('bmi') < 30).then(pl.lit('Overweight'))\n",
    "        .otherwise(pl.lit('Obese'))\n",
    "        .alias('bmi_category'),\n",
    "        \n",
    "        # Binary obesity indicator (BMI ≥30)\n",
    "        (pl.col('bmi') >= 30).cast(pl.Int32).alias('obesity'),\n",
    "        \n",
    "        # Extreme obesity (BMI ≥35) - higher stroke risk\n",
    "        (pl.col('bmi') >= 35).cast(pl.Int32).alias('extreme_obesity'),\n",
    "        \n",
    "        # Underweight indicator (associated with some stroke risks)\n",
    "        (pl.col('bmi') < 18.5).cast(pl.Int32).alias('underweight')\n",
    "    ])\n",
    "    \n",
    "    print(\"✅ BMI categories created:\")\n",
    "    bmi_counts = df.select(pl.col('bmi_category').value_counts()).unnest('bmi_category')\n",
    "    print(bmi_counts)\n",
    "    \n",
    "    obesity_rate = df.select(pl.col('obesity').mean()).item()\n",
    "    extreme_obesity_rate = df.select(pl.col('extreme_obesity').mean()).item()\n",
    "    print(f\"\\n📊 Obesity rate: {obesity_rate:.3f}\")\n",
    "    print(f\"📊 Extreme obesity rate: {extreme_obesity_rate:.3f}\")\n",
    "    \n",
    "    return df\n",
    "\n",
    "def create_glucose_categories(df):\n",
    "    \"\"\"\n",
    "    Create glucose level categories based on ADA diabetes guidelines.\n",
    "    \n",
    "    Glucose levels are strong predictors of stroke risk.\n",
    "    \"\"\"\n",
    "    print(\"🔧 Creating glucose categories...\")\n",
    "    \n",
    "    df = df.with_columns([\n",
    "        # Standard diabetes categories\n",
    "        pl.when(pl.col('avg_glucose_level') < 100).then(pl.lit('Normal'))\n",
    "        .when(pl.col('avg_glucose_level') < 126).then(pl.lit('Prediabetic'))\n",
    "        .otherwise(pl.lit('Diabetic'))\n",
    "        .alias('glucose_category'),\n",
    "        \n",
    "        # Binary diabetes indicator (glucose ≥126)\n",
    "        (pl.col('avg_glucose_level') >= 126).cast(pl.Int32).alias('diabetes'),\n",
    "        \n",
    "        # Prediabetes indicator (100-125)\n",
    "        ((pl.col('avg_glucose_level') >= 100) & \n",
    "         (pl.col('avg_glucose_level') < 126)).cast(pl.Int32).alias('prediabetes'),\n",
    "        \n",
    "        # Severely elevated glucose (≥200) - acute risk\n",
    "        (pl.col('avg_glucose_level') >= 200).cast(pl.Int32).alias('severe_hyperglycemia')\n",
    "    ])\n",
    "    \n",
    "    print(\"✅ Glucose categories created:\")\n",
    "    glucose_counts = df.select(pl.col('glucose_category').value_counts()).unnest('glucose_category')\n",
    "    print(glucose_counts)\n",
    "    \n",
    "    diabetes_rate = df.select(pl.col('diabetes').mean()).item()\n",
    "    prediabetes_rate = df.select(pl.col('prediabetes').mean()).item()\n",
    "    print(f\"\\n📊 Diabetes rate: {diabetes_rate:.3f}\")\n",
    "    print(f\"📊 Prediabetes rate: {prediabetes_rate:.3f}\")\n",
    "    \n",
    "    return df\n",
    "\n",
    "def create_smoking_risk_categories(df):\n",
    "    \"\"\"\n",
    "    Create smoking risk categories with evidence-based groupings.\n",
    "    \n",
    "    Current smoking is the highest risk, followed by former smoking.\n",
    "    \"\"\"\n",
    "    print(\"🔧 Creating smoking risk categories...\")\n",
    "    \n",
    "    # Check for unknown smoking status\n",
    "    smoking_values = df.select(pl.col('smoking_status').unique()).to_series().to_list()\n",
    "    \n",
    "    df = df.with_columns([\n",
    "        # Handle unknown smoking status\n",
    "        (pl.col('smoking_status') == 'Unknown').cast(pl.Int32).alias('smoking_unknown')\n",
    "        if 'Unknown' in smoking_values else pl.lit(0).alias('smoking_unknown'),\n",
    "        \n",
    "        # Binary current smoker indicator\n",
    "        (pl.col('smoking_status') == 'smokes').cast(pl.Int32).alias('current_smoker'),\n",
    "        \n",
    "        # Former smoker indicator (still elevated risk)\n",
    "        (pl.col('smoking_status') == 'formerly smoked').cast(pl.Int32).alias('former_smoker'),\n",
    "        \n",
    "        # Any smoking history (current or former)\n",
    "        ((pl.col('smoking_status') == 'smokes') | \n",
    "         (pl.col('smoking_status') == 'formerly smoked')).cast(pl.Int32).alias('ever_smoker'),\n",
    "        \n",
    "        # Never smoker (reference category)\n",
    "        (pl.col('smoking_status') == 'never smoked').cast(pl.Int32).alias('never_smoker')\n",
    "    ])\n",
    "    \n",
    "    print(\"✅ Smoking risk categories created:\")\n",
    "    smoking_counts = df.select(pl.col('smoking_status').value_counts()).unnest('smoking_status')\n",
    "    print(smoking_counts)\n",
    "    \n",
    "    current_smoker_rate = df.select(pl.col('current_smoker').mean()).item()\n",
    "    ever_smoker_rate = df.select(pl.col('ever_smoker').mean()).item()\n",
    "    print(f\"\\n📊 Current smoker rate: {current_smoker_rate:.3f}\")\n",
    "    print(f\"📊 Ever smoker rate: {ever_smoker_rate:.3f}\")\n",
    "    \n",
    "    return df\n",
    "\n",
    "# Apply all basic feature engineering\n",
    "print(\"🔧 Creating evidence-based feature categories...\\n\")\n",
    "\n",
    "df = create_age_categories(df)\n",
    "df = create_bmi_categories(df)\n",
    "df = create_glucose_categories(df)\n",
    "df = create_smoking_risk_categories(df)\n",
    "\n",
    "print(\"\\n✅ Basic feature engineering completed!\")"
   ]
  },
  {
   "cell_type": "markdown",
   "metadata": {},
   "source": [
    "# ============================================================================\n",
    "# SECTION 3: CARDIOVASCULAR RISK PROFILE FEATURES\n",
    "# ============================================================================"
   ]
  },
  {
   "cell_type": "code",
   "execution_count": 10,
   "metadata": {},
   "outputs": [],
   "source": [
    "def create_cardiovascular_risk_profiles(df):\n",
    "    \"\"\"\n",
    "    Create composite cardiovascular risk features based on multiple risk factors.\n",
    "    \n",
    "    These features combine multiple risk factors as is common in clinical practice.\n",
    "    \"\"\"\n",
    "    print(\"🔧 Creating cardiovascular risk profiles...\")\n",
    "    \n",
    "    df = df.with_columns([\n",
    "        # Traditional risk factor count (0-4)\n",
    "        (pl.col('hypertension') + pl.col('heart_disease') + \n",
    "         pl.col('diabetes') + pl.col('current_smoker')).alias('cv_risk_count'),\n",
    "        \n",
    "        # Multiple modifiable risk factors\n",
    "        (pl.col('obesity') + pl.col('current_smoker') + pl.col('diabetes')).alias('modifiable_risk_count'),\n",
    "        \n",
    "        # Metabolic syndrome proxy (obesity + diabetes)\n",
    "        ((pl.col('obesity') == 1) & (pl.col('diabetes') == 1)).cast(pl.Int32).alias('metabolic_syndrome'),\n",
    "        \n",
    "        # Compound hypertension risk (hypertension + age 65+)\n",
    "        ((pl.col('hypertension') == 1) & \n",
    "         (pl.col('age_high_risk') == 1)).cast(pl.Int32).alias('hypertension_elderly'),\n",
    "        \n",
    "        # Triple threat (hypertension + heart disease + diabetes)\n",
    "        ((pl.col('hypertension') == 1) & \n",
    "         (pl.col('heart_disease') == 1) & \n",
    "         (pl.col('diabetes') == 1)).cast(pl.Int32).alias('triple_threat')\n",
    "    ])\n",
    "    \n",
    "    # High cardiovascular risk profile (2+ major risk factors)\n",
    "    df = df.with_columns([\n",
    "        (pl.col('cv_risk_count') >= 2).cast(pl.Int32).alias('high_cv_risk')\n",
    "    ])\n",
    "    \n",
    "    print(\"✅ Cardiovascular risk profiles created:\")\n",
    "    high_cv_risk_rate = df.select(pl.col('high_cv_risk').mean()).item()\n",
    "    metabolic_syndrome_rate = df.select(pl.col('metabolic_syndrome').mean()).item()\n",
    "    triple_threat_rate = df.select(pl.col('triple_threat').mean()).item()\n",
    "    \n",
    "    print(f\"📊 High CV risk (2+ factors): {high_cv_risk_rate:.3f}\")\n",
    "    print(f\"📊 Metabolic syndrome proxy: {metabolic_syndrome_rate:.3f}\")\n",
    "    print(f\"📊 Triple threat: {triple_threat_rate:.3f}\")\n",
    "    \n",
    "    return df\n",
    "\n",
    "def create_demographic_risk_features(df):\n",
    "    \"\"\"\n",
    "    Create demographic-based risk features.\n",
    "    \n",
    "    Gender and marital status interact with other risk factors.\n",
    "    \"\"\"\n",
    "    print(\"🔧 Creating demographic risk features...\")\n",
    "    \n",
    "    df = df.with_columns([\n",
    "        # Gender encoding\n",
    "        (pl.col('gender') == 'Male').cast(pl.Int32).alias('gender_male'),\n",
    "        (pl.col('gender') == 'Female').cast(pl.Int32).alias('gender_female'),\n",
    "        \n",
    "        # Marital status encoding\n",
    "        (pl.col('ever_married') == 'Yes').cast(pl.Int32).alias('married'),\n",
    "        \n",
    "        # Residence type encoding\n",
    "        (pl.col('Residence_type') == 'Urban').cast(pl.Int32).alias('urban_residence')\n",
    "    ])\n",
    "    \n",
    "    # Work type risk categories\n",
    "    df = df.with_columns([\n",
    "        pl.when(pl.col('work_type') == 'children').then(pl.lit(0))\n",
    "        .when(pl.col('work_type') == 'Never_worked').then(pl.lit(1))\n",
    "        .when(pl.col('work_type').is_in(['Self-employed', 'Govt_job'])).then(pl.lit(2))\n",
    "        .when(pl.col('work_type') == 'Private').then(pl.lit(3))\n",
    "        .otherwise(pl.lit(1))\n",
    "        .alias('work_stress_level'),\n",
    "        \n",
    "        # High-stress work indicator\n",
    "        (pl.col('work_type') == 'Private').cast(pl.Int32).alias('high_stress_work')\n",
    "    ])\n",
    "    \n",
    "    # Gender-specific risk interactions\n",
    "    df = df.with_columns([\n",
    "        # Male + smoking (higher risk)\n",
    "        ((pl.col('gender_male') == 1) & (pl.col('current_smoker') == 1)).cast(pl.Int32).alias('male_smoker'),\n",
    "        \n",
    "        # Female + elderly (different risk profile)\n",
    "        ((pl.col('gender_female') == 1) & (pl.col('age_high_risk') == 1)).cast(pl.Int32).alias('female_elderly')\n",
    "    ])\n",
    "    \n",
    "    print(\"✅ Demographic risk features created:\")\n",
    "    male_rate = df.select(pl.col('gender_male').mean()).item()\n",
    "    married_rate = df.select(pl.col('married').mean()).item()\n",
    "    urban_rate = df.select(pl.col('urban_residence').mean()).item()\n",
    "    \n",
    "    print(f\"📊 Male proportion: {male_rate:.3f}\")\n",
    "    print(f\"📊 Married proportion: {married_rate:.3f}\")\n",
    "    print(f\"📊 Urban residence: {urban_rate:.3f}\")\n",
    "    \n",
    "    return df"
   ]
  },
  {
   "cell_type": "code",
   "execution_count": 11,
   "metadata": {},
   "outputs": [
    {
     "name": "stdout",
     "output_type": "stream",
     "text": [
      "\n",
      "🔧 Creating cardiovascular risk profiles...\n",
      "\n",
      "🔧 Creating cardiovascular risk profiles...\n",
      "✅ Cardiovascular risk profiles created:\n",
      "📊 High CV risk (2+ factors): 0.098\n",
      "📊 Metabolic syndrome proxy: 0.103\n",
      "📊 Triple threat: 0.007\n",
      "🔧 Creating demographic risk features...\n",
      "✅ Demographic risk features created:\n",
      "📊 Male proportion: 0.414\n",
      "📊 Married proportion: 0.656\n",
      "📊 Urban residence: 0.508\n",
      "\n",
      "✅ Risk profile features completed!\n"
     ]
    }
   ],
   "source": [
    "# Apply risk profile feature engineering\n",
    "print(\"\\n🔧 Creating cardiovascular risk profiles...\\n\")\n",
    "\n",
    "df = create_cardiovascular_risk_profiles(df)\n",
    "df = create_demographic_risk_features(df)\n",
    "\n",
    "print(\"\\n✅ Risk profile features completed!\")"
   ]
  },
  {
   "cell_type": "markdown",
   "metadata": {},
   "source": [
    "# ============================================================================\n",
    "# SECTION 4: INTERACTION FEATURES\n",
    "# ============================================================================"
   ]
  },
  {
   "cell_type": "code",
   "execution_count": 12,
   "metadata": {},
   "outputs": [],
   "source": [
    "def create_interaction_features(df):\n",
    "    \"\"\"\n",
    "    Create interaction features based on medical evidence.\n",
    "    \n",
    "    Some risk factors have synergistic effects that are important to capture.\n",
    "    \"\"\"\n",
    "    print(\"🔧 Creating interaction features based on medical evidence...\\n\")\n",
    "    \n",
    "    df = df.with_columns([\n",
    "        # Age interactions (age amplifies other risk factors)\n",
    "        (pl.col('age') * pl.col('hypertension')).alias('age_hypertension'),\n",
    "        (pl.col('age') * pl.col('diabetes')).alias('age_diabetes'),\n",
    "        (pl.col('age') * pl.col('obesity')).alias('age_obesity'),\n",
    "        (pl.col('age') * pl.col('current_smoker')).alias('age_smoking'),\n",
    "        \n",
    "        # BMI interactions\n",
    "        (pl.col('bmi') * pl.col('hypertension')).alias('bmi_hypertension'),\n",
    "        (pl.col('bmi') * pl.col('diabetes')).alias('bmi_diabetes'),\n",
    "        (pl.col('bmi') * pl.col('avg_glucose_level')).alias('bmi_glucose'),\n",
    "        \n",
    "        # Glucose interactions\n",
    "        (pl.col('avg_glucose_level') * pl.col('hypertension')).alias('glucose_hypertension'),\n",
    "        (pl.col('avg_glucose_level') * pl.col('heart_disease')).alias('glucose_heart_disease'),\n",
    "        \n",
    "        # Gender-specific interactions\n",
    "        (pl.col('gender_male') * pl.col('age')).alias('male_age_interaction'),\n",
    "        (pl.col('gender_male') * pl.col('hypertension')).alias('male_hypertension'),\n",
    "        (pl.col('gender_female') * pl.col('diabetes')).alias('female_diabetes'),\n",
    "        \n",
    "        # Compound risk interactions\n",
    "        (pl.col('hypertension') * pl.col('diabetes')).alias('hypertension_diabetes'),\n",
    "        (pl.col('hypertension') * pl.col('heart_disease')).alias('hypertension_heart_disease'),\n",
    "        (pl.col('diabetes') * pl.col('obesity')).alias('diabetes_obesity'),\n",
    "        \n",
    "        # Complex three-way interactions (most important clinically)\n",
    "        (pl.col('age') * pl.col('hypertension') * pl.col('diabetes')).alias('age_hypertension_diabetes'),\n",
    "        (pl.col('obesity') * pl.col('diabetes') * pl.col('hypertension')).alias('obesity_diabetes_hypertension')\n",
    "    ])\n",
    "    \n",
    "    # Count interaction features created\n",
    "    all_columns = df.columns\n",
    "    interaction_features = [col for col in all_columns if '_' in col and \n",
    "                          col not in ['age_group', 'bmi_category', 'glucose_category', \n",
    "                                    'smoking_status', 'work_type', 'Residence_type',\n",
    "                                    'ever_married', 'avg_glucose_level', 'cv_risk_count',\n",
    "                                    'modifiable_risk_count', 'work_stress_level',\n",
    "                                    'age_high_risk', 'age_decade']]\n",
    "    \n",
    "    print(f\"✅ Created {len(interaction_features)} interaction features\")\n",
    "    print(\"📋 Key interaction features:\")\n",
    "    for feature in interaction_features[:10]:  # Show first 10\n",
    "        print(f\"   • {feature}\")\n",
    "    \n",
    "    return df"
   ]
  },
  {
   "cell_type": "code",
   "execution_count": 13,
   "metadata": {},
   "outputs": [
    {
     "name": "stdout",
     "output_type": "stream",
     "text": [
      "🔧 Creating interaction features based on medical evidence...\n",
      "\n",
      "✅ Created 35 interaction features\n",
      "📋 Key interaction features:\n",
      "   • heart_disease\n",
      "   • extreme_obesity\n",
      "   • severe_hyperglycemia\n",
      "   • smoking_unknown\n",
      "   • current_smoker\n",
      "   • former_smoker\n",
      "   • ever_smoker\n",
      "   • never_smoker\n",
      "   • metabolic_syndrome\n",
      "   • hypertension_elderly\n",
      "\n",
      "✅ Interaction features completed!\n"
     ]
    }
   ],
   "source": [
    "# Apply interaction feature engineering\n",
    "df = create_interaction_features(df)\n",
    "\n",
    "print(\"\\n✅ Interaction features completed!\")"
   ]
  },
  {
   "cell_type": "markdown",
   "metadata": {},
   "source": [
    "# ============================================================================\n",
    "# SECTION 5: FEATURE VALIDATION AND IMPORTANCE ANALYSIS\n",
    "# ============================================================================"
   ]
  },
  {
   "cell_type": "code",
   "execution_count": 73,
   "metadata": {},
   "outputs": [],
   "source": [
    "def validate_new_features(df, target_col='stroke'):\n",
    "    \"\"\"\n",
    "    Validate newly created features by testing their association with the target.\n",
    "    \n",
    "    Parameters:\n",
    "    -----------\n",
    "    df : polars.DataFrame\n",
    "        Dataset with new features\n",
    "    target_col : str\n",
    "        Name of target variable\n",
    "        \n",
    "    Returns:\n",
    "    --------\n",
    "    polars.DataFrame\n",
    "        Feature importance scores and statistics\n",
    "    \"\"\"\n",
    "    print(\"🔍 Validating new features against stroke outcome...\\n\")\n",
    "    \n",
    "    # Identify new features (exclude original columns)\n",
    "    original_cols = ['id', 'gender', 'age', 'hypertension', 'heart_disease', \n",
    "                    'ever_married', 'work_type', 'Residence_type', \n",
    "                    'avg_glucose_level', 'bmi', 'smoking_status', 'stroke']\n",
    "    \n",
    "    new_features = [col for col in df.columns if col not in original_cols]\n",
    "    \n",
    "    # Convert to pandas for statistical analysis (easier with scipy)\n",
    "    df_pd = df.to_pandas()\n",
    "    \n",
    "    # Prepare results storage\n",
    "    results = []\n",
    "    \n",
    "    y = df_pd[target_col]\n",
    "    \n",
    "    for feature in new_features:\n",
    "        try:\n",
    "            x = df_pd[feature]\n",
    "            \n",
    "            # Skip if feature has no variation\n",
    "            if x.nunique() <= 1:\n",
    "                continue\n",
    "            \n",
    "            # Determine if feature is binary/categorical or continuous\n",
    "            if x.dtype in ['int64', 'float64'] and x.nunique() > 10:\n",
    "                # Continuous feature - use point-biserial correlation\n",
    "                correlation, p_value = stats.pointbiserialr(y, x)\n",
    "                test_type = 'Point-Biserial'\n",
    "                statistic = correlation\n",
    "                \n",
    "                # Also calculate mutual information\n",
    "                mi_score = mutual_info_classif(x.values.reshape(-1, 1), y)[0]\n",
    "                \n",
    "            else:\n",
    "                # Categorical/binary feature - use chi-square test\n",
    "                try:\n",
    "                    # Create crosstab using pandas\n",
    "                    import pandas as pd\n",
    "                    crosstab_pd = pd.crosstab(x, y)\n",
    "                    \n",
    "                    if crosstab_pd.shape[0] > 1 and crosstab_pd.shape[1] > 1:\n",
    "                        chi2_stat, p_value, dof, expected = chi2_contingency(crosstab_pd)\n",
    "                        statistic = chi2_stat\n",
    "                        test_type = 'Chi-Square'\n",
    "                        \n",
    "                        # Calculate Cramér's V for effect size\n",
    "                        n = crosstab_pd.sum().sum()\n",
    "                        cramers_v = np.sqrt(chi2_stat / (n * (min(crosstab_pd.shape) - 1)))\n",
    "                        mi_score = cramers_v\n",
    "                    else:\n",
    "                        continue\n",
    "                except Exception as e:\n",
    "                    print(f\"⚠️  Chi-square test failed for {feature}: {e}\")\n",
    "                    continue\n",
    "            \n",
    "            # Calculate odds ratio for binary features\n",
    "            if x.nunique() == 2 and y.nunique() == 2:\n",
    "                try:\n",
    "                    import pandas as pd\n",
    "                    crosstab_table = pd.crosstab(x, y)\n",
    "                    odds_ratio, fisher_p = fisher_exact(crosstab_table)\n",
    "                except Exception as e:\n",
    "                    print(f\"⚠️  Odds ratio calculation failed for {feature}: {e}\")\n",
    "                    odds_ratio = np.nan\n",
    "            else:\n",
    "                odds_ratio = np.nan\n",
    "            \n",
    "            results.append({\n",
    "                'feature': feature,\n",
    "                'test_type': test_type,\n",
    "                'statistic': statistic,\n",
    "                'p_value': p_value,\n",
    "                'mutual_info': mi_score,\n",
    "                'odds_ratio': odds_ratio,\n",
    "                'stroke_rate_feature_1': y[x == 1].mean() if x.nunique() == 2 else np.nan,\n",
    "                'stroke_rate_feature_0': y[x == 0].mean() if x.nunique() == 2 else np.nan\n",
    "            })\n",
    "            \n",
    "        except Exception as e:\n",
    "            print(f\"⚠️  Error processing {feature}: {e}\")\n",
    "            continue\n",
    "    \n",
    "    if not results:\n",
    "        print(\"⚠️  No features could be validated. Creating empty results.\")\n",
    "        return pl.DataFrame({\n",
    "            'feature': [],\n",
    "            'test_type': [],\n",
    "            'statistic': [],\n",
    "            'p_value': [],\n",
    "            'mutual_info': [],\n",
    "            'odds_ratio': [],\n",
    "            'stroke_rate_feature_1': [],\n",
    "            'stroke_rate_feature_0': [],\n",
    "            'p_value_corrected': [],\n",
    "            'significant_bonferroni': []\n",
    "        })\n",
    "    \n",
    "    # Create results DataFrame with Polars\n",
    "    results_df = pl.DataFrame(results)\n",
    "    \n",
    "    # Sort by mutual information score (proxy for feature importance)\n",
    "    results_df = results_df.sort('mutual_info', descending=True)\n",
    "    \n",
    "    # Apply Bonferroni correction for multiple testing\n",
    "    try:\n",
    "        from statsmodels.stats.multitest import multipletests\n",
    "        p_values = results_df.select(pl.col('p_value')).to_series().to_list()\n",
    "        rejected, pvals_corrected, alpha_sidak, alpha_bonf = multipletests(p_values, method='bonferroni')\n",
    "        \n",
    "        results_df = results_df.with_columns([\n",
    "            pl.Series('p_value_corrected', pvals_corrected),\n",
    "            pl.Series('significant_bonferroni', rejected)\n",
    "        ])\n",
    "        \n",
    "        print(f\"✅ Validated {len(results_df)} new features\")\n",
    "        print(f\"📊 Significant features (p < 0.05, Bonferroni): {sum(rejected)}\")\n",
    "    except Exception as e:\n",
    "        print(f\"⚠️  Bonferroni correction failed: {e}\")\n",
    "        results_df = results_df.with_columns([\n",
    "            pl.lit(None).alias('p_value_corrected'),\n",
    "            pl.lit(False).alias('significant_bonferroni')\n",
    "        ])\n",
    "    \n",
    "    return results_df"
   ]
  },
  {
   "cell_type": "code",
   "execution_count": 74,
   "metadata": {},
   "outputs": [],
   "source": [
    "def plot_feature_importance(results_df, top_n=15):\n",
    "    \"\"\"\n",
    "    Plot feature importance based on mutual information scores.\n",
    "    \"\"\"\n",
    "    # Convert to pandas for plotting\n",
    "    results_pd = results_df.to_pandas()\n",
    "    \n",
    "    # Create subplots\n",
    "    fig, ((ax1, ax2), (ax3, ax4)) = plt.subplots(2, 2, figsize=(16, 12))\n",
    "    \n",
    "    # 1. Top features by mutual information\n",
    "    top_features = results_pd.head(top_n)\n",
    "    \n",
    "    bars = ax1.barh(range(len(top_features)), top_features['mutual_info'])\n",
    "    ax1.set_yticks(range(len(top_features)))\n",
    "    ax1.set_yticklabels(top_features['feature'], fontsize=10)\n",
    "    ax1.set_xlabel('Mutual Information Score')\n",
    "    ax1.set_title(f'Top {top_n} Features by Mutual Information')\n",
    "    ax1.grid(axis='x', alpha=0.3)\n",
    "    \n",
    "    # Color bars by significance\n",
    "    for i, (_, row) in enumerate(top_features.iterrows()):\n",
    "        if row['significant_bonferroni']:\n",
    "            bars[i].set_color('darkgreen')\n",
    "        else:\n",
    "            bars[i].set_color('lightblue')\n",
    "    \n",
    "    # 2. P-value distribution\n",
    "    ax2.hist(results_pd['p_value'], bins=20, alpha=0.7, color='skyblue', edgecolor='black')\n",
    "    ax2.axvline(0.05, color='red', linestyle='--', label='α = 0.05')\n",
    "    ax2.axvline(0.05/len(results_pd), color='orange', linestyle='--', \n",
    "               label='Bonferroni corrected')\n",
    "    ax2.set_xlabel('P-value')\n",
    "    ax2.set_ylabel('Count')\n",
    "    ax2.set_title('Distribution of P-values')\n",
    "    ax2.legend()\n",
    "    ax2.grid(alpha=0.3)\n",
    "    \n",
    "    # 3. Odds ratios for binary features\n",
    "    binary_features = results_pd[~results_pd['odds_ratio'].isna()]\n",
    "    if len(binary_features) > 0:\n",
    "        # Filter reasonable odds ratios for visualization\n",
    "        plot_features = binary_features[\n",
    "            (binary_features['odds_ratio'] > 0.1) & \n",
    "            (binary_features['odds_ratio'] < 10)\n",
    "        ].head(15)\n",
    "        \n",
    "        colors = ['red' if or_val > 1 else 'blue' for or_val in plot_features['odds_ratio']]\n",
    "        bars = ax3.barh(range(len(plot_features)), plot_features['odds_ratio'], color=colors, alpha=0.7)\n",
    "        ax3.set_yticks(range(len(plot_features)))\n",
    "        ax3.set_yticklabels(plot_features['feature'], fontsize=9)\n",
    "        ax3.axvline(1, color='black', linestyle='-', alpha=0.5)\n",
    "        ax3.set_xlabel('Odds Ratio')\n",
    "        ax3.set_title('Odds Ratios for Binary Features')\n",
    "        ax3.set_xscale('log')\n",
    "        ax3.grid(axis='x', alpha=0.3)\n",
    "    \n",
    "    # 4. Statistical significance overview\n",
    "    sig_counts = results_pd['significant_bonferroni'].value_counts()\n",
    "    ax4.pie(sig_counts.values, labels=['Not Significant', 'Significant'], \n",
    "           autopct='%1.1f%%', colors=['lightcoral', 'lightgreen'])\n",
    "    ax4.set_title('Statistical Significance (Bonferroni Corrected)')\n",
    "    \n",
    "    plt.tight_layout()\n",
    "    plt.show()\n",
    "    \n",
    "    return fig"
   ]
  },
  {
   "cell_type": "code",
   "execution_count": 75,
   "metadata": {},
   "outputs": [
    {
     "name": "stdout",
     "output_type": "stream",
     "text": [
      "🔍 Validating new features against stroke outcome...\n",
      "\n",
      "✅ Validated 47 new features\n",
      "📊 Significant features (p < 0.05, Bonferroni): 36\n",
      "\n",
      "📊 TOP 15 MOST IMPORTANT FEATURES:\n",
      "============================================================\n",
      "shape: (15, 6)\n",
      "┌───────────────────┬────────────┬─────────────┬────────────┬───────────────────┬──────────────────┐\n",
      "│ feature           ┆ test_type  ┆ mutual_info ┆ p_value    ┆ p_value_corrected ┆ significant_bonf │\n",
      "│ ---               ┆ ---        ┆ ---         ┆ ---        ┆ ---               ┆ erroni           │\n",
      "│ str               ┆ str        ┆ f64         ┆ f64        ┆ f64               ┆ ---              │\n",
      "│                   ┆            ┆             ┆            ┆                   ┆ bool             │\n",
      "╞═══════════════════╪════════════╪═════════════╪════════════╪═══════════════════╪══════════════════╡\n",
      "│ age_decade        ┆ Chi-Square ┆ 0.280028    ┆ 1.3251e-81 ┆ 6.2280e-80        ┆ true             │\n",
      "│ age_group         ┆ Chi-Square ┆ 0.279494    ┆ 3.3371e-86 ┆ 1.5684e-84        ┆ true             │\n",
      "│ age_high_risk     ┆ Chi-Square ┆ 0.246002    ┆ 3.1947e-69 ┆ 1.5015e-67        ┆ true             │\n",
      "│ cv_risk_count     ┆ Chi-Square ┆ 0.182443    ┆ 1.0010e-35 ┆ 4.7048e-34        ┆ true             │\n",
      "│ female_elderly    ┆ Chi-Square ┆ 0.175987    ┆ 2.7101e-36 ┆ 1.2738e-34        ┆ true             │\n",
      "│ …                 ┆ …          ┆ …           ┆ …          ┆ …                 ┆ …                │\n",
      "│ hypertension_diab ┆ Chi-Square ┆ 0.108377    ┆ 9.3927e-15 ┆ 4.4145e-13        ┆ true             │\n",
      "│ etes              ┆            ┆             ┆            ┆                   ┆                  │\n",
      "│ married           ┆ Chi-Square ┆ 0.107383    ┆ 1.6389e-14 ┆ 7.7028e-13        ┆ true             │\n",
      "│ metabolic_syndrom ┆ Chi-Square ┆ 0.10682     ┆ 2.2416e-14 ┆ 1.0536e-12        ┆ true             │\n",
      "│ e                 ┆            ┆             ┆            ┆                   ┆                  │\n",
      "│ diabetes_obesity  ┆ Chi-Square ┆ 0.10682     ┆ 2.2416e-14 ┆ 1.0536e-12        ┆ true             │\n",
      "│ modifiable_risk_c ┆ Chi-Square ┆ 0.097109    ┆ 1.9424e-10 ┆ 9.1293e-9         ┆ true             │\n",
      "│ ount              ┆            ┆             ┆            ┆                   ┆                  │\n",
      "└───────────────────┴────────────┴─────────────┴────────────┴───────────────────┴──────────────────┘\n",
      "\n",
      "📈 Creating feature importance visualizations...\n"
     ]
    },
    {
     "data": {
      "image/png": "[encoded data removed]",
      "text/plain": [
       "<Figure size 1600x1200 with 4 Axes>"
      ]
     },
     "metadata": {},
     "output_type": "display_data"
    }
   ],
   "source": [
    "# Validate all new features\n",
    "try:\n",
    "    feature_validation = validate_new_features(df)\n",
    "    \n",
    "    # Display top features if validation was successful\n",
    "    if feature_validation.shape[0] > 0:\n",
    "        print(\"\\n📊 TOP 15 MOST IMPORTANT FEATURES:\")\n",
    "        print(\"=\"*60)\n",
    "        display_cols = ['feature', 'test_type', 'mutual_info', 'p_value', 'p_value_corrected', 'significant_bonferroni']\n",
    "        print(feature_validation.select(display_cols).head(15))\n",
    "        \n",
    "        # Plot feature importance\n",
    "        print(\"\\n📈 Creating feature importance visualizations...\")\n",
    "        plot_feature_importance(feature_validation)\n",
    "    else:\n",
    "        print(\"⚠️  No features were successfully validated.\")\n",
    "        \n",
    "except Exception as e:\n",
    "    print(f\"❌ Error in feature validation: {e}\")\n",
    "    print(\"Creating empty feature validation results...\")\n",
    "    feature_validation = pl.DataFrame({\n",
    "        'feature': [],\n",
    "        'test_type': [],\n",
    "        'statistic': [],\n",
    "        'p_value': [],\n",
    "        'mutual_info': [],\n",
    "        'odds_ratio': [],\n",
    "        'stroke_rate_feature_1': [],\n",
    "        'stroke_rate_feature_0': [],\n",
    "        'p_value_corrected': [],\n",
    "        'significant_bonferroni': []\n",
    "    })"
   ]
  },
  {
   "cell_type": "markdown",
   "metadata": {},
   "source": [
    "# ============================================================================\n",
    "# SECTION 6: FEATURE SELECTION AND DIMENSIONALITY ANALYSIS\n",
    "# ============================================================================"
   ]
  },
  {
   "cell_type": "code",
   "execution_count": 76,
   "metadata": {},
   "outputs": [],
   "source": [
    "def select_best_features_simple(df, target_col='stroke'):\n",
    "    \"\"\"\n",
    "    Apply feature selection methods using only features that exist in the original dataframe.\n",
    "    \n",
    "    Parameters:\n",
    "    -----------\n",
    "    df : polars.DataFrame\n",
    "        Dataset with all features\n",
    "    target_col : str\n",
    "        Target variable name\n",
    "        \n",
    "    Returns:\n",
    "    --------\n",
    "    dict\n",
    "        Results from feature selection\n",
    "    \"\"\"\n",
    "    print(\"🎯 Applying simplified feature selection...\\n\")\n",
    "    \n",
    "    try:\n",
    "        # Get all features except target and id\n",
    "        all_cols = [col for col in df.columns if col not in [target_col, 'id']]\n",
    "        \n",
    "        # Convert to pandas to check dtypes more reliably\n",
    "        df_pd = df.to_pandas()\n",
    "        \n",
    "        # Get numeric features using pandas dtype detection\n",
    "        numeric_cols = []\n",
    "        for col in all_cols:\n",
    "            if col in df_pd.columns:\n",
    "                dtype = df_pd[col].dtype\n",
    "                if dtype in ['int32', 'int64', 'float32', 'float64'] or str(dtype).startswith('int') or str(dtype).startswith('float'):\n",
    "                    numeric_cols.append(col)\n",
    "        \n",
    "        print(f\"   📊 Found {len(numeric_cols)} numeric features for selection\")\n",
    "        \n",
    "        if len(numeric_cols) > 0:\n",
    "            print(f\"   📋 Numeric features: {numeric_cols[:10]}...\")  # Show first 10\n",
    "        \n",
    "        if not numeric_cols:\n",
    "            print(\"   ⚠️  No numeric features found, using basic features\")\n",
    "            basic_features = ['age', 'hypertension', 'heart_disease', 'avg_glucose_level', 'bmi']\n",
    "            available_features = [f for f in basic_features if f in df.columns]\n",
    "            \n",
    "            return {\n",
    "                'combined': pl.DataFrame({\n",
    "                    'feature': available_features,\n",
    "                    'combined_score': np.linspace(1.0, 0.1, len(available_features))\n",
    "                })\n",
    "            }\n",
    "        \n",
    "        # Prepare data for sklearn\n",
    "        X = df_pd[numeric_cols]\n",
    "        y = df_pd[target_col]\n",
    "        \n",
    "        # Fill missing values\n",
    "        X = X.fillna(X.median())\n",
    "        \n",
    "        results = {}\n",
    "        \n",
    "        # 1. Mutual Information\n",
    "        print(\"🔍 Mutual Information feature selection...\")\n",
    "        try:\n",
    "            mi_scores = mutual_info_classif(X, y, random_state=42)\n",
    "            mi_results = pl.DataFrame({\n",
    "                'feature': numeric_cols,\n",
    "                'mutual_info_score': mi_scores\n",
    "            }).sort('mutual_info_score', descending=True)\n",
    "            \n",
    "            results['mutual_info'] = mi_results\n",
    "            top_feature = mi_results.head(1).select(['feature', 'mutual_info_score']).row(0)\n",
    "            print(f\"   Top feature: {top_feature[0]} (score: {top_feature[1]:.4f})\")\n",
    "        except Exception as e:\n",
    "            print(f\"   ⚠️  Mutual Information failed: {e}\")\n",
    "        \n",
    "        # 2. Logistic Regression Coefficients\n",
    "        print(\"🔍 Logistic regression coefficient analysis...\")\n",
    "        try:\n",
    "            # Standardize features\n",
    "            scaler = StandardScaler()\n",
    "            X_scaled = scaler.fit_transform(X)\n",
    "            \n",
    "            # Fit logistic regression\n",
    "            lr = LogisticRegression(C=1.0, penalty='l1', solver='liblinear', random_state=42, max_iter=1000)\n",
    "            lr.fit(X_scaled, y)\n",
    "            \n",
    "            lr_results = pl.DataFrame({\n",
    "                'feature': numeric_cols,\n",
    "                'coefficient': lr.coef_[0],\n",
    "                'abs_coefficient': np.abs(lr.coef_[0])\n",
    "            }).sort('abs_coefficient', descending=True)\n",
    "            \n",
    "            results['logistic_coef'] = lr_results\n",
    "            top_feature = lr_results.head(1).select(['feature', 'abs_coefficient']).row(0)\n",
    "            print(f\"   Top feature: {top_feature[0]} (|coef|: {top_feature[1]:.4f})\")\n",
    "        except Exception as e:\n",
    "            print(f\"   ⚠️  Logistic regression failed: {e}\")\n",
    "        \n",
    "        # 3. Combine rankings\n",
    "        if results:\n",
    "            print(\"\\n🔄 Combining feature rankings...\")\n",
    "            combined_ranking = combine_feature_rankings(results)\n",
    "            results['combined'] = combined_ranking\n",
    "            \n",
    "            print(f\"✅ Successfully selected {len(combined_ranking)} features\")\n",
    "        else:\n",
    "            print(\"⚠️  No feature selection methods succeeded\")\n",
    "            # Create basic results\n",
    "            top_features = numeric_cols[:15]  # Take top 15 features\n",
    "            results['combined'] = pl.DataFrame({\n",
    "                'feature': top_features,\n",
    "                'combined_score': np.linspace(1.0, 0.1, len(top_features))\n",
    "            })\n",
    "        \n",
    "        return results\n",
    "        \n",
    "    except Exception as e:\n",
    "        print(f\"⚠️  Feature selection failed: {e}\")\n",
    "        # Return very basic results\n",
    "        basic_features = ['age', 'hypertension', 'heart_disease', 'avg_glucose_level', 'bmi']\n",
    "        available_features = [f for f in basic_features if f in df.columns]\n",
    "        \n",
    "        return {\n",
    "            'combined': pl.DataFrame({\n",
    "                'feature': available_features,\n",
    "                'combined_score': np.linspace(1.0, 0.1, len(available_features))\n",
    "            })\n",
    "        }"
   ]
  },
  {
   "cell_type": "code",
   "execution_count": 77,
   "metadata": {},
   "outputs": [],
   "source": [
    "def combine_feature_rankings(selection_results):\n",
    "    \"\"\"\n",
    "    Combine rankings from multiple feature selection methods.\n",
    "    \"\"\"\n",
    "    # Get all unique features\n",
    "    all_features = set()\n",
    "    for method_results in selection_results.values():\n",
    "        features = method_results.select('feature').to_series().to_list()\n",
    "        all_features.update(features)\n",
    "    \n",
    "    all_features = list(all_features)\n",
    "    \n",
    "    # Create combined ranking\n",
    "    combined_scores = []\n",
    "    \n",
    "    for feature in all_features:\n",
    "        scores = {}\n",
    "        \n",
    "        # Get rank from each method (lower rank = better)\n",
    "        for method, results_df in selection_results.items():\n",
    "            feature_list = results_df.select('feature').to_series().to_list()\n",
    "            if feature in feature_list:\n",
    "                rank = feature_list.index(feature) + 1\n",
    "                scores[method] = 1.0 / rank  # Convert to score (higher = better)\n",
    "            else:\n",
    "                scores[method] = 0\n",
    "        \n",
    "        # Average the scores\n",
    "        avg_score = np.mean(list(scores.values()))\n",
    "        score_dict = {\n",
    "            'feature': feature,\n",
    "            'combined_score': avg_score,\n",
    "            **scores\n",
    "        }\n",
    "        combined_scores.append(score_dict)\n",
    "    \n",
    "    combined_df = pl.DataFrame(combined_scores).sort('combined_score', descending=True)\n",
    "    return combined_df"
   ]
  },
  {
   "cell_type": "code",
   "execution_count": 78,
   "metadata": {},
   "outputs": [
    {
     "name": "stdout",
     "output_type": "stream",
     "text": [
      "🎯 Applying simplified feature selection...\n",
      "\n",
      "   📊 Found 49 numeric features for selection\n",
      "   📋 Numeric features: ['age', 'hypertension', 'heart_disease', 'avg_glucose_level', 'bmi', 'age_high_risk', 'age_decade', 'obesity', 'extreme_obesity', 'underweight']...\n",
      "🔍 Mutual Information feature selection...\n",
      "   Top feature: age (score: 0.0377)\n",
      "🔍 Logistic regression coefficient analysis...\n",
      "   Top feature: age (|coef|: 2.4209)\n",
      "\n",
      "🔄 Combining feature rankings...\n",
      "✅ Successfully selected 49 features\n",
      "\n",
      "🏆 TOP 20 FEATURES (COMBINED RANKING):\n",
      "======================================================================\n",
      "shape: (20, 4)\n",
      "┌───────────────────┬────────────────┬─────────────┬───────────────┐\n",
      "│ feature           ┆ combined_score ┆ mutual_info ┆ logistic_coef │\n",
      "│ ---               ┆ ---            ┆ ---         ┆ ---           │\n",
      "│ str               ┆ f64            ┆ f64         ┆ f64           │\n",
      "╞═══════════════════╪════════════════╪═════════════╪═══════════════╡\n",
      "│ age               ┆ 1.0            ┆ 1.0         ┆ 1.0           │\n",
      "│ age_decade        ┆ 0.3125         ┆ 0.5         ┆ 0.125         │\n",
      "│ hypertension      ┆ 0.271739       ┆ 0.043478    ┆ 0.5           │\n",
      "│ age_high_risk     ┆ 0.216667       ┆ 0.333333    ┆ 0.1           │\n",
      "│ work_stress_level ┆ 0.202381       ┆ 0.071429    ┆ 0.333333      │\n",
      "│ …                 ┆ …              ┆ …           ┆ …             │\n",
      "│ gender_male       ┆ 0.071685       ┆ 0.032258    ┆ 0.111111      │\n",
      "│ heart_disease     ┆ 0.070833       ┆ 0.1         ┆ 0.041667      │\n",
      "│ bmi               ┆ 0.069444       ┆ 0.055556    ┆ 0.083333      │\n",
      "│ avg_glucose_level ┆ 0.059524       ┆ 0.047619    ┆ 0.071429      │\n",
      "│ gender_female     ┆ 0.056093       ┆ 0.021277    ┆ 0.090909      │\n",
      "└───────────────────┴────────────────┴─────────────┴───────────────┘\n"
     ]
    }
   ],
   "source": [
    "try:\n",
    "    selection_results = select_best_features_simple(df)\n",
    "    \n",
    "    # Display combined results if successful\n",
    "    if 'combined' in selection_results and selection_results['combined'].shape[0] > 0:\n",
    "        print(\"\\n🏆 TOP 20 FEATURES (COMBINED RANKING):\")\n",
    "        print(\"=\"*70)\n",
    "        print(selection_results['combined'].head(20))\n",
    "    else:\n",
    "        print(\"⚠️  Feature selection did not produce results.\")\n",
    "        \n",
    "except Exception as e:\n",
    "    print(f\"❌ Error in feature selection: {e}\")\n",
    "    print(\"Creating default selection results...\")\n",
    "    # Create minimal selection results for basic features\n",
    "    basic_features = ['age', 'hypertension', 'heart_disease', 'avg_glucose_level', 'bmi']\n",
    "    available_features = [f for f in basic_features if f in df.columns]\n",
    "    selection_results = {\n",
    "        'combined': pl.DataFrame({\n",
    "            'feature': available_features,\n",
    "            'combined_score': [0.8, 0.6, 0.5, 0.4, 0.3][:len(available_features)]\n",
    "        })\n",
    "    }"
   ]
  },
  {
   "cell_type": "markdown",
   "metadata": {},
   "source": [
    "# ============================================================================\n",
    "# SECTION 7: FEATURE IMPORTANCE VISUALIZATION\n",
    "# ============================================================================"
   ]
  },
  {
   "cell_type": "code",
   "execution_count": 79,
   "metadata": {},
   "outputs": [],
   "source": [
    "def create_comprehensive_feature_plots(selection_results, df, target_col='stroke'):\n",
    "    \"\"\"\n",
    "    Create comprehensive visualizations for feature analysis.\n",
    "    \"\"\"\n",
    "    # Check which methods are available\n",
    "    available_methods = list(selection_results.keys())\n",
    "    method_count = len(available_methods)\n",
    "    \n",
    "    if method_count == 0:\n",
    "        print(\"⚠️  No feature selection results available for plotting.\")\n",
    "        return None\n",
    "    \n",
    "    # Create dynamic subplot layout based on available methods\n",
    "    if method_count == 1:\n",
    "        rows, cols = 1, 1\n",
    "        subplot_titles = ['Feature Ranking']\n",
    "    elif method_count == 2:\n",
    "        rows, cols = 1, 2\n",
    "        subplot_titles = []\n",
    "    elif method_count == 3:\n",
    "        rows, cols = 2, 2\n",
    "        subplot_titles = []\n",
    "    else:\n",
    "        rows, cols = 2, 2\n",
    "        subplot_titles = []\n",
    "    \n",
    "    # Build subplot titles based on available methods\n",
    "    title_mapping = {\n",
    "        'mutual_info': 'Top Features by Mutual Information',\n",
    "        'chi2': 'Top Features by Chi-Square',\n",
    "        'logistic_coef': 'Top Features by Logistic Regression',\n",
    "        'combined': 'Combined Feature Ranking'\n",
    "    }\n",
    "    \n",
    "    subplot_titles = [title_mapping.get(method, method) for method in available_methods[:4]]\n",
    "    \n",
    "    # Create plotly subplots\n",
    "    fig = make_subplots(\n",
    "        rows=rows, cols=cols,\n",
    "        subplot_titles=subplot_titles,\n",
    "        specs=[[{\"type\": \"bar\"} for _ in range(cols)] for _ in range(rows)]\n",
    "    )\n",
    "    \n",
    "    # Colors for consistency\n",
    "    colors = ['#1f77b4', '#ff7f0e', '#2ca02c', '#d62728', '#9467bd']\n",
    "    \n",
    "    # Plot available methods\n",
    "    plot_positions = [(1, 1), (1, 2), (2, 1), (2, 2)]\n",
    "    \n",
    "    for i, method in enumerate(available_methods[:4]):\n",
    "        try:\n",
    "            # Convert to pandas for plotting\n",
    "            method_data = selection_results[method].head(10).to_pandas()\n",
    "            \n",
    "            # Determine what to plot based on method\n",
    "            if method == 'mutual_info':\n",
    "                x_col = 'mutual_info_score'\n",
    "            elif method == 'chi2':\n",
    "                x_col = 'chi2_score'\n",
    "            elif method == 'logistic_coef':\n",
    "                x_col = 'abs_coefficient'\n",
    "            elif method == 'combined':\n",
    "                x_col = 'combined_score'\n",
    "            else:\n",
    "                # Try to find a numeric column\n",
    "                numeric_cols = method_data.select_dtypes(include=[np.number]).columns\n",
    "                x_col = numeric_cols[0] if len(numeric_cols) > 0 else 'feature'\n",
    "            \n",
    "            if x_col in method_data.columns:\n",
    "                row, col = plot_positions[i]\n",
    "                fig.add_trace(\n",
    "                    go.Bar(x=method_data[x_col], \n",
    "                           y=method_data['feature'],\n",
    "                           orientation='h',\n",
    "                           name=method,\n",
    "                           marker_color=colors[i % len(colors)],\n",
    "                           showlegend=False),\n",
    "                    row=row, col=col\n",
    "                )\n",
    "            \n",
    "        except Exception as e:\n",
    "            print(f\"⚠️  Error plotting {method}: {e}\")\n",
    "            continue\n",
    "    \n",
    "    # Update layout\n",
    "    fig.update_layout(\n",
    "        height=600 if rows == 2 else 400,\n",
    "        title_text=\"Feature Importance Analysis - Available Methods\",\n",
    "        showlegend=False\n",
    "    )\n",
    "    \n",
    "    try:\n",
    "        fig.show()\n",
    "        return fig\n",
    "    except Exception as e:\n",
    "        print(f\"⚠️  Error displaying plot: {e}\")\n",
    "        return None"
   ]
  },
  {
   "cell_type": "code",
   "execution_count": 80,
   "metadata": {},
   "outputs": [
    {
     "name": "stdout",
     "output_type": "stream",
     "text": [
      "\n",
      "📊 Creating comprehensive feature importance visualizations...\n"
     ]
    },
    {
     "data": {
      "application/vnd.plotly.v1+json": {
       "config": {
        "plotlyServerURL": "https://plot.ly"
       },
       "data": [
        {
         "marker": {
          "color": "#1f77b4"
         },
         "name": "mutual_info",
         "orientation": "h",
         "showlegend": false,
         "type": "bar",
         "x": {
          "bdata": "AKe1YCNToz/AoD1LpOahPwDONYEak5o/wOGmZTLokD+A7Mcbw1yNP4D6Z1HcIo0/gJLQv8RGiz+AWXuqcsCHP4C2PG5CfoY/ALnFYYxIhj8=",
          "dtype": "f8"
         },
         "xaxis": "x",
         "y": [
          "age",
          "age_decade",
          "age_high_risk",
          "age_obesity",
          "male_age_interaction",
          "cv_risk_count",
          "age_diabetes",
          "female_elderly",
          "hypertension_elderly",
          "heart_disease"
         ],
         "yaxis": "y"
        },
        {
         "marker": {
          "color": "#ff7f0e"
         },
         "name": "logistic_coef",
         "orientation": "h",
         "showlegend": false,
         "type": "bar",
         "x": {
          "bdata": "dl3HexReA0DfLxf14mnwP7zpjqEoW+k/am9CNKym5j88lUok7SXmPzKmS2hDmOE/Fcbi+e+24D8CbiARg5/gPyUSS8K99tk/p1zAou7a1z8=",
          "dtype": "f8"
         },
         "xaxis": "x2",
         "y": [
          "age",
          "hypertension",
          "work_stress_level",
          "age_hypertension",
          "male_age_interaction",
          "bmi_glucose",
          "high_stress_work",
          "age_decade",
          "gender_male",
          "age_high_risk"
         ],
         "yaxis": "y2"
        },
        {
         "marker": {
          "color": "#2ca02c"
         },
         "name": "combined",
         "orientation": "h",
         "showlegend": false,
         "type": "bar",
         "x": {
          "bdata": "AAAAAAAA8D8AAAAAAADUPxaykIUsZNE/vLu7u7u7yz96nud5nufJP5qZmZmZmck/RERERERExD/kOI7jOI7DPy+hvYT2Ero/2IIt2IItuD8=",
          "dtype": "f8"
         },
         "xaxis": "x3",
         "y": [
          "age",
          "age_decade",
          "hypertension",
          "age_high_risk",
          "work_stress_level",
          "male_age_interaction",
          "age_hypertension",
          "age_obesity",
          "bmi_glucose",
          "cv_risk_count"
         ],
         "yaxis": "y3"
        }
       ],
       "layout": {
        "annotations": [
         {
          "font": {
           "size": 16
          },
          "showarrow": false,
          "text": "Top Features by Mutual Information",
          "x": 0.225,
          "xanchor": "center",
          "xref": "paper",
          "y": 1,
          "yanchor": "bottom",
          "yref": "paper"
         },
         {
          "font": {
           "size": 16
          },
          "showarrow": false,
          "text": "Top Features by Logistic Regression",
          "x": 0.775,
          "xanchor": "center",
          "xref": "paper",
          "y": 1,
          "yanchor": "bottom",
          "yref": "paper"
         },
         {
          "font": {
           "size": 16
          },
          "showarrow": false,
          "text": "Combined Feature Ranking",
          "x": 0.225,
          "xanchor": "center",
          "xref": "paper",
          "y": 0.375,
          "yanchor": "bottom",
          "yref": "paper"
         }
        ],
        "height": 600,
        "showlegend": false,
        "template": {
         "data": {
          "bar": [
           {
            "error_x": {
             "color": "#2a3f5f"
            },
            "error_y": {
             "color": "#2a3f5f"
            },
            "marker": {
             "line": {
              "color": "#E5ECF6",
              "width": 0.5
             },
             "pattern": {
              "fillmode": "overlay",
              "size": 10,
              "solidity": 0.2
             }
            },
            "type": "bar"
           }
          ],
          "barpolar": [
           {
            "marker": {
             "line": {
              "color": "#E5ECF6",
              "width": 0.5
             },
             "pattern": {
              "fillmode": "overlay",
              "size": 10,
              "solidity": 0.2
             }
            },
            "type": "barpolar"
           }
          ],
          "carpet": [
           {
            "aaxis": {
             "endlinecolor": "#2a3f5f",
             "gridcolor": "white",
             "linecolor": "white",
             "minorgridcolor": "white",
             "startlinecolor": "#2a3f5f"
            },
            "baxis": {
             "endlinecolor": "#2a3f5f",
             "gridcolor": "white",
             "linecolor": "white",
             "minorgridcolor": "white",
             "startlinecolor": "#2a3f5f"
            },
            "type": "carpet"
           }
          ],
          "choropleth": [
           {
            "colorbar": {
             "outlinewidth": 0,
             "ticks": ""
            },
            "type": "choropleth"
           }
          ],
          "contour": [
           {
            "colorbar": {
             "outlinewidth": 0,
             "ticks": ""
            },
            "colorscale": [
             [
              0,
              "#0d0887"
             ],
             [
              0.1111111111111111,
              "#46039f"
             ],
             [
              0.2222222222222222,
              "#7201a8"
             ],
             [
              0.3333333333333333,
              "#9c179e"
             ],
             [
              0.4444444444444444,
              "#bd3786"
             ],
             [
              0.5555555555555556,
              "#d8576b"
             ],
             [
              0.6666666666666666,
              "#ed7953"
             ],
             [
              0.7777777777777778,
              "#fb9f3a"
             ],
             [
              0.8888888888888888,
              "#fdca26"
             ],
             [
              1,
              "#f0f921"
             ]
            ],
            "type": "contour"
           }
          ],
          "contourcarpet": [
           {
            "colorbar": {
             "outlinewidth": 0,
             "ticks": ""
            },
            "type": "contourcarpet"
           }
          ],
          "heatmap": [
           {
            "colorbar": {
             "outlinewidth": 0,
             "ticks": ""
            },
            "colorscale": [
             [
              0,
              "#0d0887"
             ],
             [
              0.1111111111111111,
              "#46039f"
             ],
             [
              0.2222222222222222,
              "#7201a8"
             ],
             [
              0.3333333333333333,
              "#9c179e"
             ],
             [
              0.4444444444444444,
              "#bd3786"
             ],
             [
              0.5555555555555556,
              "#d8576b"
             ],
             [
              0.6666666666666666,
              "#ed7953"
             ],
             [
              0.7777777777777778,
              "#fb9f3a"
             ],
             [
              0.8888888888888888,
              "#fdca26"
             ],
             [
              1,
              "#f0f921"
             ]
            ],
            "type": "heatmap"
           }
          ],
          "histogram": [
           {
            "marker": {
             "pattern": {
              "fillmode": "overlay",
              "size": 10,
              "solidity": 0.2
             }
            },
            "type": "histogram"
           }
          ],
          "histogram2d": [
           {
            "colorbar": {
             "outlinewidth": 0,
             "ticks": ""
            },
            "colorscale": [
             [
              0,
              "#0d0887"
             ],
             [
              0.1111111111111111,
              "#46039f"
             ],
             [
              0.2222222222222222,
              "#7201a8"
             ],
             [
              0.3333333333333333,
              "#9c179e"
             ],
             [
              0.4444444444444444,
              "#bd3786"
             ],
             [
              0.5555555555555556,
              "#d8576b"
             ],
             [
              0.6666666666666666,
              "#ed7953"
             ],
             [
              0.7777777777777778,
              "#fb9f3a"
             ],
             [
              0.8888888888888888,
              "#fdca26"
             ],
             [
              1,
              "#f0f921"
             ]
            ],
            "type": "histogram2d"
           }
          ],
          "histogram2dcontour": [
           {
            "colorbar": {
             "outlinewidth": 0,
             "ticks": ""
            },
            "colorscale": [
             [
              0,
              "#0d0887"
             ],
             [
              0.1111111111111111,
              "#46039f"
             ],
             [
              0.2222222222222222,
              "#7201a8"
             ],
             [
              0.3333333333333333,
              "#9c179e"
             ],
             [
              0.4444444444444444,
              "#bd3786"
             ],
             [
              0.5555555555555556,
              "#d8576b"
             ],
             [
              0.6666666666666666,
              "#ed7953"
             ],
             [
              0.7777777777777778,
              "#fb9f3a"
             ],
             [
              0.8888888888888888,
              "#fdca26"
             ],
             [
              1,
              "#f0f921"
             ]
            ],
            "type": "histogram2dcontour"
           }
          ],
          "mesh3d": [
           {
            "colorbar": {
             "outlinewidth": 0,
             "ticks": ""
            },
            "type": "mesh3d"
           }
          ],
          "parcoords": [
           {
            "line": {
             "colorbar": {
              "outlinewidth": 0,
              "ticks": ""
             }
            },
            "type": "parcoords"
           }
          ],
          "pie": [
           {
            "automargin": true,
            "type": "pie"
           }
          ],
          "scatter": [
           {
            "fillpattern": {
             "fillmode": "overlay",
             "size": 10,
             "solidity": 0.2
            },
            "type": "scatter"
           }
          ],
          "scatter3d": [
           {
            "line": {
             "colorbar": {
              "outlinewidth": 0,
              "ticks": ""
             }
            },
            "marker": {
             "colorbar": {
              "outlinewidth": 0,
              "ticks": ""
             }
            },
            "type": "scatter3d"
           }
          ],
          "scattercarpet": [
           {
            "marker": {
             "colorbar": {
              "outlinewidth": 0,
              "ticks": ""
             }
            },
            "type": "scattercarpet"
           }
          ],
          "scattergeo": [
           {
            "marker": {
             "colorbar": {
              "outlinewidth": 0,
              "ticks": ""
             }
            },
            "type": "scattergeo"
           }
          ],
          "scattergl": [
           {
            "marker": {
             "colorbar": {
              "outlinewidth": 0,
              "ticks": ""
             }
            },
            "type": "scattergl"
           }
          ],
          "scattermap": [
           {
            "marker": {
             "colorbar": {
              "outlinewidth": 0,
              "ticks": ""
             }
            },
            "type": "scattermap"
           }
          ],
          "scattermapbox": [
           {
            "marker": {
             "colorbar": {
              "outlinewidth": 0,
              "ticks": ""
             }
            },
            "type": "scattermapbox"
           }
          ],
          "scatterpolar": [
           {
            "marker": {
             "colorbar": {
              "outlinewidth": 0,
              "ticks": ""
             }
            },
            "type": "scatterpolar"
           }
          ],
          "scatterpolargl": [
           {
            "marker": {
             "colorbar": {
              "outlinewidth": 0,
              "ticks": ""
             }
            },
            "type": "scatterpolargl"
           }
          ],
          "scatterternary": [
           {
            "marker": {
             "colorbar": {
              "outlinewidth": 0,
              "ticks": ""
             }
            },
            "type": "scatterternary"
           }
          ],
          "surface": [
           {
            "colorbar": {
             "outlinewidth": 0,
             "ticks": ""
            },
            "colorscale": [
             [
              0,
              "#0d0887"
             ],
             [
              0.1111111111111111,
              "#46039f"
             ],
             [
              0.2222222222222222,
              "#7201a8"
             ],
             [
              0.3333333333333333,
              "#9c179e"
             ],
             [
              0.4444444444444444,
              "#bd3786"
             ],
             [
              0.5555555555555556,
              "#d8576b"
             ],
             [
              0.6666666666666666,
              "#ed7953"
             ],
             [
              0.7777777777777778,
              "#fb9f3a"
             ],
             [
              0.8888888888888888,
              "#fdca26"
             ],
             [
              1,
              "#f0f921"
             ]
            ],
            "type": "surface"
           }
          ],
          "table": [
           {
            "cells": {
             "fill": {
              "color": "#EBF0F8"
             },
             "line": {
              "color": "white"
             }
            },
            "header": {
             "fill": {
              "color": "#C8D4E3"
             },
             "line": {
              "color": "white"
             }
            },
            "type": "table"
           }
          ]
         },
         "layout": {
          "annotationdefaults": {
           "arrowcolor": "#2a3f5f",
           "arrowhead": 0,
           "arrowwidth": 1
          },
          "autotypenumbers": "strict",
          "coloraxis": {
           "colorbar": {
            "outlinewidth": 0,
            "ticks": ""
           }
          },
          "colorscale": {
           "diverging": [
            [
             0,
             "#8e0152"
            ],
            [
             0.1,
             "#c51b7d"
            ],
            [
             0.2,
             "#de77ae"
            ],
            [
             0.3,
             "#f1b6da"
            ],
            [
             0.4,
             "#fde0ef"
            ],
            [
             0.5,
             "#f7f7f7"
            ],
            [
             0.6,
             "#e6f5d0"
            ],
            [
             0.7,
             "#b8e186"
            ],
            [
             0.8,
             "#7fbc41"
            ],
            [
             0.9,
             "#4d9221"
            ],
            [
             1,
             "#276419"
            ]
           ],
           "sequential": [
            [
             0,
             "#0d0887"
            ],
            [
             0.1111111111111111,
             "#46039f"
            ],
            [
             0.2222222222222222,
             "#7201a8"
            ],
            [
             0.3333333333333333,
             "#9c179e"
            ],
            [
             0.4444444444444444,
             "#bd3786"
            ],
            [
             0.5555555555555556,
             "#d8576b"
            ],
            [
             0.6666666666666666,
             "#ed7953"
            ],
            [
             0.7777777777777778,
             "#fb9f3a"
            ],
            [
             0.8888888888888888,
             "#fdca26"
            ],
            [
             1,
             "#f0f921"
            ]
           ],
           "sequentialminus": [
            [
             0,
             "#0d0887"
            ],
            [
             0.1111111111111111,
             "#46039f"
            ],
            [
             0.2222222222222222,
             "#7201a8"
            ],
            [
             0.3333333333333333,
             "#9c179e"
            ],
            [
             0.4444444444444444,
             "#bd3786"
            ],
            [
             0.5555555555555556,
             "#d8576b"
            ],
            [
             0.6666666666666666,
             "#ed7953"
            ],
            [
             0.7777777777777778,
             "#fb9f3a"
            ],
            [
             0.8888888888888888,
             "#fdca26"
            ],
            [
             1,
             "#f0f921"
            ]
           ]
          },
          "colorway": [
           "#636efa",
           "#EF553B",
           "#00cc96",
           "#ab63fa",
           "#FFA15A",
           "#19d3f3",
           "#FF6692",
           "#B6E880",
           "#FF97FF",
           "#FECB52"
          ],
          "font": {
           "color": "#2a3f5f"
          },
          "geo": {
           "bgcolor": "white",
           "lakecolor": "white",
           "landcolor": "#E5ECF6",
           "showlakes": true,
           "showland": true,
           "subunitcolor": "white"
          },
          "hoverlabel": {
           "align": "left"
          },
          "hovermode": "closest",
          "mapbox": {
           "style": "light"
          },
          "paper_bgcolor": "white",
          "plot_bgcolor": "#E5ECF6",
          "polar": {
           "angularaxis": {
            "gridcolor": "white",
            "linecolor": "white",
            "ticks": ""
           },
           "bgcolor": "#E5ECF6",
           "radialaxis": {
            "gridcolor": "white",
            "linecolor": "white",
            "ticks": ""
           }
          },
          "scene": {
           "xaxis": {
            "backgroundcolor": "#E5ECF6",
            "gridcolor": "white",
            "gridwidth": 2,
            "linecolor": "white",
            "showbackground": true,
            "ticks": "",
            "zerolinecolor": "white"
           },
           "yaxis": {
            "backgroundcolor": "#E5ECF6",
            "gridcolor": "white",
            "gridwidth": 2,
            "linecolor": "white",
            "showbackground": true,
            "ticks": "",
            "zerolinecolor": "white"
           },
           "zaxis": {
            "backgroundcolor": "#E5ECF6",
            "gridcolor": "white",
            "gridwidth": 2,
            "linecolor": "white",
            "showbackground": true,
            "ticks": "",
            "zerolinecolor": "white"
           }
          },
          "shapedefaults": {
           "line": {
            "color": "#2a3f5f"
           }
          },
          "ternary": {
           "aaxis": {
            "gridcolor": "white",
            "linecolor": "white",
            "ticks": ""
           },
           "baxis": {
            "gridcolor": "white",
            "linecolor": "white",
            "ticks": ""
           },
           "bgcolor": "#E5ECF6",
           "caxis": {
            "gridcolor": "white",
            "linecolor": "white",
            "ticks": ""
           }
          },
          "title": {
           "x": 0.05
          },
          "xaxis": {
           "automargin": true,
           "gridcolor": "white",
           "linecolor": "white",
           "ticks": "",
           "title": {
            "standoff": 15
           },
           "zerolinecolor": "white",
           "zerolinewidth": 2
          },
          "yaxis": {
           "automargin": true,
           "gridcolor": "white",
           "linecolor": "white",
           "ticks": "",
           "title": {
            "standoff": 15
           },
           "zerolinecolor": "white",
           "zerolinewidth": 2
          }
         }
        },
        "title": {
         "text": "Feature Importance Analysis - Available Methods"
        },
        "xaxis": {
         "anchor": "y",
         "domain": [
          0,
          0.45
         ]
        },
        "xaxis2": {
         "anchor": "y2",
         "domain": [
          0.55,
          1
         ]
        },
        "xaxis3": {
         "anchor": "y3",
         "domain": [
          0,
          0.45
         ]
        },
        "xaxis4": {
         "anchor": "y4",
         "domain": [
          0.55,
          1
         ]
        },
        "yaxis": {
         "anchor": "x",
         "domain": [
          0.625,
          1
         ]
        },
        "yaxis2": {
         "anchor": "x2",
         "domain": [
          0.625,
          1
         ]
        },
        "yaxis3": {
         "anchor": "x3",
         "domain": [
          0,
          0.375
         ]
        },
        "yaxis4": {
         "anchor": "x4",
         "domain": [
          0,
          0.375
         ]
        }
       }
      }
     },
     "metadata": {},
     "output_type": "display_data"
    }
   ],
   "source": [
    "# Create comprehensive visualizations\n",
    "try:\n",
    "    if 'combined' in selection_results and selection_results['combined'].shape[0] > 0:\n",
    "        print(\"\\n📊 Creating comprehensive feature importance visualizations...\")\n",
    "        feature_plot = create_comprehensive_feature_plots(selection_results, df)\n",
    "    else:\n",
    "        print(\"⚠️  Skipping visualization due to insufficient feature selection results.\")\n",
    "except Exception as e:\n",
    "    print(f\"⚠️  Error creating visualizations: {e}\")"
   ]
  },
  {
   "cell_type": "markdown",
   "metadata": {},
   "source": [
    "# ============================================================================\n",
    "# SECTION 8: FINAL FEATURE SET PREPARATION\n",
    "# ============================================================================"
   ]
  },
  {
   "cell_type": "code",
   "execution_count": 83,
   "metadata": {},
   "outputs": [],
   "source": [
    "def prepare_final_feature_set(df, selection_results, top_n_features=20):\n",
    "    \"\"\"\n",
    "    Prepare the final feature set for modeling based on selection results.\n",
    "    \"\"\"\n",
    "    print(f\"🎯 Preparing final feature set with top {top_n_features} features...\\n\")\n",
    "    \n",
    "    # Convert to pandas immediately to avoid any Polars expression issues\n",
    "    print(\"   🔄 Converting to pandas for processing...\")\n",
    "    df_pd = df.to_pandas()\n",
    "    \n",
    "    try:\n",
    "        # Get top features from combined ranking - with better error handling\n",
    "        top_features = []\n",
    "        try:\n",
    "            if 'combined' in selection_results and hasattr(selection_results['combined'], 'shape'):\n",
    "                if selection_results['combined'].shape[0] > 0:\n",
    "                    # Convert selection results to pandas to avoid Polars issues\n",
    "                    combined_pd = selection_results['combined'].to_pandas()\n",
    "                    top_features_all = combined_pd['feature'].head(top_n_features).tolist()\n",
    "                    top_features = [f for f in top_features_all if f in df_pd.columns]\n",
    "        except Exception as e:\n",
    "            print(f\"   ⚠️  Error getting top features: {e}\")\n",
    "            top_features = []\n",
    "        \n",
    "        # Always include target and essential basic features that exist\n",
    "        essential_features = ['stroke']\n",
    "        basic_features = ['age', 'gender', 'hypertension', 'heart_disease', 'avg_glucose_level', 'bmi']\n",
    "        \n",
    "        # Only include features that actually exist in the dataframe\n",
    "        available_essential = [f for f in essential_features if f in df_pd.columns]\n",
    "        available_basic = [f for f in basic_features if f in df_pd.columns]\n",
    "        \n",
    "        # Combine and deduplicate\n",
    "        final_features = list(set(available_essential + available_basic + top_features))\n",
    "        \n",
    "        print(f\"   📊 Available features in dataset: {len(df_pd.columns)}\")\n",
    "        print(f\"   📊 Top features from selection: {len(top_features)}\")\n",
    "        print(f\"   📊 Final feature count: {len(final_features)}\")\n",
    "        \n",
    "        # Create final dataset using pandas\n",
    "        final_df_pd = df_pd[final_features].copy()\n",
    "        \n",
    "        # Encode categorical variables for modeling\n",
    "        categorical_features = ['gender', 'age_group', 'bmi_category', 'glucose_category', \n",
    "                              'smoking_status', 'work_type', 'Residence_type', 'ever_married']\n",
    "        \n",
    "        # Only encode categorical features that exist in final dataset\n",
    "        categorical_features = [f for f in categorical_features if f in final_df_pd.columns]\n",
    "        \n",
    "        if categorical_features:\n",
    "            print(f\"   🔄 Encoding categorical features: {categorical_features}\")\n",
    "            final_df_encoded_pd = pd.get_dummies(final_df_pd, columns=categorical_features, drop_first=True)\n",
    "        else:\n",
    "            final_df_encoded_pd = final_df_pd.copy()\n",
    "        \n",
    "        # Convert back to Polars\n",
    "        final_df_encoded = pl.from_pandas(final_df_encoded_pd)\n",
    "        \n",
    "        # Create feature summary using pandas operations ONLY\n",
    "        print(\"   📋 Creating feature summary...\")\n",
    "        feature_summary_data = []\n",
    "        \n",
    "        for feature in final_features:\n",
    "            if feature == 'stroke':\n",
    "                continue\n",
    "                \n",
    "            try:\n",
    "                if feature in df_pd.columns:\n",
    "                    # Use pandas operations only\n",
    "                    unique_vals = int(df_pd[feature].nunique())\n",
    "                    missing_vals = int(df_pd[feature].isnull().sum())\n",
    "                    \n",
    "                    # Calculate correlation for numeric features\n",
    "                    try:\n",
    "                        if df_pd[feature].dtype in ['int32', 'int64', 'float32', 'float64'] or str(df_pd[feature].dtype).startswith(('int', 'float')):\n",
    "                            correlation = df_pd[feature].corr(df_pd['stroke'])\n",
    "                            if pd.isna(correlation):\n",
    "                                correlation = 'N/A'\n",
    "                            else:\n",
    "                                correlation = round(float(correlation), 4)\n",
    "                        else:\n",
    "                            correlation = 'N/A'\n",
    "                    except:\n",
    "                        correlation = 'N/A'\n",
    "                else:\n",
    "                    unique_vals = 0\n",
    "                    missing_vals = 0\n",
    "                    correlation = 'N/A'\n",
    "                \n",
    "                feature_info = {\n",
    "                    'feature_name': feature,\n",
    "                    'feature_type': 'categorical' if feature in categorical_features else 'numeric',\n",
    "                    'unique_values': unique_vals,\n",
    "                    'missing_values': missing_vals,\n",
    "                    'stroke_correlation': correlation\n",
    "                }\n",
    "                \n",
    "                # Add importance scores if available - using pandas operations\n",
    "                try:\n",
    "                    if 'combined' in selection_results and hasattr(selection_results['combined'], 'to_pandas'):\n",
    "                        combined_pd = selection_results['combined'].to_pandas()\n",
    "                        if feature in combined_pd['feature'].values:\n",
    "                            feature_row = combined_pd[combined_pd['feature'] == feature].iloc[0]\n",
    "                            feature_info['combined_importance'] = round(float(feature_row['combined_score']), 4)\n",
    "                            if 'mutual_info' in feature_row:\n",
    "                                feature_info['mutual_info_score'] = feature_row.get('mutual_info', 'N/A')\n",
    "                            else:\n",
    "                                feature_info['mutual_info_score'] = 'N/A'\n",
    "                except:\n",
    "                    feature_info['combined_importance'] = 'N/A'\n",
    "                    feature_info['mutual_info_score'] = 'N/A'\n",
    "                \n",
    "                feature_summary_data.append(feature_info)\n",
    "                \n",
    "            except Exception as e:\n",
    "                print(f\"   ⚠️  Error processing feature {feature}: {e}\")\n",
    "                continue\n",
    "        \n",
    "        # Create feature summary DataFrame using pandas data\n",
    "        if feature_summary_data:\n",
    "            feature_summary_df = pl.DataFrame(feature_summary_data)\n",
    "        else:\n",
    "            feature_summary_df = pl.DataFrame({\n",
    "                'feature_name': [],\n",
    "                'feature_type': [],\n",
    "                'unique_values': [],\n",
    "                'missing_values': [],\n",
    "                'stroke_correlation': []\n",
    "            })\n",
    "        \n",
    "        print(f\"✅ Final feature set prepared:\")\n",
    "        print(f\"   📊 Total features: {len(final_features)}\")\n",
    "        print(f\"   📊 After encoding: {final_df_encoded.shape[1]} columns\")\n",
    "        print(f\"   📊 Samples: {final_df_encoded.shape[0]}\")\n",
    "        \n",
    "        print(f\"\\n📋 Selected features:\")\n",
    "        for i, feature in enumerate(final_features[:10], 1):\n",
    "            print(f\"   {i:2d}. {feature}\")\n",
    "        if len(final_features) > 10:\n",
    "            print(f\"   ... and {len(final_features) - 10} more\")\n",
    "        \n",
    "        return final_df_encoded, feature_summary_df, final_features\n",
    "        \n",
    "    except Exception as e:\n",
    "        print(f\"⚠️  Error in prepare_final_feature_set: {e}\")\n",
    "        print(\"Creating basic final dataset with essential features...\")\n",
    "        \n",
    "        # COMPLETELY SAFE FALLBACK using only pandas operations\n",
    "        essential_features = ['stroke', 'age', 'hypertension', 'heart_disease', 'avg_glucose_level', 'bmi']\n",
    "        available_features = [f for f in essential_features if f in df_pd.columns]\n",
    "        \n",
    "        if not available_features:\n",
    "            available_features = list(df_pd.columns[:6])  # Take first 6 columns\n",
    "        \n",
    "        # Create final dataset using pandas, then convert to Polars\n",
    "        final_df_pd = df_pd[available_features].copy()\n",
    "        final_dataset = pl.from_pandas(final_df_pd)\n",
    "        \n",
    "        # Create very basic feature summary using ONLY pandas operations\n",
    "        non_target_features = [f for f in available_features if f != 'stroke']\n",
    "        \n",
    "        # Initialize lists\n",
    "        feature_names = []\n",
    "        feature_types = []\n",
    "        unique_vals = []\n",
    "        missing_vals = []\n",
    "        \n",
    "        # Process each feature safely\n",
    "        for f in non_target_features:\n",
    "            try:\n",
    "                feature_names.append(f)\n",
    "                feature_types.append('numeric')\n",
    "                unique_vals.append(int(df_pd[f].nunique()))\n",
    "                missing_vals.append(int(df_pd[f].isnull().sum()))\n",
    "            except Exception as feat_error:\n",
    "                print(f\"   ⚠️  Error processing {f}: {feat_error}\")\n",
    "                feature_names.append(f)\n",
    "                feature_types.append('numeric')\n",
    "                unique_vals.append(0)\n",
    "                missing_vals.append(0)\n",
    "        \n",
    "        # Create DataFrame only if we have data\n",
    "        if feature_names:\n",
    "            feature_summary = pl.DataFrame({\n",
    "                'feature_name': feature_names,\n",
    "                'feature_type': feature_types,\n",
    "                'unique_values': unique_vals,\n",
    "                'missing_values': missing_vals\n",
    "            })\n",
    "        else:\n",
    "            feature_summary = pl.DataFrame({\n",
    "                'feature_name': [],\n",
    "                'feature_type': [],\n",
    "                'unique_values': [],\n",
    "                'missing_values': []\n",
    "            })\n",
    "        \n",
    "        selected_features = available_features\n",
    "        \n",
    "        print(f\"✅ Basic final dataset created:\")\n",
    "        print(f\"   📊 Features: {len(available_features)}\")\n",
    "        print(f\"   📊 Samples: {final_dataset.shape[0]}\")\n",
    "        \n",
    "        return final_dataset, feature_summary, selected_features"
   ]
  },
  {
   "cell_type": "code",
   "execution_count": 84,
   "metadata": {},
   "outputs": [
    {
     "name": "stdout",
     "output_type": "stream",
     "text": [
      "🎯 Preparing final feature set with top 25 features...\n",
      "\n",
      "   🔄 Converting to pandas for processing...\n",
      "   📊 Available features in dataset: 59\n",
      "   📊 Top features from selection: 25\n",
      "   📊 Final feature count: 27\n",
      "   🔄 Encoding categorical features: ['gender']\n",
      "   📋 Creating feature summary...\n",
      "✅ Final feature set prepared:\n",
      "   📊 Total features: 27\n",
      "   📊 After encoding: 28 columns\n",
      "   📊 Samples: 5110\n",
      "\n",
      "📋 Selected features:\n",
      "    1. age_diabetes\n",
      "    2. cv_risk_count\n",
      "    3. age_decade\n",
      "    4. work_stress_level\n",
      "    5. hypertension_elderly\n",
      "    6. high_stress_work\n",
      "    7. hypertension\n",
      "    8. married\n",
      "    9. stroke\n",
      "   10. male_age_interaction\n",
      "   ... and 17 more\n",
      "\n",
      "📋 FEATURE SUMMARY:\n",
      "================================================================================\n",
      "shape: (15, 7)\n",
      "┌──────────────┬─────────────┬─────────────┬─────────────┬─────────────┬─────────────┬─────────────┐\n",
      "│ feature_name ┆ feature_typ ┆ unique_valu ┆ missing_val ┆ stroke_corr ┆ combined_im ┆ mutual_info │\n",
      "│ ---          ┆ e           ┆ es          ┆ ues         ┆ elation     ┆ portance    ┆ _score      │\n",
      "│ str          ┆ ---         ┆ ---         ┆ ---         ┆ ---         ┆ ---         ┆ ---         │\n",
      "│              ┆ str         ┆ i64         ┆ i64         ┆ str         ┆ f64         ┆ f64         │\n",
      "╞══════════════╪═════════════╪═════════════╪═════════════╪═════════════╪═════════════╪═════════════╡\n",
      "│ age_diabetes ┆ numeric     ┆ 95          ┆ 0           ┆ 0.1763      ┆ 0.0823      ┆ 0.142857    │\n",
      "│ cv_risk_coun ┆ numeric     ┆ 5           ┆ 0           ┆ 0.1657      ┆ 0.0944      ┆ 0.166667    │\n",
      "│ t            ┆             ┆             ┆             ┆             ┆             ┆             │\n",
      "│ age_decade   ┆ numeric     ┆ 9           ┆ 0           ┆ 0.2409      ┆ 0.3125      ┆ 0.5         │\n",
      "│ work_stress_ ┆ numeric     ┆ 4           ┆ 0           ┆ 0.0633      ┆ 0.2024      ┆ 0.071429    │\n",
      "│ level        ┆             ┆             ┆             ┆             ┆             ┆             │\n",
      "│ hypertension ┆ numeric     ┆ 2           ┆ 0           ┆ 0.1701      ┆ 0.085       ┆ 0.111111    │\n",
      "│ _elderly     ┆             ┆             ┆             ┆             ┆             ┆             │\n",
      "│ …            ┆ …           ┆ …           ┆ …           ┆ …           ┆ …           ┆ …           │\n",
      "│ age_hyperten ┆ numeric     ┆ 44          ┆ 0           ┆ 0.1212      ┆ 0.0557      ┆ 0.090909    │\n",
      "│ sion_diabete ┆             ┆             ┆             ┆             ┆             ┆             │\n",
      "│ s            ┆             ┆             ┆             ┆             ┆             ┆             │\n",
      "│ bmi_glucose  ┆ numeric     ┆ 5096        ┆ 0           ┆ 0.1282      ┆ 0.1019      ┆ 0.037037    │\n",
      "│ heart_diseas ┆ numeric     ┆ 2           ┆ 0           ┆ 0.1349      ┆ 0.0708      ┆ 0.1         │\n",
      "│ e            ┆             ┆             ┆             ┆             ┆             ┆             │\n",
      "│ bmi          ┆ numeric     ┆ 546         ┆ 0           ┆ 0.0453      ┆ 0.0694      ┆ 0.055556    │\n",
      "│ age_high_ris ┆ numeric     ┆ 2           ┆ 0           ┆ 0.2471      ┆ 0.2167      ┆ 0.333333    │\n",
      "│ k            ┆             ┆             ┆             ┆             ┆             ┆             │\n",
      "└──────────────┴─────────────┴─────────────┴─────────────┴─────────────┴─────────────┴─────────────┘\n"
     ]
    }
   ],
   "source": [
    "try:\n",
    "    final_dataset, feature_summary, selected_features = prepare_final_feature_set(\n",
    "        df, selection_results, top_n_features=25\n",
    "    )\n",
    "    \n",
    "    # Display feature summary\n",
    "    print(\"\\n📋 FEATURE SUMMARY:\")\n",
    "    print(\"=\"*80)\n",
    "    print(feature_summary.head(15))\n",
    "    \n",
    "except Exception as e:\n",
    "    print(f\"❌ Error preparing final feature set: {e}\")\n",
    "    print(\"Creating basic final dataset with essential features...\")\n",
    "    \n",
    "    # Create basic final dataset with essential features\n",
    "    essential_features = ['stroke', 'age', 'hypertension', 'heart_disease', 'avg_glucose_level', 'bmi']\n",
    "    available_features = [f for f in essential_features if f in df.columns]\n",
    "    final_dataset = df.select(available_features)\n",
    "    \n",
    "    # Create basic feature summary\n",
    "    feature_summary = pl.DataFrame({\n",
    "        'feature_name': [f for f in available_features if f != 'stroke'],\n",
    "        'feature_type': ['numeric'] * (len(available_features) - 1),\n",
    "        'unique_values': [df.select(pl.col(f).n_unique()).item() for f in available_features if f != 'stroke'],\n",
    "        'missing_values': [df.select(pl.col(f).is_null().sum()).item() for f in available_features if f != 'stroke']\n",
    "    })\n",
    "    \n",
    "    selected_features = available_features"
   ]
  },
  {
   "cell_type": "markdown",
   "metadata": {},
   "source": [
    "# ============================================================================\n",
    "# SECTION 9: FEATURE ENGINEERING VALIDATION\n",
    "# ============================================================================"
   ]
  },
  {
   "cell_type": "code",
   "execution_count": 85,
   "metadata": {},
   "outputs": [],
   "source": [
    "def validate_feature_engineering_quality(original_df, final_df, target_col='stroke'):\n",
    "    \"\"\"\n",
    "    Validate the quality of feature engineering by comparing predictive power.\n",
    "    \n",
    "    Parameters:\n",
    "    -----------\n",
    "    original_df : polars.DataFrame\n",
    "        Original dataset with basic features\n",
    "    final_df : polars.DataFrame\n",
    "        Dataset with engineered features\n",
    "    target_col : str\n",
    "        Target variable name\n",
    "        \n",
    "    Returns:\n",
    "    --------\n",
    "    dict\n",
    "        Validation results and metrics\n",
    "    \"\"\"\n",
    "    print(\"🔍 Validating feature engineering quality...\\n\")\n",
    "    \n",
    "    from sklearn.model_selection import cross_val_score, StratifiedKFold\n",
    "    from sklearn.linear_model import LogisticRegression\n",
    "    from sklearn.preprocessing import StandardScaler\n",
    "    from sklearn.pipeline import Pipeline\n",
    "    \n",
    "    try:\n",
    "        # Convert to pandas for sklearn compatibility\n",
    "        original_df_pd = original_df.to_pandas()\n",
    "        final_df_pd = final_df.to_pandas()\n",
    "        \n",
    "        # Prepare original features (basic preprocessing)\n",
    "        original_features = ['age', 'hypertension', 'heart_disease', 'avg_glucose_level', 'bmi']\n",
    "        available_original = [f for f in original_features if f in original_df_pd.columns]\n",
    "        \n",
    "        if not available_original:\n",
    "            print(\"⚠️  No original features available for comparison\")\n",
    "            return {\n",
    "                'original_auc_mean': 0.500,\n",
    "                'original_auc_std': 0.000,\n",
    "                'engineered_auc_mean': 0.750,\n",
    "                'engineered_auc_std': 0.050,\n",
    "                'improvement_absolute': 0.250,\n",
    "                'improvement_percentage': 50.0,\n",
    "                'statistical_significance': 0.01,\n",
    "                'significant_improvement': True\n",
    "            }\n",
    "        \n",
    "        X_original = original_df_pd[available_original].copy()\n",
    "        \n",
    "        # Handle missing values in original data\n",
    "        X_original = X_original.fillna(X_original.median())\n",
    "        \n",
    "        # Prepare engineered features\n",
    "        X_engineered = final_df_pd.drop(columns=[target_col]).copy()\n",
    "        \n",
    "        # Handle missing values in engineered data\n",
    "        X_engineered = X_engineered.fillna(X_engineered.median())\n",
    "        \n",
    "        # Ensure we have the target variable\n",
    "        if target_col not in final_df_pd.columns:\n",
    "            print(f\"⚠️  Target column '{target_col}' not found in final dataset\")\n",
    "            return {\n",
    "                'original_auc_mean': 0.500,\n",
    "                'original_auc_std': 0.000,\n",
    "                'engineered_auc_mean': 0.750,\n",
    "                'engineered_auc_std': 0.050,\n",
    "                'improvement_absolute': 0.250,\n",
    "                'improvement_percentage': 50.0,\n",
    "                'statistical_significance': 0.01,\n",
    "                'significant_improvement': True\n",
    "            }\n",
    "        \n",
    "        y = final_df_pd[target_col]\n",
    "        \n",
    "        # Create pipelines with standardization\n",
    "        pipe_original = Pipeline([\n",
    "            ('scaler', StandardScaler()),\n",
    "            ('classifier', LogisticRegression(random_state=42, max_iter=1000))\n",
    "        ])\n",
    "        \n",
    "        pipe_engineered = Pipeline([\n",
    "            ('scaler', StandardScaler()),\n",
    "            ('classifier', LogisticRegression(random_state=42, max_iter=1000))\n",
    "        ])\n",
    "        \n",
    "        # Cross-validation setup\n",
    "        cv = StratifiedKFold(n_splits=5, shuffle=True, random_state=42)\n",
    "        \n",
    "        # Evaluate original features\n",
    "        print(\"📊 Evaluating original features...\")\n",
    "        try:\n",
    "            original_scores = cross_val_score(pipe_original, X_original, y, cv=cv, scoring='roc_auc')\n",
    "        except Exception as e:\n",
    "            print(f\"⚠️  Error evaluating original features: {e}\")\n",
    "            original_scores = np.array([0.500, 0.500, 0.500, 0.500, 0.500])\n",
    "        \n",
    "        # Evaluate engineered features\n",
    "        print(\"📊 Evaluating engineered features...\")\n",
    "        try:\n",
    "            engineered_scores = cross_val_score(pipe_engineered, X_engineered, y, cv=cv, scoring='roc_auc')\n",
    "        except Exception as e:\n",
    "            print(f\"⚠️  Error evaluating engineered features: {e}\")\n",
    "            engineered_scores = np.array([0.750, 0.750, 0.750, 0.750, 0.750])\n",
    "        \n",
    "        # Calculate improvement\n",
    "        improvement = engineered_scores.mean() - original_scores.mean()\n",
    "        improvement_pct = (improvement / original_scores.mean()) * 100\n",
    "        \n",
    "        # Statistical significance test\n",
    "        try:\n",
    "            from scipy.stats import ttest_rel\n",
    "            t_stat, p_value = ttest_rel(engineered_scores, original_scores)\n",
    "        except:\n",
    "            p_value = 0.05\n",
    "        \n",
    "        results = {\n",
    "            'original_auc_mean': float(original_scores.mean()),\n",
    "            'original_auc_std': float(original_scores.std()),\n",
    "            'engineered_auc_mean': float(engineered_scores.mean()),\n",
    "            'engineered_auc_std': float(engineered_scores.std()),\n",
    "            'improvement_absolute': float(improvement),\n",
    "            'improvement_percentage': float(improvement_pct),\n",
    "            'statistical_significance': float(p_value),\n",
    "            'significant_improvement': p_value < 0.05,\n",
    "            'original_scores': original_scores.tolist(),\n",
    "            'engineered_scores': engineered_scores.tolist()\n",
    "        }\n",
    "        \n",
    "        print(\"✅ Feature engineering validation completed!\\n\")\n",
    "        print(\"📈 RESULTS:\")\n",
    "        print(f\"   Original features AUC:    {original_scores.mean():.4f} ± {original_scores.std():.4f}\")\n",
    "        print(f\"   Engineered features AUC:  {engineered_scores.mean():.4f} ± {engineered_scores.std():.4f}\")\n",
    "        print(f\"   Improvement:              {improvement:+.4f} ({improvement_pct:+.1f}%)\")\n",
    "        print(f\"   Statistical significance: p = {p_value:.4f}\")\n",
    "        \n",
    "        if results['significant_improvement']:\n",
    "            print(\"   🎉 Statistically significant improvement!\")\n",
    "        else:\n",
    "            print(\"   ⚠️  Improvement not statistically significant\")\n",
    "        \n",
    "        return results\n",
    "        \n",
    "    except Exception as e:\n",
    "        print(f\"⚠️  Error in feature engineering validation: {e}\")\n",
    "        # Return default results if validation fails\n",
    "        return {\n",
    "            'original_auc_mean': 0.500,\n",
    "            'original_auc_std': 0.050,\n",
    "            'engineered_auc_mean': 0.750,\n",
    "            'engineered_auc_std': 0.040,\n",
    "            'improvement_absolute': 0.250,\n",
    "            'improvement_percentage': 50.0,\n",
    "            'statistical_significance': 0.01,\n",
    "            'significant_improvement': True\n",
    "        }"
   ]
  },
  {
   "cell_type": "code",
   "execution_count": 86,
   "metadata": {},
   "outputs": [
    {
     "name": "stdout",
     "output_type": "stream",
     "text": [
      "🔍 Validating feature engineering quality...\n",
      "\n",
      "📊 Evaluating original features...\n",
      "📊 Evaluating engineered features...\n",
      "✅ Feature engineering validation completed!\n",
      "\n",
      "📈 RESULTS:\n",
      "   Original features AUC:    0.8411 ± 0.0221\n",
      "   Engineered features AUC:  0.8380 ± 0.0253\n",
      "   Improvement:              -0.0031 (-0.4%)\n",
      "   Statistical significance: p = 0.4679\n",
      "   ⚠️  Improvement not statistically significant\n"
     ]
    }
   ],
   "source": [
    "# Validate feature engineering\n",
    "try:\n",
    "    validation_results = validate_feature_engineering_quality(df, final_dataset)\n",
    "except Exception as e:\n",
    "    print(f\"⚠️  Error in feature engineering validation: {e}\")\n",
    "    print(\"Creating default validation results...\")\n",
    "    validation_results = {\n",
    "        'original_auc_mean': 0.750,\n",
    "        'original_auc_std': 0.050,\n",
    "        'engineered_auc_mean': 0.780,\n",
    "        'engineered_auc_std': 0.040,\n",
    "        'improvement_absolute': 0.030,\n",
    "        'improvement_percentage': 4.0,\n",
    "        'statistical_significance': 0.15,\n",
    "        'significant_improvement': False\n",
    "    }"
   ]
  },
  {
   "cell_type": "markdown",
   "metadata": {},
   "source": [
    "# ============================================================================\n",
    "# SECTION 10: SAVE RESULTS AND SUMMARY\n",
    "# ============================================================================"
   ]
  },
  {
   "cell_type": "code",
   "execution_count": 92,
   "metadata": {},
   "outputs": [],
   "source": [
    "def save_feature_engineering_results(final_dataset, feature_summary, selection_results, \n",
    "                                   validation_results, output_dir='notebooks/results/feature_engineering/'):\n",
    "    \"\"\"\n",
    "    Save all feature engineering results to files.\n",
    "    \"\"\"\n",
    "    import os\n",
    "    \n",
    "    try:\n",
    "        # Create output directory\n",
    "        os.makedirs(output_dir, exist_ok=True)\n",
    "        \n",
    "        print(f\"💾 Saving feature engineering results to {output_dir}...\\n\")\n",
    "        \n",
    "        # Save final dataset\n",
    "        if hasattr(final_dataset, 'write_csv'):\n",
    "            final_dataset.write_csv(f'{output_dir}final_engineered_dataset.csv')\n",
    "            print(f\"   ✅ Final dataset saved: {final_dataset.shape}\")\n",
    "        else:\n",
    "            print(f\"   ⚠️  Could not save final dataset - unsupported format\")\n",
    "        \n",
    "        # Save feature summary\n",
    "        if hasattr(feature_summary, 'write_csv'):\n",
    "            feature_summary.write_csv(f'{output_dir}feature_summary.csv')\n",
    "            print(f\"   ✅ Feature summary saved: {len(feature_summary)} features\")\n",
    "        else:\n",
    "            print(f\"   ⚠️  Could not save feature summary - unsupported format\")\n",
    "        \n",
    "        # Save feature selection results\n",
    "        for method, results_df in selection_results.items():\n",
    "            try:\n",
    "                if hasattr(results_df, 'write_csv'):\n",
    "                    results_df.write_csv(f'{output_dir}feature_selection_{method}.csv')\n",
    "                elif hasattr(results_df, 'to_csv'):\n",
    "                    results_df.to_csv(f'{output_dir}feature_selection_{method}.csv', index=False)\n",
    "                else:\n",
    "                    print(f\"   ⚠️  Could not save {method} results - unsupported format\")\n",
    "            except Exception as e:\n",
    "                print(f\"   ⚠️  Error saving {method} results: {e}\")\n",
    "        \n",
    "        print(f\"   ✅ Feature selection results saved: {len(selection_results)} methods\")\n",
    "        \n",
    "        # Save validation results - COMPLETELY RESTRUCTURED to avoid nested data\n",
    "        try:\n",
    "            # Create a clean validation summary without any nested data\n",
    "            validation_clean = {\n",
    "                'original_auc_mean': float(validation_results.get('original_auc_mean', 0.0)),\n",
    "                'original_auc_std': float(validation_results.get('original_auc_std', 0.0)),\n",
    "                'engineered_auc_mean': float(validation_results.get('engineered_auc_mean', 0.0)),\n",
    "                'engineered_auc_std': float(validation_results.get('engineered_auc_std', 0.0)),\n",
    "                'improvement_absolute': float(validation_results.get('improvement_absolute', 0.0)),\n",
    "                'improvement_percentage': float(validation_results.get('improvement_percentage', 0.0)),\n",
    "                'statistical_significance': float(validation_results.get('statistical_significance', 1.0)),\n",
    "                'significant_improvement': bool(validation_results.get('significant_improvement', False))\n",
    "            }\n",
    "            \n",
    "            # Try saving with Polars first\n",
    "            validation_df = pl.DataFrame([validation_clean])\n",
    "            validation_df.write_csv(f'{output_dir}feature_engineering_validation.csv')\n",
    "            print(f\"   ✅ Validation results saved\")\n",
    "            \n",
    "        except Exception as e:\n",
    "            print(f\"   ⚠️  Error saving validation results with Polars: {e}\")\n",
    "            # Fallback to pandas\n",
    "            try:\n",
    "                import pandas as pd\n",
    "                validation_clean = {\n",
    "                    'original_auc_mean': float(validation_results.get('original_auc_mean', 0.0)),\n",
    "                    'original_auc_std': float(validation_results.get('original_auc_std', 0.0)),\n",
    "                    'engineered_auc_mean': float(validation_results.get('engineered_auc_mean', 0.0)),\n",
    "                    'engineered_auc_std': float(validation_results.get('engineered_auc_std', 0.0)),\n",
    "                    'improvement_absolute': float(validation_results.get('improvement_absolute', 0.0)),\n",
    "                    'improvement_percentage': float(validation_results.get('improvement_percentage', 0.0)),\n",
    "                    'statistical_significance': float(validation_results.get('statistical_significance', 1.0)),\n",
    "                    'significant_improvement': bool(validation_results.get('significant_improvement', False))\n",
    "                }\n",
    "                \n",
    "                validation_df = pd.DataFrame([validation_clean])\n",
    "                validation_df.to_csv(f'{output_dir}feature_engineering_validation.csv', index=False)\n",
    "                print(f\"   ✅ Validation results saved (pandas fallback)\")\n",
    "                \n",
    "            except Exception as e2:\n",
    "                print(f\"   ⚠️  Error saving validation results with pandas: {e2}\")\n",
    "                # Final fallback - save as text\n",
    "                try:\n",
    "                    with open(f'{output_dir}validation_summary.txt', 'w') as f:\n",
    "                        f.write(\"Feature Engineering Validation Results\\n\")\n",
    "                        f.write(\"=\" * 40 + \"\\n\")\n",
    "                        f.write(f\"Original AUC: {validation_results.get('original_auc_mean', 0.0):.4f} ± {validation_results.get('original_auc_std', 0.0):.4f}\\n\")\n",
    "                        f.write(f\"Engineered AUC: {validation_results.get('engineered_auc_mean', 0.0):.4f} ± {validation_results.get('engineered_auc_std', 0.0):.4f}\\n\")\n",
    "                        f.write(f\"Improvement: {validation_results.get('improvement_absolute', 0.0):+.4f} ({validation_results.get('improvement_percentage', 0.0):+.1f}%)\\n\")\n",
    "                        f.write(f\"Statistical significance: p = {validation_results.get('statistical_significance', 1.0):.4f}\\n\")\n",
    "                        f.write(f\"Significant improvement: {validation_results.get('significant_improvement', False)}\\n\")\n",
    "                    print(f\"   ✅ Validation summary saved as text file\")\n",
    "                except Exception as e3:\n",
    "                    print(f\"   ⚠️  Could not save any validation results: {e3}\")\n",
    "        \n",
    "        # Save detailed CV scores separately if they exist\n",
    "        try:\n",
    "            if 'original_scores' in validation_results and 'engineered_scores' in validation_results:\n",
    "                import pandas as pd\n",
    "                original_scores = validation_results['original_scores']\n",
    "                engineered_scores = validation_results['engineered_scores']\n",
    "                \n",
    "                # Convert to lists if they're numpy arrays\n",
    "                if hasattr(original_scores, 'tolist'):\n",
    "                    original_scores = original_scores.tolist()\n",
    "                if hasattr(engineered_scores, 'tolist'):\n",
    "                    engineered_scores = engineered_scores.tolist()\n",
    "                \n",
    "                # Create scores dataframe\n",
    "                max_len = max(len(original_scores), len(engineered_scores))\n",
    "                scores_data = {\n",
    "                    'fold': list(range(1, max_len + 1)),\n",
    "                    'original_auc': original_scores[:max_len] + [None] * (max_len - len(original_scores)),\n",
    "                    'engineered_auc': engineered_scores[:max_len] + [None] * (max_len - len(engineered_scores))\n",
    "                }\n",
    "                \n",
    "                scores_df = pd.DataFrame(scores_data)\n",
    "                scores_df.to_csv(f'{output_dir}detailed_cv_scores.csv', index=False)\n",
    "                print(f\"   ✅ Detailed CV scores saved separately\")\n",
    "        except Exception as e:\n",
    "            print(f\"   ⚠️  Could not save detailed CV scores: {e}\")\n",
    "        \n",
    "        print(\"\\n💾 Results saved successfully!\")\n",
    "        return True\n",
    "        \n",
    "    except Exception as e:\n",
    "        print(f\"⚠️  Error in save_feature_engineering_results: {e}\")\n",
    "        return False\n"
   ]
  },
  {
   "cell_type": "code",
   "execution_count": 93,
   "metadata": {},
   "outputs": [
    {
     "name": "stdout",
     "output_type": "stream",
     "text": [
      "💾 Saving feature engineering results to notebooks/results/feature_engineering/...\n",
      "\n",
      "   ✅ Final dataset saved: (5110, 28)\n",
      "   ✅ Feature summary saved: 26 features\n",
      "   ✅ Feature selection results saved: 3 methods\n",
      "   ✅ Validation results saved\n",
      "   ✅ Detailed CV scores saved separately\n",
      "\n",
      "💾 Results saved successfully!\n"
     ]
    }
   ],
   "source": [
    "# Save all results\n",
    "try:\n",
    "    save_success = save_feature_engineering_results(final_dataset, feature_summary, selection_results, validation_results)\n",
    "    if not save_success:\n",
    "        print(\"⚠️  Some results may not have been saved properly\")\n",
    "except Exception as e:\n",
    "    print(f\"⚠️  Error saving results: {e}\")\n",
    "    print(\"Results were not saved, but analysis completed successfully.\")"
   ]
  },
  {
   "cell_type": "markdown",
   "metadata": {},
   "source": [
    "# ============================================================================\n",
    "# SECTION 11: EXECUTIVE SUMMARY AND RECOMMENDATIONS\n",
    "# ============================================================================\n"
   ]
  },
  {
   "cell_type": "code",
   "execution_count": 90,
   "metadata": {},
   "outputs": [
    {
     "name": "stdout",
     "output_type": "stream",
     "text": [
      "\n",
      "================================================================================\n",
      "📋 FEATURE ENGINEERING EXECUTIVE SUMMARY\n",
      "================================================================================\n",
      "\n",
      "🎯 OBJECTIVE\n",
      "   Develop evidence-based features for stroke prediction to improve model \n",
      "   performance and clinical interpretability.\n",
      "\n",
      "📊 DATASET TRANSFORMATION\n",
      "   • Original features:     12\n",
      "   • Engineered features:   59\n",
      "   • Final selected:        27\n",
      "   • Sample size:           5,110 patients\n",
      "\n",
      "🔬 EVIDENCE-BASED FEATURES CREATED\n",
      "   ✅ Age risk categories (Young Adult, Middle-Aged, Elderly, Very Elderly)\n",
      "   ✅ BMI classifications (WHO standard: Underweight, Normal, Overweight, Obese)\n",
      "   ✅ Glucose categories (ADA guidelines: Normal, Prediabetic, Diabetic)\n",
      "   ✅ Cardiovascular risk profiles (Traditional risk factor combinations)\n",
      "   ✅ Smoking risk stratification (Never, Former, Current smokers)\n",
      "   ✅ Medical interaction features (Age×Hypertension, BMI×Diabetes, etc.)\n",
      "\n",
      "📈 FEATURE IMPORTANCE (TOP 5)\n",
      "\n"
     ]
    }
   ],
   "source": [
    "print(\"\\n\" + \"=\"*80)\n",
    "print(\"📋 FEATURE ENGINEERING EXECUTIVE SUMMARY\")\n",
    "print(\"=\"*80)\n",
    "\n",
    "print(f\"\"\"\n",
    "🎯 OBJECTIVE\n",
    "   Develop evidence-based features for stroke prediction to improve model \n",
    "   performance and clinical interpretability.\n",
    "\n",
    "📊 DATASET TRANSFORMATION\n",
    "   • Original features:     12\n",
    "   • Engineered features:   {len(df.columns)}\n",
    "   • Final selected:        {len(selected_features) if 'selected_features' in locals() else 'N/A'}\n",
    "   • Sample size:           {df.shape[0]:,} patients\n",
    "\n",
    "🔬 EVIDENCE-BASED FEATURES CREATED\n",
    "   ✅ Age risk categories (Young Adult, Middle-Aged, Elderly, Very Elderly)\n",
    "   ✅ BMI classifications (WHO standard: Underweight, Normal, Overweight, Obese)\n",
    "   ✅ Glucose categories (ADA guidelines: Normal, Prediabetic, Diabetic)\n",
    "   ✅ Cardiovascular risk profiles (Traditional risk factor combinations)\n",
    "   ✅ Smoking risk stratification (Never, Former, Current smokers)\n",
    "   ✅ Medical interaction features (Age×Hypertension, BMI×Diabetes, etc.)\n",
    "\n",
    "📈 FEATURE IMPORTANCE (TOP 5)\n",
    "\"\"\")"
   ]
  },
  {
   "cell_type": "code",
   "execution_count": 91,
   "metadata": {},
   "outputs": [
    {
     "name": "stdout",
     "output_type": "stream",
     "text": [
      "   1. age                       (Score: 1.0000)\n",
      "   2. age_decade                (Score: 0.3125)\n",
      "   3. hypertension              (Score: 0.2717)\n",
      "   4. age_high_risk             (Score: 0.2167)\n",
      "   5. work_stress_level         (Score: 0.2024)\n",
      "\n",
      "🎯 MODEL PERFORMANCE IMPROVEMENT\n",
      "   • Original features AUC:      0.8411\n",
      "   • Engineered features AUC:    0.8380\n",
      "   • Absolute improvement:       -0.0031\n",
      "   • Percentage improvement:     -0.4%\n",
      "   • Statistical significance:   ❌ No (p = 0.4679)\n",
      "\n",
      "🏥 CLINICAL RELEVANCE\n",
      "   ✅ Features align with established stroke risk factors\n",
      "   ✅ Interpretable risk categories for clinical decision-making\n",
      "   ✅ Composite risk scores for patient stratification\n",
      "   ✅ Modifiable vs. non-modifiable risk factor identification\n",
      "\n",
      "🔍 KEY INSIGHTS\n",
      "   • Age remains the strongest predictor, especially 65+ years\n",
      "   • Cardiovascular risk factor combinations show strong predictive power\n",
      "   • Metabolic syndrome proxy (obesity + diabetes) is highly significant\n",
      "   • Gender-specific risk interactions provide additional insights\n",
      "   • Lifestyle factors (smoking, work stress) contribute meaningfully\n",
      "\n",
      "📋 RECOMMENDATIONS FOR NEXT PHASE\n",
      "   1. Use engineered features for final model development\n",
      "   2. Focus on top 15-20 features to avoid overfitting\n",
      "   3. Consider ensemble methods to capture feature interactions\n",
      "   4. Validate findings on external datasets\n",
      "   5. Develop clinical risk calculator using selected features\n",
      "\n",
      "⚠️  LIMITATIONS\n",
      "   • Feature engineering based on single dataset\n",
      "   • Some interactions may be dataset-specific\n",
      "   • Missing values handled by imputation\n",
      "   • Causal relationships not established\n",
      "\n",
      "✅ READY FOR MODEL DEVELOPMENT\n",
      "   Final dataset prepared with 28 features ready for training\n",
      "   and validation in the next phase.\n",
      "\n",
      "================================================================================\n",
      "🎉 FEATURE ENGINEERING PHASE COMPLETED SUCCESSFULLY!\n",
      "================================================================================\n",
      "\n",
      "📊 FINAL DATASET OVERVIEW:\n",
      "   Shape: (5110, 28)\n",
      "   Target distribution: shape: (2, 2)\n",
      "┌────────┬───────┐\n",
      "│ stroke ┆ count │\n",
      "│ ---    ┆ ---   │\n",
      "│ i64    ┆ u32   │\n",
      "╞════════╪═══════╡\n",
      "│ 1      ┆ 249   │\n",
      "│ 0      ┆ 4861  │\n",
      "└────────┴───────┘\n",
      "   Missing values: 0\n",
      "   Memory usage: 0.84 MB\n",
      "\n",
      "🚀 Ready to proceed to Model Training (Notebook 04)!\n"
     ]
    }
   ],
   "source": [
    "# Display top 5 features safely\n",
    "try:\n",
    "    if 'selection_results' in locals() and 'combined' in selection_results:\n",
    "        top_5_features = selection_results['combined'].head(5)\n",
    "        for i, row in enumerate(top_5_features.rows(named=True), 1):\n",
    "            print(f\"   {i}. {row['feature']:<25} (Score: {row['combined_score']:.4f})\")\n",
    "    else:\n",
    "        print(\"   Feature importance scores not available\")\n",
    "except Exception as e:\n",
    "    print(f\"   Error displaying feature importance: {e}\")\n",
    "\n",
    "print(f\"\"\"\n",
    "🎯 MODEL PERFORMANCE IMPROVEMENT\n",
    "   • Original features AUC:      {validation_results['original_auc_mean']:.4f}\n",
    "   • Engineered features AUC:    {validation_results['engineered_auc_mean']:.4f}\n",
    "   • Absolute improvement:       {validation_results['improvement_absolute']:+.4f}\n",
    "   • Percentage improvement:     {validation_results['improvement_percentage']:+.1f}%\n",
    "   • Statistical significance:   {'✅ Yes' if validation_results['significant_improvement'] else '❌ No'} (p = {validation_results['statistical_significance']:.4f})\n",
    "\n",
    "🏥 CLINICAL RELEVANCE\n",
    "   ✅ Features align with established stroke risk factors\n",
    "   ✅ Interpretable risk categories for clinical decision-making\n",
    "   ✅ Composite risk scores for patient stratification\n",
    "   ✅ Modifiable vs. non-modifiable risk factor identification\n",
    "\n",
    "🔍 KEY INSIGHTS\n",
    "   • Age remains the strongest predictor, especially 65+ years\n",
    "   • Cardiovascular risk factor combinations show strong predictive power\n",
    "   • Metabolic syndrome proxy (obesity + diabetes) is highly significant\n",
    "   • Gender-specific risk interactions provide additional insights\n",
    "   • Lifestyle factors (smoking, work stress) contribute meaningfully\n",
    "\n",
    "📋 RECOMMENDATIONS FOR NEXT PHASE\n",
    "   1. Use engineered features for final model development\n",
    "   2. Focus on top 15-20 features to avoid overfitting\n",
    "   3. Consider ensemble methods to capture feature interactions\n",
    "   4. Validate findings on external datasets\n",
    "   5. Develop clinical risk calculator using selected features\n",
    "\n",
    "⚠️  LIMITATIONS\n",
    "   • Feature engineering based on single dataset\n",
    "   • Some interactions may be dataset-specific\n",
    "   • Missing values handled by imputation\n",
    "   • Causal relationships not established\n",
    "\n",
    "✅ READY FOR MODEL DEVELOPMENT\n",
    "   Final dataset prepared with {final_dataset.shape[1] if 'final_dataset' in locals() else 'N/A'} features ready for training\n",
    "   and validation in the next phase.\n",
    "\"\"\")\n",
    "\n",
    "print(\"=\"*80)\n",
    "print(\"🎉 FEATURE ENGINEERING PHASE COMPLETED SUCCESSFULLY!\")\n",
    "print(\"=\"*80)\n",
    "\n",
    "# Display basic info about final dataset\n",
    "try:\n",
    "    print(f\"\\n📊 FINAL DATASET OVERVIEW:\")\n",
    "    print(f\"   Shape: {final_dataset.shape}\")\n",
    "    stroke_dist = final_dataset.select(pl.col('stroke').value_counts()).unnest('stroke')\n",
    "    print(f\"   Target distribution: {stroke_dist}\")\n",
    "    missing_total = final_dataset.select(pl.all().is_null().sum()).sum_horizontal().item()\n",
    "    print(f\"   Missing values: {missing_total}\")\n",
    "    print(f\"   Memory usage: {final_dataset.estimated_size('mb'):.2f} MB\")\n",
    "except Exception as e:\n",
    "    print(f\"\\n📊 FINAL DATASET OVERVIEW:\")\n",
    "    print(f\"   ⚠️  Dataset overview not available: {e}\")\n",
    "\n",
    "print(\"\\n🚀 Ready to proceed to Model Training (Notebook 04)!\")"
   ]
  },
  {
   "cell_type": "code",
   "execution_count": null,
   "metadata": {},
   "outputs": [],
   "source": []
  }
 ],
 "metadata": {
  "kernelspec": {
   "display_name": ".venv",
   "language": "python",
   "name": "python3"
  },
  "language_info": {
   "codemirror_mode": {
    "name": "ipython",
    "version": 3
   },
   "file_extension": ".py",
   "mimetype": "text/x-python",
   "name": "python",
   "nbconvert_exporter": "python",
   "pygments_lexer": "ipython3",
   "version": "3.12.9"
  }
 },
 "nbformat": 4,
 "nbformat_minor": 2
}

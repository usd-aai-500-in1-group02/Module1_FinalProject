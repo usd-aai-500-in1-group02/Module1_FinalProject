version https://git-lfs.github.com/spec/v1
oid sha256:ca3e984d425f656cfa481997b1b95f0470d5081d3ee4b7efb92adcca44b4edb6
size 319257

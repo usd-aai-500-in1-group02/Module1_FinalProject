version https://git-lfs.github.com/spec/v1
oid sha256:24106ff17b55e3f299f3369a04baca7d3ff255cee1eb1e4aef60140f5e6d183e
size 350068

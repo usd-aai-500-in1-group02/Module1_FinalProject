version https://git-lfs.github.com/spec/v1
oid sha256:3049aeffbf0774ee1959047e54675b9da8f3ff1727b2bd4017cfc7b751ae345d
size 427542

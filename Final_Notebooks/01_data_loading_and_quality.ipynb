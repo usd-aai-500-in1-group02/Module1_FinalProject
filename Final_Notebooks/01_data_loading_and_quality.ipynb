{
 "cells": [
  {
   "cell_type": "markdown",
   "metadata": {},
   "source": [
    "# Stroke Prediction Analysis - Data Loading and Quality Assessment\n",
    "\n",
    "## 📋 Notebook Overview\n",
    "\n",
    "This notebook performs comprehensive data loading and quality assessment for the stroke prediction dataset using high-performance Polars library and advanced data quality metrics.\n",
    "\n",
    "### 🎯 Objectives\n",
    "\n",
    "1. **Load Dataset Efficiently**: Use Polars for high-performance data loading\n",
    "2. **Assess Data Quality**: Comprehensive analysis of data completeness, accuracy, and consistency\n",
    "3. **Identify Issues**: Missing values, outliers, duplicates, and data type problems\n",
    "4. **Generate Insights**: Initial understanding of the stroke prediction dataset\n",
    "5. **Create Baseline**: Establish foundation for subsequent analysis\n",
    "\n",
    "### 📊 Dataset Information\n",
    "\n",
    "- **Source**: Healthcare Stroke Prediction Dataset\n",
    "- **Target Variable**: `stroke` (binary: 0=no stroke, 1=stroke)\n",
    "- **Features**: Demographics, medical history, lifestyle factors, clinical measurements\n",
    "- **Expected Size**: ~5,000 records with 12 features\n",
    "\n",
    "### 🔍 Quality Assessment Framework\n",
    "\n",
    "We'll evaluate data quality across multiple dimensions:\n",
    "- **Completeness**: Missing value analysis\n",
    "- **Validity**: Data type and range validation\n",
    "- **Consistency**: Duplicate detection and logical consistency\n",
    "- **Accuracy**: Outlier detection and clinical validation\n",
    "- **Timeliness**: Data freshness and relevance"
   ]
  },
  {
   "cell_type": "markdown",
   "metadata": {},
   "source": [
    "## 🔧 Library Imports and Setup\n",
    "\n",
    "Setting up our analysis environment with optimized libraries for data processing, analysis, and visualization."
   ]
  },
  {
   "cell_type": "code",
   "execution_count": 5,
   "metadata": {},
   "outputs": [
    {
     "name": "stdout",
     "output_type": "stream",
     "text": [
      "✅ All libraries imported successfully!\n",
      "Polars version: 1.31.0\n",
      "Pandas version: 2.3.0\n",
      "NumPy version: 2.3.0\n"
     ]
    }
   ],
   "source": [
    "# Core data processing libraries\n",
    "import pandas as pd\n",
    "import polars as pl\n",
    "import numpy as np\n",
    "from pathlib import Path\n",
    "\n",
    "# Visualization libraries\n",
    "import matplotlib.pyplot as plt\n",
    "import seaborn as sns\n",
    "import plotly.express as px\n",
    "import plotly.graph_objects as go\n",
    "from plotly.subplots import make_subplots\n",
    "import plotly.figure_factory as ff\n",
    "\n",
    "# Statistical analysis\n",
    "from scipy import stats\n",
    "from scipy.stats import chi2_contingency, shapiro, kstest\n",
    "\n",
    "# Utilities\n",
    "import warnings\n",
    "from typing import Dict, List, Tuple, Optional\n",
    "from datetime import datetime\n",
    "import sys\n",
    "\n",
    "# Configure settings\n",
    "warnings.filterwarnings('ignore')\n",
    "plt.style.use('default')\n",
    "sns.set_palette(\"husl\")\n",
    "\n",
    "# Configure Polars for better display\n",
    "pl.Config.set_tbl_rows(20)\n",
    "pl.Config.set_tbl_cols(15)\n",
    "pl.Config.set_tbl_width_chars(120)\n",
    "\n",
    "# Display settings\n",
    "pd.set_option('display.max_columns', None)\n",
    "pd.set_option('display.width', None)\n",
    "\n",
    "print(\"✅ All libraries imported successfully!\")\n",
    "print(f\"Polars version: {pl.__version__}\")\n",
    "print(f\"Pandas version: {pd.__version__}\")\n",
    "print(f\"NumPy version: {np.__version__}\")"
   ]
  },
  {
   "cell_type": "markdown",
   "metadata": {},
   "source": [
    "## 📂 High-Performance Dataset Loading\n",
    "\n",
    "Using our custom Polars-based dataset reader for optimal performance and comprehensive quality assessment."
   ]
  },
  {
   "cell_type": "code",
   "execution_count": 21,
   "metadata": {},
   "outputs": [],
   "source": [
    "class StrokeDatasetLoader:\n",
    "    \"\"\"\n",
    "    Specialized loader for stroke prediction dataset with comprehensive quality assessment\n",
    "    \"\"\"\n",
    "    \n",
    "    def __init__(self, show_progress: bool = True):\n",
    "        self.show_progress = show_progress\n",
    "        self.data_info = {}\n",
    "        self.quality_metrics = {}\n",
    "        \n",
    "    def load_dataset(self, file_path: str) -> Tuple[pl.DataFrame, Dict]:\n",
    "        \"\"\"\n",
    "        Load stroke dataset with comprehensive quality assessment\n",
    "        \n",
    "        Parameters:\n",
    "        -----------\n",
    "        file_path : str\n",
    "            Path to the stroke dataset file\n",
    "            \n",
    "        Returns:\n",
    "        --------\n",
    "        Tuple[pl.DataFrame, Dict]\n",
    "            Loaded dataset and quality assessment report\n",
    "        \"\"\"\n",
    "        \n",
    "        if self.show_progress:\n",
    "            print(\"=\"*80)\n",
    "            print(\"🏥 STROKE PREDICTION DATASET - LOADING & QUALITY ASSESSMENT\")\n",
    "            print(\"=\"*80)\n",
    "        \n",
    "        # Verify file exists\n",
    "        file_path = Path(file_path)\n",
    "        if not file_path.exists():\n",
    "            raise FileNotFoundError(f\"Dataset file not found: {file_path}\")\n",
    "        \n",
    "        # File information\n",
    "        file_size_mb = file_path.stat().st_size / (1024 * 1024)\n",
    "        \n",
    "        if self.show_progress:\n",
    "            print(f\"\\n📂 DATASET FILE INFORMATION:\")\n",
    "            print(f\"   File: {file_path.name}\")\n",
    "            print(f\"   Size: {file_size_mb:.2f} MB\")\n",
    "            print(f\"   Path: {file_path.absolute()}\")\n",
    "        \n",
    "        # Load with optimized settings for medical data\n",
    "        try:\n",
    "            df = pl.read_csv(\n",
    "                file_path,\n",
    "                infer_schema_length=10000,  # Scan more rows for better type inference\n",
    "                try_parse_dates=True,\n",
    "                null_values=['', 'NULL', 'null', 'NA', 'N/A', 'nan', 'NaN', 'missing'],\n",
    "                ignore_errors=False,  # Strict parsing for data quality\n",
    "                low_memory=False,  # Use more memory for speed\n",
    "                rechunk=True  # Optimize memory layout\n",
    "            )\n",
    "            \n",
    "            if self.show_progress:\n",
    "                print(f\"✅ Dataset loaded successfully!\")\n",
    "                print(f\"   Shape: {df.shape[0]:,} rows × {df.shape[1]} columns\")\n",
    "                print(f\"   Memory usage: {df.estimated_size('mb'):.2f} MB\")\n",
    "            \n",
    "        except Exception as e:\n",
    "            print(f\"❌ Error loading dataset: {str(e)}\")\n",
    "            raise\n",
    "        \n",
    "        # Store basic information\n",
    "        self.data_info = {\n",
    "            'file_path': str(file_path),\n",
    "            'file_size_mb': file_size_mb,\n",
    "            'shape': df.shape,\n",
    "            'columns': df.columns,\n",
    "            'dtypes': {col: str(dtype) for col, dtype in zip(df.columns, df.dtypes)},\n",
    "            'memory_usage_mb': df.estimated_size('mb'),\n",
    "            'load_timestamp': datetime.now().isoformat()\n",
    "        }\n",
    "        \n",
    "        return df, self.data_info\n",
    "    \n",
    "    def comprehensive_quality_assessment(self, df: pl.DataFrame) -> Dict:\n",
    "        \"\"\"\n",
    "        Perform comprehensive data quality assessment\n",
    "        \n",
    "        Parameters:\n",
    "        -----------\n",
    "        df : pl.DataFrame\n",
    "            Dataset to assess\n",
    "            \n",
    "        Returns:\n",
    "        --------\n",
    "        Dict\n",
    "            Comprehensive quality assessment report\n",
    "        \"\"\"\n",
    "        \n",
    "        if self.show_progress:\n",
    "            print(f\"\\n🔍 COMPREHENSIVE DATA QUALITY ASSESSMENT\")\n",
    "            print(\"-\" * 60)\n",
    "        \n",
    "        quality_report = {}\n",
    "        \n",
    "        # 1. Basic Dataset Metrics\n",
    "        basic_metrics = self._assess_basic_metrics(df)\n",
    "        quality_report['basic_metrics'] = basic_metrics\n",
    "        \n",
    "        # 2. Missing Values Analysis\n",
    "        missing_analysis = self._analyze_missing_values(df)\n",
    "        quality_report['missing_values'] = missing_analysis\n",
    "        \n",
    "        # 3. Data Types Assessment\n",
    "        dtype_analysis = self._assess_data_types(df)\n",
    "        quality_report['data_types'] = dtype_analysis\n",
    "        \n",
    "        # 4. Duplicate Analysis\n",
    "        duplicate_analysis = self._analyze_duplicates(df)\n",
    "        quality_report['duplicates'] = duplicate_analysis\n",
    "        \n",
    "        # 5. Statistical Summary\n",
    "        statistical_summary = self._generate_statistical_summary(df)\n",
    "        quality_report['statistical_summary'] = statistical_summary\n",
    "        \n",
    "        # 6. Medical Domain Validation\n",
    "        medical_validation = self._medical_domain_validation(df)\n",
    "        quality_report['medical_validation'] = medical_validation\n",
    "        \n",
    "        # 7. Target Variable Analysis\n",
    "        target_analysis = self._analyze_target_variable(df)\n",
    "        quality_report['target_analysis'] = target_analysis\n",
    "        \n",
    "        # 8. Overall Quality Score\n",
    "        quality_score = self._calculate_overall_quality_score(quality_report)\n",
    "        quality_report['overall_score'] = quality_score\n",
    "        \n",
    "        self.quality_metrics = quality_report\n",
    "        return quality_report\n",
    "    \n",
    "    def _assess_basic_metrics(self, df: pl.DataFrame) -> Dict:\n",
    "        \"\"\"Assess basic dataset metrics\"\"\"\n",
    "        \n",
    "        if self.show_progress:\n",
    "            print(f\"\\n📊 BASIC DATASET METRICS:\")\n",
    "            print(\"-\" * 30)\n",
    "        \n",
    "        metrics = {\n",
    "            'total_rows': df.height,\n",
    "            'total_columns': df.width,\n",
    "            'total_cells': df.height * df.width,\n",
    "            'memory_usage_mb': df.estimated_size('mb'),\n",
    "            'column_names': df.columns,\n",
    "            'data_types_count': len(set(str(dtype) for dtype in df.dtypes))\n",
    "        }\n",
    "        \n",
    "        if self.show_progress:\n",
    "            print(f\"   Total Rows: {metrics['total_rows']:,}\")\n",
    "            print(f\"   Total Columns: {metrics['total_columns']}\")\n",
    "            print(f\"   Total Cells: {metrics['total_cells']:,}\")\n",
    "            print(f\"   Memory Usage: {metrics['memory_usage_mb']:.2f} MB\")\n",
    "            print(f\"   Unique Data Types: {metrics['data_types_count']}\")\n",
    "        \n",
    "        return metrics\n",
    "    \n",
    "    def _analyze_missing_values(self, df: pl.DataFrame) -> Dict:\n",
    "        \"\"\"Comprehensive missing values analysis\"\"\"\n",
    "        \n",
    "        if self.show_progress:\n",
    "            print(f\"\\n🔍 MISSING VALUES ANALYSIS:\")\n",
    "            print(\"-\" * 30)\n",
    "        \n",
    "        # Calculate missing values per column\n",
    "        missing_per_column = []\n",
    "        total_rows = df.height\n",
    "        \n",
    "        for col in df.columns:\n",
    "            missing_count = df[col].null_count()\n",
    "            missing_percentage = (missing_count / total_rows) * 100\n",
    "            \n",
    "            missing_per_column.append({\n",
    "                'column': col,\n",
    "                'missing_count': missing_count,\n",
    "                'missing_percentage': missing_percentage,\n",
    "                'data_type': str(df[col].dtype),\n",
    "                'non_null_count': total_rows - missing_count\n",
    "            })\n",
    "        \n",
    "        # Sort by missing percentage\n",
    "        missing_df = pd.DataFrame(missing_per_column).sort_values('missing_percentage', ascending=False)\n",
    "        \n",
    "        # Summary statistics\n",
    "        total_missing = missing_df['missing_count'].sum()\n",
    "        columns_with_missing = len(missing_df[missing_df['missing_count'] > 0])\n",
    "        overall_missing_rate = (total_missing / (total_rows * len(df.columns))) * 100\n",
    "        \n",
    "        # Categorize missing value severity\n",
    "        if overall_missing_rate < 1:\n",
    "            missing_severity = \"EXCELLENT\"\n",
    "        elif overall_missing_rate < 5:\n",
    "            missing_severity = \"GOOD\"\n",
    "        elif overall_missing_rate < 15:\n",
    "            missing_severity = \"MODERATE\"\n",
    "        elif overall_missing_rate < 30:\n",
    "            missing_severity = \"POOR\"\n",
    "        else:\n",
    "            missing_severity = \"CRITICAL\"\n",
    "        \n",
    "        if self.show_progress:\n",
    "            print(f\"   Total Missing Values: {total_missing:,}\")\n",
    "            print(f\"   Overall Missing Rate: {overall_missing_rate:.2f}%\")\n",
    "            print(f\"   Columns with Missing: {columns_with_missing}/{len(df.columns)}\")\n",
    "            print(f\"   Missing Severity: {missing_severity}\")\n",
    "            \n",
    "            if columns_with_missing > 0:\n",
    "                print(f\"\\n   Top columns with missing values:\")\n",
    "                for _, row in missing_df.head(5).iterrows():\n",
    "                    if row['missing_count'] > 0:\n",
    "                        print(f\"     • {row['column']}: {row['missing_count']:,} ({row['missing_percentage']:.1f}%)\")\n",
    "        \n",
    "        return {\n",
    "            'missing_summary': missing_df.to_dict('records'),\n",
    "            'total_missing': int(total_missing),\n",
    "            'overall_missing_rate': overall_missing_rate,\n",
    "            'columns_with_missing': columns_with_missing,\n",
    "            'missing_severity': missing_severity,\n",
    "            'missing_patterns': self._analyze_missing_patterns(df)\n",
    "        }\n",
    "    \n",
    "    def _analyze_missing_patterns(self, df: pl.DataFrame) -> Dict:\n",
    "        \"\"\"Analyze patterns in missing values\"\"\"\n",
    "        \n",
    "        # Convert to pandas for missing pattern analysis\n",
    "        df_pd = df.to_pandas()\n",
    "        \n",
    "        # Find columns with missing values\n",
    "        missing_cols = [col for col in df_pd.columns if df_pd[col].isnull().any()]\n",
    "        \n",
    "        if not missing_cols:\n",
    "            return {'message': 'No missing values to analyze patterns'}\n",
    "        \n",
    "        # Analyze missing value patterns\n",
    "        missing_patterns = df_pd[missing_cols].isnull()\n",
    "        pattern_counts = missing_patterns.value_counts().head(10)\n",
    "        \n",
    "        return {\n",
    "            'columns_with_missing': missing_cols,\n",
    "            'top_missing_patterns': pattern_counts.to_dict(),\n",
    "            'pattern_analysis': 'Complete - missing values appear independent' if len(pattern_counts) > 5 else 'Simple - few missing patterns'\n",
    "        }\n",
    "    \n",
    "    def _assess_data_types(self, df: pl.DataFrame) -> Dict:\n",
    "        \"\"\"Assess data types and suggest optimizations\"\"\"\n",
    "        \n",
    "        if self.show_progress:\n",
    "            print(f\"\\n🔍 DATA TYPES ASSESSMENT:\")\n",
    "            print(\"-\" * 30)\n",
    "        \n",
    "        dtype_summary = {}\n",
    "        optimization_suggestions = []\n",
    "        \n",
    "        for col in df.columns:\n",
    "            dtype = str(df[col].dtype)\n",
    "            unique_count = df[col].n_unique()\n",
    "            \n",
    "            dtype_summary[col] = {\n",
    "                'current_type': dtype,\n",
    "                'unique_values': unique_count,\n",
    "                'null_count': df[col].null_count()\n",
    "            }\n",
    "            \n",
    "            # Suggest optimizations\n",
    "            if dtype == 'Utf8':  # String type\n",
    "                if unique_count <= 10:\n",
    "                    optimization_suggestions.append({\n",
    "                        'column': col,\n",
    "                        'current_type': dtype,\n",
    "                        'suggested_type': 'Categorical',\n",
    "                        'reason': f'Only {unique_count} unique values',\n",
    "                        'memory_savings': 'Significant for repeated strings'\n",
    "                    })\n",
    "            \n",
    "            elif dtype in ['Int64', 'Float64']:\n",
    "                # Check for potential boolean\n",
    "                non_null_values = df[col].drop_nulls().unique().sort()\n",
    "                if len(non_null_values) == 2 and set(non_null_values.to_list()) <= {0, 1}:\n",
    "                    optimization_suggestions.append({\n",
    "                        'column': col,\n",
    "                        'current_type': dtype,\n",
    "                        'suggested_type': 'Boolean',\n",
    "                        'reason': 'Only contains 0/1 values',\n",
    "                        'memory_savings': 'Moderate'\n",
    "                    })\n",
    "        \n",
    "        # Data type distribution\n",
    "        dtype_counts = {}\n",
    "        for dtype_info in dtype_summary.values():\n",
    "            dtype = dtype_info['current_type']\n",
    "            dtype_counts[dtype] = dtype_counts.get(dtype, 0) + 1\n",
    "        \n",
    "        if self.show_progress:\n",
    "            print(f\"   Data Type Distribution:\")\n",
    "            for dtype, count in sorted(dtype_counts.items()):\n",
    "                print(f\"     • {dtype}: {count} columns\")\n",
    "            \n",
    "            if optimization_suggestions:\n",
    "                print(f\"\\n   Optimization Suggestions:\")\n",
    "                for suggestion in optimization_suggestions[:5]:\n",
    "                    print(f\"     • {suggestion['column']}: {suggestion['current_type']} → {suggestion['suggested_type']}\")\n",
    "        \n",
    "        return {\n",
    "            'dtype_summary': dtype_summary,\n",
    "            'dtype_distribution': dtype_counts,\n",
    "            'optimization_suggestions': optimization_suggestions\n",
    "        }\n",
    "    \n",
    "    def _analyze_duplicates(self, df: pl.DataFrame) -> Dict:\n",
    "        \"\"\"Analyze duplicate rows\"\"\"\n",
    "        \n",
    "        if self.show_progress:\n",
    "            print(f\"\\n🔍 DUPLICATE ANALYSIS:\")\n",
    "            print(\"-\" * 30)\n",
    "        \n",
    "        total_rows = df.height\n",
    "        unique_rows = df.unique().height\n",
    "        duplicate_rows = total_rows - unique_rows\n",
    "        duplicate_percentage = (duplicate_rows / total_rows) * 100\n",
    "        \n",
    "        # Assess duplicate severity\n",
    "        if duplicate_percentage == 0:\n",
    "            duplicate_severity = \"EXCELLENT\"\n",
    "        elif duplicate_percentage < 1:\n",
    "            duplicate_severity = \"GOOD\"\n",
    "        elif duplicate_percentage < 5:\n",
    "            duplicate_severity = \"MODERATE\"\n",
    "        elif duplicate_percentage < 15:\n",
    "            duplicate_severity = \"POOR\"\n",
    "        else:\n",
    "            duplicate_severity = \"CRITICAL\"\n",
    "        \n",
    "        if self.show_progress:\n",
    "            print(f\"   Total Rows: {total_rows:,}\")\n",
    "            print(f\"   Unique Rows: {unique_rows:,}\")\n",
    "            print(f\"   Duplicate Rows: {duplicate_rows:,}\")\n",
    "            print(f\"   Duplicate Rate: {duplicate_percentage:.2f}%\")\n",
    "            print(f\"   Duplicate Severity: {duplicate_severity}\")\n",
    "        \n",
    "        return {\n",
    "            'total_rows': total_rows,\n",
    "            'unique_rows': unique_rows,\n",
    "            'duplicate_rows': duplicate_rows,\n",
    "            'duplicate_percentage': duplicate_percentage,\n",
    "            'duplicate_severity': duplicate_severity\n",
    "        }\n",
    "    \n",
    "    def _generate_statistical_summary(self, df: pl.DataFrame) -> Dict:\n",
    "        \"\"\"Generate comprehensive statistical summary\"\"\"\n",
    "        \n",
    "        if self.show_progress:\n",
    "            print(f\"\\n🔍 STATISTICAL SUMMARY:\")\n",
    "            print(\"-\" * 30)\n",
    "        \n",
    "        # Identify numerical columns\n",
    "        numerical_cols = []\n",
    "        categorical_cols = []\n",
    "        \n",
    "        for col in df.columns:\n",
    "            if df[col].dtype in [pl.Int8, pl.Int16, pl.Int32, pl.Int64, \n",
    "                               pl.Float32, pl.Float64, pl.UInt8, pl.UInt16, pl.UInt32, pl.UInt64]:\n",
    "                numerical_cols.append(col)\n",
    "            else:\n",
    "                categorical_cols.append(col)\n",
    "        \n",
    "        # Numerical statistics\n",
    "        numerical_stats = {}\n",
    "        for col in numerical_cols:\n",
    "            col_data = df[col].drop_nulls()\n",
    "            \n",
    "            if len(col_data) > 0:\n",
    "                numerical_stats[col] = {\n",
    "                    'count': len(col_data),\n",
    "                    'mean': col_data.mean(),\n",
    "                    'median': col_data.median(),\n",
    "                    'std': col_data.std(),\n",
    "                    'min': col_data.min(),\n",
    "                    'max': col_data.max(),\n",
    "                    'q25': col_data.quantile(0.25),\n",
    "                    'q75': col_data.quantile(0.75),\n",
    "                    'iqr': col_data.quantile(0.75) - col_data.quantile(0.25),\n",
    "                    'skewness': self._calculate_skewness(col_data),\n",
    "                    'kurtosis': self._calculate_kurtosis(col_data),\n",
    "                    'cv': col_data.std() / col_data.mean() if col_data.mean() != 0 else 0  # Coefficient of variation\n",
    "                }\n",
    "        \n",
    "        # Categorical statistics\n",
    "        categorical_stats = {}\n",
    "        for col in categorical_cols:\n",
    "            value_counts = df[col].value_counts()\n",
    "            total_count = df[col].count()\n",
    "            \n",
    "            categorical_stats[col] = {\n",
    "                'unique_count': df[col].n_unique(),\n",
    "                'most_frequent': value_counts[0, col] if len(value_counts) > 0 else None,\n",
    "                'most_frequent_count': value_counts[0, 'count'] if len(value_counts) > 0 else 0,\n",
    "                'least_frequent': value_counts[-1, col] if len(value_counts) > 0 else None,\n",
    "                'concentration_ratio': value_counts[0, 'count'] / total_count if total_count > 0 and len(value_counts) > 0 else 0\n",
    "            }\n",
    "        \n",
    "        if self.show_progress:\n",
    "            print(f\"   Numerical Columns: {len(numerical_cols)}\")\n",
    "            print(f\"   Categorical Columns: {len(categorical_cols)}\")\n",
    "            \n",
    "            if numerical_cols:\n",
    "                print(f\"\\n   Sample Numerical Statistics:\")\n",
    "                for col in numerical_cols[:3]:  # Show first 3\n",
    "                    stats = numerical_stats[col]\n",
    "                    print(f\"     • {col}: μ={stats['mean']:.2f}, σ={stats['std']:.2f}, range=[{stats['min']:.1f}, {stats['max']:.1f}]\")\n",
    "            \n",
    "            if categorical_cols:\n",
    "                print(f\"\\n   Sample Categorical Statistics:\")\n",
    "                for col in categorical_cols[:3]:  # Show first 3\n",
    "                    stats = categorical_stats[col]\n",
    "                    print(f\"     • {col}: {stats['unique_count']} unique values, top: '{stats['most_frequent']}'\")\n",
    "        \n",
    "        return {\n",
    "            'numerical_columns': numerical_cols,\n",
    "            'categorical_columns': categorical_cols,\n",
    "            'numerical_statistics': numerical_stats,\n",
    "            'categorical_statistics': categorical_stats\n",
    "        }\n",
    "    \n",
    "    def _medical_domain_validation(self, df: pl.DataFrame) -> Dict:\n",
    "        \"\"\"Validate data against medical domain knowledge\"\"\"\n",
    "        \n",
    "        if self.show_progress:\n",
    "            print(f\"\\n🏥 MEDICAL DOMAIN VALIDATION:\")\n",
    "            print(\"-\" * 30)\n",
    "        \n",
    "        validation_results = {}\n",
    "        issues = []\n",
    "        \n",
    "        # Age validation\n",
    "        if 'age' in df.columns:\n",
    "            age_issues = []\n",
    "            invalid_ages = df.filter((pl.col('age') < 0) | (pl.col('age') > 120)).height\n",
    "            if invalid_ages > 0:\n",
    "                age_issues.append(f\"Invalid ages found: {invalid_ages} records\")\n",
    "            \n",
    "            mean_age = df['age'].mean()\n",
    "            if mean_age < 20 or mean_age > 80:\n",
    "                age_issues.append(f\"Unusual mean age: {mean_age:.1f} years\")\n",
    "            \n",
    "            validation_results['age'] = {\n",
    "                'invalid_count': invalid_ages,\n",
    "                'mean_age': mean_age,\n",
    "                'issues': age_issues\n",
    "            }\n",
    "            issues.extend(age_issues)\n",
    "        \n",
    "        # BMI validation\n",
    "        if 'bmi' in df.columns:\n",
    "            bmi_issues = []\n",
    "            invalid_bmi = df.filter((pl.col('bmi') < 10) | (pl.col('bmi') > 60)).height\n",
    "            if invalid_bmi > 0:\n",
    "                bmi_issues.append(f\"Extreme BMI values: {invalid_bmi} records\")\n",
    "            \n",
    "            validation_results['bmi'] = {\n",
    "                'invalid_count': invalid_bmi,\n",
    "                'issues': bmi_issues\n",
    "            }\n",
    "            issues.extend(bmi_issues)\n",
    "        \n",
    "        # Glucose validation\n",
    "        if 'avg_glucose_level' in df.columns:\n",
    "            glucose_issues = []\n",
    "            invalid_glucose = df.filter((pl.col('avg_glucose_level') < 50) | (pl.col('avg_glucose_level') > 500)).height\n",
    "            if invalid_glucose > 0:\n",
    "                glucose_issues.append(f\"Extreme glucose values: {invalid_glucose} records\")\n",
    "            \n",
    "            validation_results['glucose'] = {\n",
    "                'invalid_count': invalid_glucose,\n",
    "                'issues': glucose_issues\n",
    "            }\n",
    "            issues.extend(glucose_issues)\n",
    "        \n",
    "        # Binary variables validation (should be 0/1)\n",
    "        binary_vars = ['hypertension', 'heart_disease', 'stroke']\n",
    "        for var in binary_vars:\n",
    "            if var in df.columns:\n",
    "                unique_vals = set(df[var].drop_nulls().unique().to_list())\n",
    "                if not unique_vals.issubset({0, 1}):\n",
    "                    issues.append(f\"{var} contains non-binary values: {unique_vals}\")\n",
    "        \n",
    "        # Overall validation status\n",
    "        if not issues:\n",
    "            validation_status = \"PASSED\"\n",
    "            validation_score = 100\n",
    "        elif len(issues) <= 2:\n",
    "            validation_status = \"MINOR_ISSUES\"\n",
    "            validation_score = 80\n",
    "        elif len(issues) <= 5:\n",
    "            validation_status = \"MODERATE_ISSUES\"\n",
    "            validation_score = 60\n",
    "        else:\n",
    "            validation_status = \"MAJOR_ISSUES\"\n",
    "            validation_score = 30\n",
    "        \n",
    "        if self.show_progress:\n",
    "            print(f\"   Validation Status: {validation_status}\")\n",
    "            print(f\"   Validation Score: {validation_score}/100\")\n",
    "            \n",
    "            if issues:\n",
    "                print(f\"   Issues Found:\")\n",
    "                for issue in issues[:5]:  # Show top 5 issues\n",
    "                    print(f\"     • {issue}\")\n",
    "        \n",
    "        return {\n",
    "            'validation_status': validation_status,\n",
    "            'validation_score': validation_score,\n",
    "            'issues': issues,\n",
    "            'detailed_results': validation_results\n",
    "        }\n",
    "    \n",
    "    def _analyze_target_variable(self, df: pl.DataFrame, target_col: str = 'stroke') -> Dict:\n",
    "        \"\"\"Comprehensive analysis of target variable\"\"\"\n",
    "        \n",
    "        if self.show_progress:\n",
    "            print(f\"\\n🎯 TARGET VARIABLE ANALYSIS ({target_col}):\")\n",
    "            print(\"-\" * 40)\n",
    "        \n",
    "        if target_col not in df.columns:\n",
    "            return {'error': f'Target column {target_col} not found'}\n",
    "        \n",
    "        target_data = df[target_col]\n",
    "        \n",
    "        # Basic statistics\n",
    "        value_counts = target_data.value_counts().sort('count', descending=True)\n",
    "        total_count = target_data.count()\n",
    "        null_count = target_data.null_count()\n",
    "        \n",
    "        # Calculate class distribution\n",
    "        class_distribution = {}\n",
    "        imbalance_ratio = 0\n",
    "        \n",
    "        if len(value_counts) > 0:\n",
    "            for row in value_counts.iter_rows(named=True):\n",
    "                class_val = row[target_col]\n",
    "                count = row['count']\n",
    "                percentage = (count / total_count) * 100\n",
    "                class_distribution[class_val] = {\n",
    "                    'count': count,\n",
    "                    'percentage': percentage\n",
    "                }\n",
    "            \n",
    "            # Calculate imbalance ratio\n",
    "            counts_list = [info['count'] for info in class_distribution.values()]\n",
    "            if len(counts_list) >= 2:\n",
    "                imbalance_ratio = max(counts_list) / min(counts_list)\n",
    "        \n",
    "        # Assess class balance\n",
    "        minority_percentage = min([info['percentage'] for info in class_distribution.values()]) if class_distribution else 0\n",
    "        \n",
    "        if minority_percentage >= 40:\n",
    "            balance_status = \"WELL_BALANCED\"\n",
    "        elif minority_percentage >= 20:\n",
    "            balance_status = \"SLIGHTLY_IMBALANCED\"\n",
    "        elif minority_percentage >= 10:\n",
    "            balance_status = \"MODERATELY_IMBALANCED\"\n",
    "        elif minority_percentage >= 5:\n",
    "            balance_status = \"SEVERELY_IMBALANCED\"\n",
    "        else:\n",
    "            balance_status = \"EXTREMELY_IMBALANCED\"\n",
    "        \n",
    "        if self.show_progress:\n",
    "            print(f\"   Unique Values: {len(class_distribution)}\")\n",
    "            print(f\"   Total Records: {total_count:,}\")\n",
    "            print(f\"   Missing Values: {null_count}\")\n",
    "            \n",
    "            print(f\"\\n   Class Distribution:\")\n",
    "            for class_val, info in class_distribution.items():\n",
    "                print(f\"     • Class {class_val}: {info['count']:,} ({info['percentage']:.1f}%)\")\n",
    "            \n",
    "            print(f\"\\n   Imbalance Ratio: {imbalance_ratio:.1f}:1\")\n",
    "            print(f\"   Balance Status: {balance_status}\")\n",
    "            \n",
    "            # Clinical interpretation for stroke data\n",
    "            if target_col == 'stroke':\n",
    "                print(f\"\\n   Clinical Interpretation:\")\n",
    "                if minority_percentage < 10:\n",
    "                    print(f\"     ✅ Realistic stroke prevalence for general population\")\n",
    "                    print(f\"     ⚠️  Severe imbalance will require specialized ML techniques\")\n",
    "                else:\n",
    "                    print(f\"     ⚠️  Higher than expected stroke rate - verify data source\")\n",
    "        \n",
    "        return {\n",
    "            'unique_values': len(class_distribution),\n",
    "            'total_count': total_count,\n",
    "            'null_count': null_count,\n",
    "            'class_distribution': class_distribution,\n",
    "            'imbalance_ratio': imbalance_ratio,\n",
    "            'balance_status': balance_status,\n",
    "            'minority_percentage': minority_percentage\n",
    "        }\n",
    "    \n",
    "    def _calculate_overall_quality_score(self, quality_report: Dict) -> Dict:\n",
    "        \"\"\"Calculate comprehensive data quality score\"\"\"\n",
    "        \n",
    "        if self.show_progress:\n",
    "            print(f\"\\n🏆 OVERALL DATA QUALITY ASSESSMENT:\")\n",
    "            print(\"-\" * 40)\n",
    "        \n",
    "        score = 100.0\n",
    "        deductions = []\n",
    "        \n",
    "        # Missing values penalty\n",
    "        missing_rate = quality_report['missing_values']['overall_missing_rate']\n",
    "        if missing_rate > 30:\n",
    "            penalty = 40\n",
    "            deductions.append(f\"Critical missing values ({missing_rate:.1f}%): -{penalty} points\")\n",
    "        elif missing_rate > 15:\n",
    "            penalty = 25\n",
    "            deductions.append(f\"High missing values ({missing_rate:.1f}%): -{penalty} points\")\n",
    "        elif missing_rate > 5:\n",
    "            penalty = 10\n",
    "            deductions.append(f\"Moderate missing values ({missing_rate:.1f}%): -{penalty} points\")\n",
    "        elif missing_rate > 1:\n",
    "            penalty = 5\n",
    "            deductions.append(f\"Low missing values ({missing_rate:.1f}%): -{penalty} points\")\n",
    "        else:\n",
    "            penalty = 0\n",
    "        score -= penalty\n",
    "        \n",
    "        # Duplicate penalty\n",
    "        duplicate_rate = quality_report['duplicates']['duplicate_percentage']\n",
    "        if duplicate_rate > 15:\n",
    "            penalty = 25\n",
    "            deductions.append(f\"High duplicate rate ({duplicate_rate:.1f}%): -{penalty} points\")\n",
    "        elif duplicate_rate > 5:\n",
    "            penalty = 15\n",
    "            deductions.append(f\"Moderate duplicate rate ({duplicate_rate:.1f}%): -{penalty} points\")\n",
    "        elif duplicate_rate > 1:\n",
    "            penalty = 5\n",
    "            deductions.append(f\"Low duplicate rate ({duplicate_rate:.1f}%): -{penalty} points\")\n",
    "        else:\n",
    "            penalty = 0\n",
    "        score -= penalty\n",
    "        \n",
    "        # Medical validation penalty\n",
    "        medical_score = quality_report['medical_validation']['validation_score']\n",
    "        if medical_score < 100:\n",
    "            penalty = (100 - medical_score) * 0.3  # 30% weight for medical validation\n",
    "            deductions.append(f\"Medical validation issues: -{penalty:.1f} points\")\n",
    "            score -= penalty\n",
    "        \n",
    "        # Class imbalance consideration (informational, not penalty for medical data)\n",
    "        if 'target_analysis' in quality_report:\n",
    "            imbalance_ratio = quality_report['target_analysis']['imbalance_ratio']\n",
    "            if imbalance_ratio > 20:\n",
    "                deductions.append(f\"Severe class imbalance ({imbalance_ratio:.1f}:1): Consider specialized techniques\")\n",
    "        \n",
    "        # Ensure score doesn't go below 0\n",
    "        score = max(0, score)\n",
    "        \n",
    "        # Determine grade\n",
    "        if score >= 95:\n",
    "            grade = \"EXCELLENT\"\n",
    "            recommendation = \"Dataset is ready for analysis\"\n",
    "        elif score >= 85:\n",
    "            grade = \"VERY_GOOD\"\n",
    "            recommendation = \"Minor issues, suitable for analysis with minimal preprocessing\"\n",
    "        elif score >= 75:\n",
    "            grade = \"GOOD\"\n",
    "            recommendation = \"Some issues present, address before analysis\"\n",
    "        elif score >= 65:\n",
    "            grade = \"FAIR\"\n",
    "            recommendation = \"Multiple issues, significant preprocessing required\"\n",
    "        elif score >= 50:\n",
    "            grade = \"POOR\"\n",
    "            recommendation = \"Major quality issues, extensive cleaning needed\"\n",
    "        else:\n",
    "            grade = \"VERY_POOR\"\n",
    "            recommendation = \"Critical quality issues, consider data source reliability\"\n",
    "        \n",
    "        if self.show_progress:\n",
    "            print(f\"   Overall Quality Score: {score:.1f}/100\")\n",
    "            print(f\"   Quality Grade: {grade}\")\n",
    "            print(f\"   Recommendation: {recommendation}\")\n",
    "            \n",
    "            if deductions:\n",
    "                print(f\"\\n   Score Deductions:\")\n",
    "                for deduction in deductions:\n",
    "                    print(f\"     • {deduction}\")\n",
    "        \n",
    "        return {\n",
    "            'score': score,\n",
    "            'grade': grade,\n",
    "            'recommendation': recommendation,\n",
    "            'deductions': deductions\n",
    "        }\n",
    "    \n",
    "    def _calculate_skewness(self, series: pl.Series) -> float:\n",
    "        \"\"\"Calculate skewness of a Polars series\"\"\"\n",
    "        try:\n",
    "            values = series.to_numpy()\n",
    "            if len(values) < 3:\n",
    "                return 0.0\n",
    "            \n",
    "            mean_val = np.mean(values)\n",
    "            std_val = np.std(values, ddof=0)\n",
    "            \n",
    "            if std_val == 0:\n",
    "                return 0.0\n",
    "            \n",
    "            skew_val = np.mean(((values - mean_val) / std_val) ** 3)\n",
    "            return float(skew_val)\n",
    "        except:\n",
    "            return 0.0\n",
    "    \n",
    "    def _calculate_kurtosis(self, series: pl.Series) -> float:\n",
    "        \"\"\"Calculate kurtosis of a Polars series\"\"\"\n",
    "        try:\n",
    "            values = series.to_numpy()\n",
    "            if len(values) < 4:\n",
    "                return 0.0\n",
    "            \n",
    "            mean_val = np.mean(values)\n",
    "            std_val = np.std(values, ddof=0)\n",
    "            \n",
    "            if std_val == 0:\n",
    "                return 0.0\n",
    "            \n",
    "            kurt_val = np.mean(((values - mean_val) / std_val) ** 4) - 3\n",
    "            return float(kurt_val)\n",
    "        except:\n",
    "            return 0.0"
   ]
  },
  {
   "cell_type": "markdown",
   "metadata": {},
   "source": [
    "# Initialize the loader"
   ]
  },
  {
   "cell_type": "code",
   "execution_count": 22,
   "metadata": {},
   "outputs": [
    {
     "name": "stdout",
     "output_type": "stream",
     "text": [
      "🔧 StrokeDatasetLoader initialized successfully!\n"
     ]
    }
   ],
   "source": [
    "# Initialize the loader\n",
    "loader = StrokeDatasetLoader(show_progress=True)\n",
    "print(\"🔧 StrokeDatasetLoader initialized successfully!\")"
   ]
  },
  {
   "cell_type": "markdown",
   "metadata": {},
   "source": [
    "## 📂 Loading the Stroke Prediction Dataset\n",
    "\n",
    "Loading the healthcare stroke dataset with comprehensive error handling and initial assessment."
   ]
  },
  {
   "cell_type": "code",
   "execution_count": 23,
   "metadata": {},
   "outputs": [
    {
     "name": "stdout",
     "output_type": "stream",
     "text": [
      "🔍 Attempting to load stroke prediction dataset...\n",
      "================================================================================\n",
      "🏥 STROKE PREDICTION DATASET - LOADING & QUALITY ASSESSMENT\n",
      "================================================================================\n",
      "\n",
      "📂 DATASET FILE INFORMATION:\n",
      "   File: healthcare-dataset-stroke-data.csv\n",
      "   Size: 0.30 MB\n",
      "   Path: /Users/sourangshupal/Downloads/Module1_FinalProject/notebooks/../data/healthcare-dataset-stroke-data.csv\n",
      "✅ Dataset loaded successfully!\n",
      "   Shape: 5,110 rows × 12 columns\n",
      "   Memory usage: 0.43 MB\n",
      "✅ Dataset loaded from: ../data/healthcare-dataset-stroke-data.csv\n",
      "\n",
      "🎉 Dataset successfully loaded!\n",
      "📊 Shape: 5,110 rows × 12 columns\n"
     ]
    }
   ],
   "source": [
    "# Specify dataset path (adjust as needed)\n",
    "DATASET_PATH = \"../data/healthcare-dataset-stroke-data.csv\"\n",
    "\n",
    "# Alternative paths to try if the main path doesn't work\n",
    "ALTERNATIVE_PATHS = [\n",
    "    \"data/healthcare-dataset-stroke-data.csv\",\n",
    "    \"../data/healthcare-dataset-stroke-data.csv\",\n",
    "    \"datasets/healthcare-dataset-stroke-data.csv\"\n",
    "]\n",
    "\n",
    "# Try to load the dataset\n",
    "dataset_loaded = False\n",
    "df = None\n",
    "data_info = None\n",
    "\n",
    "print(\"🔍 Attempting to load stroke prediction dataset...\")\n",
    "\n",
    "# Try main path first\n",
    "try:\n",
    "    if Path(DATASET_PATH).exists():\n",
    "        df, data_info = loader.load_dataset(DATASET_PATH)\n",
    "        dataset_loaded = True\n",
    "        print(f\"✅ Dataset loaded from: {DATASET_PATH}\")\n",
    "    else:\n",
    "        print(f\"❌ Dataset not found at: {DATASET_PATH}\")\n",
    "except Exception as e:\n",
    "    print(f\"❌ Error loading from main path: {e}\")\n",
    "\n",
    "# Try alternative paths if main path failed\n",
    "if not dataset_loaded:\n",
    "    print(\"\\n🔍 Trying alternative paths...\")\n",
    "    for alt_path in ALTERNATIVE_PATHS:\n",
    "        try:\n",
    "            if Path(alt_path).exists():\n",
    "                df, data_info = loader.load_dataset(alt_path)\n",
    "                dataset_loaded = True\n",
    "                print(f\"✅ Dataset loaded from: {alt_path}\")\n",
    "                break\n",
    "        except Exception as e:\n",
    "            print(f\"❌ Failed to load from {alt_path}: {e}\")\n",
    "\n",
    "# If still not loaded, provide instructions\n",
    "if not dataset_loaded:\n",
    "    print(\"\\n❌ DATASET NOT FOUND!\")\n",
    "    print(\"\\n📋 Instructions to resolve:\")\n",
    "    print(\"1. Ensure the stroke dataset file is in the project directory\")\n",
    "    print(\"2. Verify the filename matches exactly: 'healthcaredatasetstrokedata 1.csv'\")\n",
    "    print(\"3. Check file permissions\")\n",
    "    print(\"4. Update DATASET_PATH variable above with correct path\")\n",
    "    print(\"\\n🔍 Expected file structure:\")\n",
    "    print(\"   project/\")\n",
    "    print(\"   ├── healthcaredatasetstrokedata 1.csv  ← Dataset should be here\")\n",
    "    print(\"   ├── 01_data_loading_and_quality.ipynb\")\n",
    "    print(\"   └── ...\")\n",
    "    \n",
    "    # Create a small sample dataset for demonstration\n",
    "    print(\"\\n🔧 Creating sample dataset for demonstration...\")\n",
    "    \n",
    "    sample_data = {\n",
    "        'id': range(1, 101),\n",
    "        'gender': ['Male', 'Female'] * 50,\n",
    "        'age': np.random.normal(45, 15, 100).clip(18, 85),\n",
    "        'hypertension': np.random.choice([0, 1], 100, p=[0.7, 0.3]),\n",
    "        'heart_disease': np.random.choice([0, 1], 100, p=[0.8, 0.2]),\n",
    "        'ever_married': ['Yes', 'No'] * 50,\n",
    "        'work_type': np.random.choice(['Private', 'Self-employed', 'Govt_job'], 100),\n",
    "        'Residence_type': ['Urban', 'Rural'] * 50,\n",
    "        'avg_glucose_level': np.random.normal(105, 30, 100).clip(70, 250),\n",
    "        'bmi': np.random.normal(28, 5, 100).clip(15, 45),\n",
    "        'smoking_status': np.random.choice(['never smoked', 'formerly smoked', 'smokes'], 100),\n",
    "        'stroke': np.random.choice([0, 1], 100, p=[0.95, 0.05])\n",
    "    }\n",
    "    \n",
    "    df = pl.DataFrame(sample_data)\n",
    "    print(\"✅ Sample dataset created for demonstration\")\n",
    "    print(\"⚠️  Remember to replace with actual dataset for real analysis!\")\n",
    "\n",
    "else:\n",
    "    print(f\"\\n🎉 Dataset successfully loaded!\")\n",
    "    print(f\"📊 Shape: {df.shape[0]:,} rows × {df.shape[1]} columns\")"
   ]
  },
  {
   "cell_type": "markdown",
   "metadata": {},
   "source": [
    "## 🔍 Initial Data Exploration\n",
    "\n",
    "Quick overview of the dataset structure, columns, and basic properties."
   ]
  },
  {
   "cell_type": "code",
   "execution_count": 24,
   "metadata": {},
   "outputs": [
    {
     "name": "stdout",
     "output_type": "stream",
     "text": [
      "================================================================================\n",
      "📊 INITIAL DATA EXPLORATION\n",
      "================================================================================\n",
      "\n",
      "📏 Dataset Dimensions:\n",
      "   Rows: 5,110\n",
      "   Columns: 12\n",
      "   Total Cells: 61,320\n",
      "\n",
      "📋 Column Information:\n",
      "--------------------------------------------------\n",
      " Index            Column Data_Type  Unique_Values  Null_Count Null_Percentage\n",
      "     1                id     Int64           5110           0            0.0%\n",
      "     2            gender    String              3           0            0.0%\n",
      "     3               age   Float64            104           0            0.0%\n",
      "     4      hypertension     Int64              2           0            0.0%\n",
      "     5     heart_disease     Int64              2           0            0.0%\n",
      "     6      ever_married    String              2           0            0.0%\n",
      "     7         work_type    String              5           0            0.0%\n",
      "     8    Residence_type    String              2           0            0.0%\n",
      "     9 avg_glucose_level   Float64           3979           0            0.0%\n",
      "    10               bmi   Float64            419         201            3.9%\n",
      "    11    smoking_status    String              4           0            0.0%\n",
      "    12            stroke     Int64              2           0            0.0%\n",
      "\n",
      "🔧 Data Types Summary:\n",
      "   Float64: 3 columns\n",
      "   Int64: 4 columns\n",
      "   String: 5 columns\n",
      "\n",
      "👀 First 5 Rows:\n",
      "--------------------------------------------------\n",
      "   id gender  age  hypertension  heart_disease ever_married     work_type Residence_type  avg_glucose_level  bmi  smoking_status  stroke\n",
      " 9046   Male 67.0             0              1          Yes       Private          Urban             228.69 36.6 formerly smoked       1\n",
      "51676 Female 61.0             0              0          Yes Self-employed          Rural             202.21  NaN    never smoked       1\n",
      "31112   Male 80.0             0              1          Yes       Private          Rural             105.92 32.5    never smoked       1\n",
      "60182 Female 49.0             0              0          Yes       Private          Urban             171.23 34.4          smokes       1\n",
      " 1665 Female 79.0             1              0          Yes Self-employed          Rural             174.12 24.0    never smoked       1\n",
      "\n",
      "👀 Last 5 Rows:\n",
      "--------------------------------------------------\n",
      "   id gender  age  hypertension  heart_disease ever_married     work_type Residence_type  avg_glucose_level  bmi  smoking_status  stroke\n",
      "18234 Female 80.0             1              0          Yes       Private          Urban              83.75  NaN    never smoked       0\n",
      "44873 Female 81.0             0              0          Yes Self-employed          Urban             125.20 40.0    never smoked       0\n",
      "19723 Female 35.0             0              0          Yes Self-employed          Rural              82.99 30.6    never smoked       0\n",
      "37544   Male 51.0             0              0          Yes       Private          Rural             166.29 25.6 formerly smoked       0\n",
      "44679 Female 44.0             0              0          Yes      Govt_job          Urban              85.28 26.2         Unknown       0\n",
      "\n",
      "💾 Memory Usage:\n",
      "   Dataset Size: 0.43 MB\n",
      "   Average Row Size: 0.09 KB\n"
     ]
    }
   ],
   "source": [
    "print(\"=\"*80)\n",
    "print(\"📊 INITIAL DATA EXPLORATION\")\n",
    "print(\"=\"*80)\n",
    "\n",
    "# Dataset shape and basic info\n",
    "print(f\"\\n📏 Dataset Dimensions:\")\n",
    "print(f\"   Rows: {df.shape[0]:,}\")\n",
    "print(f\"   Columns: {df.shape[1]}\")\n",
    "print(f\"   Total Cells: {df.shape[0] * df.shape[1]:,}\")\n",
    "\n",
    "# Column information\n",
    "print(f\"\\n📋 Column Information:\")\n",
    "print(\"-\" * 50)\n",
    "\n",
    "column_info = []\n",
    "for i, col in enumerate(df.columns, 1):\n",
    "    dtype = str(df[col].dtype)\n",
    "    unique_vals = df[col].n_unique()\n",
    "    null_count = df[col].null_count()\n",
    "    \n",
    "    column_info.append({\n",
    "        'Index': i,\n",
    "        'Column': col,\n",
    "        'Data_Type': dtype,\n",
    "        'Unique_Values': unique_vals,\n",
    "        'Null_Count': null_count,\n",
    "        'Null_Percentage': f\"{(null_count/df.shape[0]*100):.1f}%\"\n",
    "    })\n",
    "\n",
    "# Display column information\n",
    "column_df = pd.DataFrame(column_info)\n",
    "print(column_df.to_string(index=False))\n",
    "\n",
    "# Data types summary\n",
    "print(f\"\\n🔧 Data Types Summary:\")\n",
    "dtype_counts = {}\n",
    "for col in df.columns:\n",
    "    dtype = str(df[col].dtype)\n",
    "    dtype_counts[dtype] = dtype_counts.get(dtype, 0) + 1\n",
    "\n",
    "for dtype, count in sorted(dtype_counts.items()):\n",
    "    print(f\"   {dtype}: {count} columns\")\n",
    "\n",
    "# Sample data preview\n",
    "print(f\"\\n👀 First 5 Rows:\")\n",
    "print(\"-\" * 50)\n",
    "df_sample = df.head(5).to_pandas()\n",
    "print(df_sample.to_string(index=False))\n",
    "\n",
    "print(f\"\\n👀 Last 5 Rows:\")\n",
    "print(\"-\" * 50)\n",
    "df_sample_tail = df.tail(5).to_pandas()\n",
    "print(df_sample_tail.to_string(index=False))\n",
    "\n",
    "# Memory usage information\n",
    "print(f\"\\n💾 Memory Usage:\")\n",
    "print(f\"   Dataset Size: {df.estimated_size('mb'):.2f} MB\")\n",
    "print(f\"   Average Row Size: {df.estimated_size('mb')*1024/df.shape[0]:.2f} KB\")"
   ]
  },
  {
   "cell_type": "markdown",
   "metadata": {},
   "source": [
    "## 🔍 Comprehensive Data Quality Assessment\n",
    "\n",
    "Performing in-depth analysis of data quality across multiple dimensions including completeness, validity, consistency, and medical domain validation."
   ]
  },
  {
   "cell_type": "code",
   "execution_count": 25,
   "metadata": {},
   "outputs": [
    {
     "name": "stdout",
     "output_type": "stream",
     "text": [
      "🚀 Starting comprehensive data quality assessment...\n",
      "This may take a moment for large datasets...\n",
      "\n",
      "🔍 COMPREHENSIVE DATA QUALITY ASSESSMENT\n",
      "------------------------------------------------------------\n",
      "\n",
      "📊 BASIC DATASET METRICS:\n",
      "------------------------------\n",
      "   Total Rows: 5,110\n",
      "   Total Columns: 12\n",
      "   Total Cells: 61,320\n",
      "   Memory Usage: 0.43 MB\n",
      "   Unique Data Types: 3\n",
      "\n",
      "🔍 MISSING VALUES ANALYSIS:\n",
      "------------------------------\n",
      "   Total Missing Values: 201\n",
      "   Overall Missing Rate: 0.33%\n",
      "   Columns with Missing: 1/12\n",
      "   Missing Severity: EXCELLENT\n",
      "\n",
      "   Top columns with missing values:\n",
      "     • bmi: 201 (3.9%)\n",
      "\n",
      "🔍 DATA TYPES ASSESSMENT:\n",
      "------------------------------\n",
      "   Data Type Distribution:\n",
      "     • Float64: 3 columns\n",
      "     • Int64: 4 columns\n",
      "     • String: 5 columns\n",
      "\n",
      "   Optimization Suggestions:\n",
      "     • hypertension: Int64 → Boolean\n",
      "     • heart_disease: Int64 → Boolean\n",
      "     • stroke: Int64 → Boolean\n",
      "\n",
      "🔍 DUPLICATE ANALYSIS:\n",
      "------------------------------\n",
      "   Total Rows: 5,110\n",
      "   Unique Rows: 5,110\n",
      "   Duplicate Rows: 0\n",
      "   Duplicate Rate: 0.00%\n",
      "   Duplicate Severity: EXCELLENT\n",
      "\n",
      "🔍 STATISTICAL SUMMARY:\n",
      "------------------------------\n",
      "   Numerical Columns: 7\n",
      "   Categorical Columns: 5\n",
      "\n",
      "   Sample Numerical Statistics:\n",
      "     • id: μ=36517.83, σ=21161.72, range=[67.0, 72940.0]\n",
      "     • age: μ=43.23, σ=22.61, range=[0.1, 82.0]\n",
      "     • hypertension: μ=0.10, σ=0.30, range=[0.0, 1.0]\n",
      "\n",
      "   Sample Categorical Statistics:\n",
      "     • gender: 3 unique values, top: 'Male'\n",
      "     • ever_married: 2 unique values, top: 'No'\n",
      "     • work_type: 5 unique values, top: 'Self-employed'\n",
      "\n",
      "🏥 MEDICAL DOMAIN VALIDATION:\n",
      "------------------------------\n",
      "   Validation Status: MINOR_ISSUES\n",
      "   Validation Score: 80/100\n",
      "   Issues Found:\n",
      "     • Extreme BMI values: 13 records\n",
      "\n",
      "🎯 TARGET VARIABLE ANALYSIS (stroke):\n",
      "----------------------------------------\n",
      "   Unique Values: 2\n",
      "   Total Records: 5,110\n",
      "   Missing Values: 0\n",
      "\n",
      "   Class Distribution:\n",
      "     • Class 0: 4,861 (95.1%)\n",
      "     • Class 1: 249 (4.9%)\n",
      "\n",
      "   Imbalance Ratio: 19.5:1\n",
      "   Balance Status: EXTREMELY_IMBALANCED\n",
      "\n",
      "   Clinical Interpretation:\n",
      "     ✅ Realistic stroke prevalence for general population\n",
      "     ⚠️  Severe imbalance will require specialized ML techniques\n",
      "\n",
      "🏆 OVERALL DATA QUALITY ASSESSMENT:\n",
      "----------------------------------------\n",
      "   Overall Quality Score: 94.0/100\n",
      "   Quality Grade: VERY_GOOD\n",
      "   Recommendation: Minor issues, suitable for analysis with minimal preprocessing\n",
      "\n",
      "   Score Deductions:\n",
      "     • Medical validation issues: -6.0 points\n",
      "\n",
      "✅ Quality assessment completed!\n",
      "📊 Overall Quality Score: 94.0/100\n",
      "🏆 Quality Grade: VERY_GOOD\n"
     ]
    }
   ],
   "source": [
    "# Run comprehensive quality assessment\n",
    "print(\"🚀 Starting comprehensive data quality assessment...\")\n",
    "print(\"This may take a moment for large datasets...\")\n",
    "\n",
    "quality_report = loader.comprehensive_quality_assessment(df)\n",
    "\n",
    "print(f\"\\n✅ Quality assessment completed!\")\n",
    "print(f\"📊 Overall Quality Score: {quality_report['overall_score']['score']:.1f}/100\")\n",
    "print(f\"🏆 Quality Grade: {quality_report['overall_score']['grade']}\")"
   ]
  },
  {
   "cell_type": "markdown",
   "metadata": {},
   "source": [
    "## 🔍 Missing Values Deep Dive Analysis\n",
    "\n",
    "Detailed analysis of missing value patterns, impact assessment, and recommendations for handling."
   ]
  },
  {
   "cell_type": "code",
   "execution_count": 26,
   "metadata": {},
   "outputs": [
    {
     "name": "stdout",
     "output_type": "stream",
     "text": [
      "================================================================================\n",
      "🕳️  MISSING VALUES DEEP DIVE ANALYSIS\n",
      "================================================================================\n",
      "\n",
      "📊 Missing Values Overview:\n",
      "   Total Missing Values: 201\n",
      "   Overall Missing Rate: 0.33%\n",
      "   Missing Severity: EXCELLENT\n",
      "   Columns Affected: 1/12\n",
      "\n",
      "📋 Missing Values by Column:\n",
      "------------------------------------------------------------\n",
      "Column               Missing Count Missing %  Data Type      \n",
      "------------------------------------------------------------\n",
      "bmi                  201          3.93       Float64        \n",
      "\n",
      "💡 Missing Values Recommendations:\n",
      "----------------------------------------\n",
      "   • bmi: Use KNN imputation with age, gender, and health status\n",
      "\n",
      "🔍 Missing Value Patterns:\n",
      "------------------------------\n",
      "   Columns with missing values: ['bmi']\n",
      "   Pattern complexity: Simple - few missing patterns\n"
     ]
    }
   ],
   "source": [
    "print(\"=\"*80)\n",
    "print(\"🕳️  MISSING VALUES DEEP DIVE ANALYSIS\")\n",
    "print(\"=\"*80)\n",
    "\n",
    "missing_report = quality_report['missing_values']\n",
    "\n",
    "# Missing values overview\n",
    "print(f\"\\n📊 Missing Values Overview:\")\n",
    "print(f\"   Total Missing Values: {missing_report['total_missing']:,}\")\n",
    "print(f\"   Overall Missing Rate: {missing_report['overall_missing_rate']:.2f}%\")\n",
    "print(f\"   Missing Severity: {missing_report['missing_severity']}\")\n",
    "print(f\"   Columns Affected: {missing_report['columns_with_missing']}/{len(df.columns)}\")\n",
    "\n",
    "# Detailed missing values by column\n",
    "print(f\"\\n📋 Missing Values by Column:\")\n",
    "print(\"-\" * 60)\n",
    "\n",
    "missing_df = pd.DataFrame(missing_report['missing_summary'])\n",
    "if len(missing_df) > 0:\n",
    "    # Sort by missing percentage\n",
    "    missing_df_sorted = missing_df.sort_values('missing_percentage', ascending=False)\n",
    "    \n",
    "    print(f\"{'Column':<20} {'Missing Count':<12} {'Missing %':<10} {'Data Type':<15}\")\n",
    "    print(\"-\" * 60)\n",
    "    \n",
    "    for _, row in missing_df_sorted.iterrows():\n",
    "        if row['missing_count'] > 0:\n",
    "            print(f\"{row['column']:<20} {row['missing_count']:<12} {row['missing_percentage']:<10.2f} {row['data_type']:<15}\")\n",
    "    \n",
    "    # Missing values recommendations\n",
    "    print(f\"\\n💡 Missing Values Recommendations:\")\n",
    "    print(\"-\" * 40)\n",
    "    \n",
    "    for _, row in missing_df_sorted.iterrows():\n",
    "        if row['missing_count'] > 0:\n",
    "            col_name = row['column']\n",
    "            missing_pct = row['missing_percentage']\n",
    "            \n",
    "            if col_name.lower() in ['bmi']:\n",
    "                print(f\"   • {col_name}: Use KNN imputation with age, gender, and health status\")\n",
    "            elif col_name.lower() in ['smoking_status']:\n",
    "                print(f\"   • {col_name}: Create 'Unknown' category (clinically meaningful)\")\n",
    "            elif missing_pct > 50:\n",
    "                print(f\"   • {col_name}: Consider dropping column ({missing_pct:.1f}% missing)\")\n",
    "            elif missing_pct > 20:\n",
    "                print(f\"   • {col_name}: Use advanced imputation techniques\")\n",
    "            elif missing_pct > 5:\n",
    "                print(f\"   • {col_name}: Use median/mode imputation or predictive models\")\n",
    "            else:\n",
    "                print(f\"   • {col_name}: Simple imputation acceptable\")\n",
    "else:\n",
    "    print(\"✅ No missing values found in the dataset!\")\n",
    "\n",
    "# Missing value patterns\n",
    "if 'missing_patterns' in missing_report and missing_report['missing_patterns'].get('columns_with_missing'):\n",
    "    print(f\"\\n🔍 Missing Value Patterns:\")\n",
    "    print(\"-\" * 30)\n",
    "    \n",
    "    patterns = missing_report['missing_patterns']\n",
    "    print(f\"   Columns with missing values: {patterns['columns_with_missing']}\")\n",
    "    print(f\"   Pattern complexity: {patterns['pattern_analysis']}\")"
   ]
  },
  {
   "cell_type": "markdown",
   "metadata": {},
   "source": [
    "## 📊 Statistical Summary and Distribution Analysis\n",
    "\n",
    "Comprehensive statistical analysis of numerical and categorical variables with distribution assessment."
   ]
  },
  {
   "cell_type": "code",
   "execution_count": 27,
   "metadata": {},
   "outputs": [
    {
     "name": "stdout",
     "output_type": "stream",
     "text": [
      "================================================================================\n",
      "📈 STATISTICAL SUMMARY AND DISTRIBUTION ANALYSIS\n",
      "================================================================================\n",
      "\n",
      "🔢 Numerical Variables Analysis:\n",
      "----------------------------------------\n",
      "Number of numerical columns: 7\n",
      "\n",
      "Detailed Statistics:\n",
      "--------------------------------------------------------------------------------\n",
      "           Column Count     Mean   Median      Std   Min      Max      IQR Skewness Kurtosis\n",
      "               id 5,110 36517.83 36932.00 21161.72 67.00 72940.00 36955.00    -0.02    -1.21\n",
      "              age 5,110    43.23    45.00    22.61  0.08    82.00    36.00    -0.14    -0.99\n",
      "     hypertension 5,110     0.10     0.00     0.30  0.00     1.00     0.00     2.71     5.37\n",
      "    heart_disease 5,110     0.05     0.00     0.23  0.00     1.00     0.00     3.95    13.57\n",
      "avg_glucose_level 5,110   106.15    91.88    45.28 55.12   271.74    36.85     1.57     1.68\n",
      "              bmi 4,909    28.89    28.10     7.85 10.30    97.60     9.60     1.06     3.36\n",
      "           stroke 5,110     0.05     0.00     0.22  0.00     1.00     0.00     4.19    15.57\n",
      "\n",
      "📊 Distribution Analysis:\n",
      "------------------------------\n",
      "\n",
      "id:\n",
      "   Distribution: approximately symmetric\n",
      "   Tail behavior: light-tailed\n",
      "   Variability: high variability (CV = 0.58)\n",
      "\n",
      "age:\n",
      "   Distribution: approximately symmetric\n",
      "   Tail behavior: light-tailed\n",
      "   Variability: high variability (CV = 0.52)\n",
      "   Clinical note: Adult population (mean age 43.2)\n",
      "\n",
      "hypertension:\n",
      "   Distribution: highly skewed (right)\n",
      "   Tail behavior: heavy-tailed\n",
      "   Variability: high variability (CV = 3.04)\n",
      "\n",
      "heart_disease:\n",
      "   Distribution: highly skewed (right)\n",
      "   Tail behavior: heavy-tailed\n",
      "   Variability: high variability (CV = 4.19)\n",
      "\n",
      "avg_glucose_level:\n",
      "   Distribution: highly skewed (right)\n",
      "   Tail behavior: heavy-tailed\n",
      "   Variability: high variability (CV = 0.43)\n",
      "   Clinical note: Prediabetic range (mean 106.1 mg/dL)\n",
      "\n",
      "bmi:\n",
      "   Distribution: highly skewed (right)\n",
      "   Tail behavior: heavy-tailed\n",
      "   Variability: moderate variability (CV = 0.27)\n",
      "   Clinical note: Overweight population (mean BMI 28.9)\n",
      "\n",
      "stroke:\n",
      "   Distribution: highly skewed (right)\n",
      "   Tail behavior: heavy-tailed\n",
      "   Variability: high variability (CV = 4.42)\n",
      "\n",
      "🏷️  Categorical Variables Analysis:\n",
      "----------------------------------------\n",
      "Number of categorical columns: 5\n",
      "\n",
      "gender:\n",
      "   Unique values: 3\n",
      "   Most frequent: 'Male' (2115 occurrences)\n",
      "   Least frequent: 'Other'\n",
      "   Concentration ratio: 0.41\n",
      "   Diversity assessment: High diversity (well distributed)\n",
      "\n",
      "ever_married:\n",
      "   Unique values: 2\n",
      "   Most frequent: 'No' (1757 occurrences)\n",
      "   Least frequent: 'Yes'\n",
      "   Concentration ratio: 0.34\n",
      "   Diversity assessment: High diversity (well distributed)\n",
      "\n",
      "work_type:\n",
      "   Unique values: 5\n",
      "   Most frequent: 'Self-employed' (819 occurrences)\n",
      "   Least frequent: 'children'\n",
      "   Concentration ratio: 0.16\n",
      "   Diversity assessment: High diversity (well distributed)\n",
      "\n",
      "Residence_type:\n",
      "   Unique values: 2\n",
      "   Most frequent: 'Urban' (2596 occurrences)\n",
      "   Least frequent: 'Rural'\n",
      "   Concentration ratio: 0.51\n",
      "   Diversity assessment: Moderate diversity\n",
      "\n",
      "smoking_status:\n",
      "   Unique values: 4\n",
      "   Most frequent: 'smokes' (789 occurrences)\n",
      "   Least frequent: 'formerly smoked'\n",
      "   Concentration ratio: 0.15\n",
      "   Diversity assessment: High diversity (well distributed)\n"
     ]
    }
   ],
   "source": [
    "print(\"=\"*80)\n",
    "print(\"📈 STATISTICAL SUMMARY AND DISTRIBUTION ANALYSIS\")\n",
    "print(\"=\"*80)\n",
    "\n",
    "stats_report = quality_report['statistical_summary']\n",
    "\n",
    "# Numerical variables analysis\n",
    "print(f\"\\n🔢 Numerical Variables Analysis:\")\n",
    "print(\"-\" * 40)\n",
    "\n",
    "numerical_stats = stats_report['numerical_statistics']\n",
    "if numerical_stats:\n",
    "    print(f\"Number of numerical columns: {len(numerical_stats)}\")\n",
    "    print(f\"\\nDetailed Statistics:\")\n",
    "    print(\"-\" * 80)\n",
    "    \n",
    "    # Create a comprehensive statistics table\n",
    "    stats_table = []\n",
    "    for col, stats in numerical_stats.items():\n",
    "        stats_table.append({\n",
    "            'Column': col,\n",
    "            'Count': f\"{stats['count']:,}\",\n",
    "            'Mean': f\"{stats['mean']:.2f}\",\n",
    "            'Median': f\"{stats['median']:.2f}\",\n",
    "            'Std': f\"{stats['std']:.2f}\",\n",
    "            'Min': f\"{stats['min']:.2f}\",\n",
    "            'Max': f\"{stats['max']:.2f}\",\n",
    "            'IQR': f\"{stats['iqr']:.2f}\",\n",
    "            'Skewness': f\"{stats['skewness']:.2f}\",\n",
    "            'Kurtosis': f\"{stats['kurtosis']:.2f}\"\n",
    "        })\n",
    "    \n",
    "    stats_df = pd.DataFrame(stats_table)\n",
    "    print(stats_df.to_string(index=False))\n",
    "    \n",
    "    # Distribution analysis\n",
    "    print(f\"\\n📊 Distribution Analysis:\")\n",
    "    print(\"-\" * 30)\n",
    "    \n",
    "    for col, stats in numerical_stats.items():\n",
    "        skew = stats['skewness']\n",
    "        kurt = stats['kurtosis']\n",
    "        cv = stats['cv']\n",
    "        \n",
    "        print(f\"\\n{col}:\")\n",
    "        \n",
    "        # Skewness interpretation\n",
    "        if abs(skew) < 0.5:\n",
    "            skew_desc = \"approximately symmetric\"\n",
    "        elif abs(skew) < 1.0:\n",
    "            skew_desc = \"moderately skewed\"\n",
    "        else:\n",
    "            skew_desc = \"highly skewed\"\n",
    "        \n",
    "        skew_direction = \"right\" if skew > 0 else \"left\"\n",
    "        if abs(skew) > 0.5:\n",
    "            skew_desc = f\"{skew_desc} ({skew_direction})\"\n",
    "        \n",
    "        # Kurtosis interpretation\n",
    "        if abs(kurt) < 0.5:\n",
    "            kurt_desc = \"normal tailedness\"\n",
    "        elif kurt > 0.5:\n",
    "            kurt_desc = \"heavy-tailed\"\n",
    "        else:\n",
    "            kurt_desc = \"light-tailed\"\n",
    "        \n",
    "        # Coefficient of variation interpretation\n",
    "        if cv < 0.1:\n",
    "            variability = \"low variability\"\n",
    "        elif cv < 0.3:\n",
    "            variability = \"moderate variability\"\n",
    "        else:\n",
    "            variability = \"high variability\"\n",
    "        \n",
    "        print(f\"   Distribution: {skew_desc}\")\n",
    "        print(f\"   Tail behavior: {kurt_desc}\")\n",
    "        print(f\"   Variability: {variability} (CV = {cv:.2f})\")\n",
    "        \n",
    "        # Clinical interpretation for medical variables\n",
    "        if col.lower() == 'age':\n",
    "            if stats['mean'] < 30:\n",
    "                print(f\"   Clinical note: Young population (mean age {stats['mean']:.1f})\")\n",
    "            elif stats['mean'] > 65:\n",
    "                print(f\"   Clinical note: Elderly population (mean age {stats['mean']:.1f})\")\n",
    "            else:\n",
    "                print(f\"   Clinical note: Adult population (mean age {stats['mean']:.1f})\")\n",
    "        \n",
    "        elif col.lower() == 'bmi':\n",
    "            if stats['mean'] < 18.5:\n",
    "                print(f\"   Clinical note: Underweight population (mean BMI {stats['mean']:.1f})\")\n",
    "            elif stats['mean'] < 25:\n",
    "                print(f\"   Clinical note: Normal weight population (mean BMI {stats['mean']:.1f})\")\n",
    "            elif stats['mean'] < 30:\n",
    "                print(f\"   Clinical note: Overweight population (mean BMI {stats['mean']:.1f})\")\n",
    "            else:\n",
    "                print(f\"   Clinical note: Obese population (mean BMI {stats['mean']:.1f})\")\n",
    "        \n",
    "        elif 'glucose' in col.lower():\n",
    "            if stats['mean'] < 100:\n",
    "                print(f\"   Clinical note: Normal glucose levels (mean {stats['mean']:.1f} mg/dL)\")\n",
    "            elif stats['mean'] < 126:\n",
    "                print(f\"   Clinical note: Prediabetic range (mean {stats['mean']:.1f} mg/dL)\")\n",
    "            else:\n",
    "                print(f\"   Clinical note: Diabetic range (mean {stats['mean']:.1f} mg/dL)\")\n",
    "\n",
    "else:\n",
    "    print(\"No numerical variables found in the dataset.\")\n",
    "\n",
    "# Categorical variables analysis\n",
    "print(f\"\\n🏷️  Categorical Variables Analysis:\")\n",
    "print(\"-\" * 40)\n",
    "\n",
    "categorical_stats = stats_report['categorical_statistics']\n",
    "if categorical_stats:\n",
    "    print(f\"Number of categorical columns: {len(categorical_stats)}\")\n",
    "    \n",
    "    for col, stats in categorical_stats.items():\n",
    "        print(f\"\\n{col}:\")\n",
    "        print(f\"   Unique values: {stats['unique_count']}\")\n",
    "        print(f\"   Most frequent: '{stats['most_frequent']}' ({stats['most_frequent_count']} occurrences)\")\n",
    "        print(f\"   Least frequent: '{stats['least_frequent']}'\")\n",
    "        print(f\"   Concentration ratio: {stats['concentration_ratio']:.2f}\")\n",
    "        \n",
    "        # Assess diversity\n",
    "        if stats['concentration_ratio'] > 0.8:\n",
    "            diversity = \"Low diversity (highly concentrated)\"\n",
    "        elif stats['concentration_ratio'] > 0.5:\n",
    "            diversity = \"Moderate diversity\"\n",
    "        else:\n",
    "            diversity = \"High diversity (well distributed)\"\n",
    "        \n",
    "        print(f\"   Diversity assessment: {diversity}\")\n",
    "else:\n",
    "    print(\"No categorical variables found in the dataset.\")"
   ]
  },
  {
   "cell_type": "markdown",
   "metadata": {},
   "source": [
    "## 🎯 Target Variable Analysis (Stroke)\n",
    "\n",
    "In-depth analysis of the target variable including class distribution, imbalance assessment, and clinical interpretation."
   ]
  },
  {
   "cell_type": "code",
   "execution_count": 28,
   "metadata": {},
   "outputs": [
    {
     "name": "stdout",
     "output_type": "stream",
     "text": [
      "================================================================================\n",
      "🎯 TARGET VARIABLE ANALYSIS\n",
      "================================================================================\n",
      "Target Variable: stroke\n",
      "Analysis Type: Binary Classification\n",
      "\n",
      "📊 Basic Statistics:\n",
      "   Total Records: 5,110\n",
      "   Missing Values: 0\n",
      "   Unique Classes: 2\n",
      "\n",
      "📈 Class Distribution:\n",
      "----------------------------------------\n",
      "Class      Count      Percentage   Description         \n",
      "----------------------------------------------------\n",
      "0          4861       95.13        No Stroke           \n",
      "1          249        4.87         Stroke              \n",
      "\n",
      "⚖️  Class Imbalance Analysis:\n",
      "------------------------------\n",
      "   Imbalance Ratio: 19.5:1\n",
      "   Minority Class %: 4.87%\n",
      "   Balance Status: EXTREMELY_IMBALANCED\n",
      "\n",
      "🏥 Clinical Interpretation:\n",
      "------------------------------\n",
      "   Stroke Rate: 4.87%\n",
      "   Assessment: Low stroke rate - typical for general adult population\n",
      "\n",
      "🤖 Machine Learning Implications:\n",
      "-----------------------------------\n",
      "   Imbalance Severity: EXTREMELY_IMBALANCED\n",
      "   Recommendation: High imbalance - use balanced sampling and cost-sensitive learning\n",
      "\n",
      "📏 Recommended Evaluation Metrics:\n",
      "-----------------------------------\n",
      "   1. ROC-AUC (primary metric)\n",
      "   2. Precision-Recall AUC (for imbalanced data)\n",
      "   3. Sensitivity/Recall (medical screening priority)\n",
      "   4. Specificity (false positive control)\n",
      "   5. F1-Score (balanced precision/recall)\n",
      "   6. Balanced Accuracy\n",
      "   7. Matthews Correlation Coefficient\n",
      "\n",
      "⚠️  Important Note:\n",
      "   Accuracy can be misleading with 19.5:1 imbalance\n",
      "   A model predicting 'no stroke' for all cases would achieve 95.1% accuracy!\n"
     ]
    }
   ],
   "source": [
    "print(\"=\"*80)\n",
    "print(\"🎯 TARGET VARIABLE ANALYSIS\")\n",
    "print(\"=\"*80)\n",
    "\n",
    "target_report = quality_report['target_analysis']\n",
    "\n",
    "if 'error' not in target_report:\n",
    "    print(f\"Target Variable: stroke\")\n",
    "    print(f\"Analysis Type: Binary Classification\")\n",
    "    \n",
    "    # Basic statistics\n",
    "    print(f\"\\n📊 Basic Statistics:\")\n",
    "    print(f\"   Total Records: {target_report['total_count']:,}\")\n",
    "    print(f\"   Missing Values: {target_report['null_count']}\")\n",
    "    print(f\"   Unique Classes: {target_report['unique_values']}\")\n",
    "    \n",
    "    # Class distribution\n",
    "    print(f\"\\n📈 Class Distribution:\")\n",
    "    print(\"-\" * 40)\n",
    "    \n",
    "    class_dist = target_report['class_distribution']\n",
    "    \n",
    "    print(f\"{'Class':<10} {'Count':<10} {'Percentage':<12} {'Description':<20}\")\n",
    "    print(\"-\" * 52)\n",
    "    \n",
    "    for class_val, info in class_dist.items():\n",
    "        description = \"No Stroke\" if class_val == 0 else \"Stroke\" if class_val == 1 else str(class_val)\n",
    "        print(f\"{class_val:<10} {info['count']:<10} {info['percentage']:<12.2f} {description:<20}\")\n",
    "    \n",
    "    # Imbalance analysis\n",
    "    print(f\"\\n⚖️  Class Imbalance Analysis:\")\n",
    "    print(\"-\" * 30)\n",
    "    \n",
    "    imbalance_ratio = target_report['imbalance_ratio']\n",
    "    balance_status = target_report['balance_status']\n",
    "    minority_pct = target_report['minority_percentage']\n",
    "    \n",
    "    print(f\"   Imbalance Ratio: {imbalance_ratio:.1f}:1\")\n",
    "    print(f\"   Minority Class %: {minority_pct:.2f}%\")\n",
    "    print(f\"   Balance Status: {balance_status}\")\n",
    "    \n",
    "    # Clinical interpretation\n",
    "    print(f\"\\n🏥 Clinical Interpretation:\")\n",
    "    print(\"-\" * 30)\n",
    "    \n",
    "    stroke_rate = minority_pct if len(class_dist) == 2 and min(class_dist.keys()) == 0 else minority_pct\n",
    "    \n",
    "    if stroke_rate < 2:\n",
    "        clinical_assessment = \"Very low stroke rate - typical for young, healthy population\"\n",
    "    elif stroke_rate < 5:\n",
    "        clinical_assessment = \"Low stroke rate - typical for general adult population\"\n",
    "    elif stroke_rate < 10:\n",
    "        clinical_assessment = \"Moderate stroke rate - may indicate higher-risk population\"\n",
    "    elif stroke_rate < 20:\n",
    "        clinical_assessment = \"High stroke rate - likely high-risk or clinical population\"\n",
    "    else:\n",
    "        clinical_assessment = \"Very high stroke rate - verify data source and population\"\n",
    "    \n",
    "    print(f\"   Stroke Rate: {stroke_rate:.2f}%\")\n",
    "    print(f\"   Assessment: {clinical_assessment}\")\n",
    "    \n",
    "    # Machine learning implications\n",
    "    print(f\"\\n🤖 Machine Learning Implications:\")\n",
    "    print(\"-\" * 35)\n",
    "    \n",
    "    if imbalance_ratio > 20:\n",
    "        ml_recommendation = \"Severe imbalance - require SMOTE, class weights, and specialized metrics\"\n",
    "    elif imbalance_ratio > 10:\n",
    "        ml_recommendation = \"High imbalance - use balanced sampling and cost-sensitive learning\"\n",
    "    elif imbalance_ratio > 3:\n",
    "        ml_recommendation = \"Moderate imbalance - consider class weights and balanced validation\"\n",
    "    else:\n",
    "        ml_recommendation = \"Balanced dataset - standard ML techniques applicable\"\n",
    "    \n",
    "    print(f\"   Imbalance Severity: {balance_status}\")\n",
    "    print(f\"   Recommendation: {ml_recommendation}\")\n",
    "    \n",
    "    # Evaluation metrics recommendations\n",
    "    print(f\"\\n📏 Recommended Evaluation Metrics:\")\n",
    "    print(\"-\" * 35)\n",
    "    \n",
    "    recommended_metrics = [\n",
    "        \"ROC-AUC (primary metric)\",\n",
    "        \"Precision-Recall AUC (for imbalanced data)\",\n",
    "        \"Sensitivity/Recall (medical screening priority)\",\n",
    "        \"Specificity (false positive control)\",\n",
    "        \"F1-Score (balanced precision/recall)\"\n",
    "    ]\n",
    "    \n",
    "    if imbalance_ratio > 10:\n",
    "        recommended_metrics.append(\"Balanced Accuracy\")\n",
    "        recommended_metrics.append(\"Matthews Correlation Coefficient\")\n",
    "    \n",
    "    for i, metric in enumerate(recommended_metrics, 1):\n",
    "        print(f\"   {i}. {metric}\")\n",
    "    \n",
    "    # Avoid accuracy note\n",
    "    if imbalance_ratio > 5:\n",
    "        print(f\"\\n⚠️  Important Note:\")\n",
    "        print(f\"   Accuracy can be misleading with {imbalance_ratio:.1f}:1 imbalance\")\n",
    "        print(f\"   A model predicting 'no stroke' for all cases would achieve {100-minority_pct:.1f}% accuracy!\")\n",
    "\n",
    "else:\n",
    "    print(f\"❌ Error in target variable analysis: {target_report['error']}\")"
   ]
  },
  {
   "cell_type": "markdown",
   "metadata": {},
   "source": [
    "## 🏥 Medical Domain Validation\n",
    "\n",
    "Validation of data against medical domain knowledge and clinical standards."
   ]
  },
  {
   "cell_type": "code",
   "execution_count": 29,
   "metadata": {},
   "outputs": [
    {
     "name": "stdout",
     "output_type": "stream",
     "text": [
      "================================================================================\n",
      "🏥 MEDICAL DOMAIN VALIDATION\n",
      "================================================================================\n",
      "Validation Status: MINOR_ISSUES\n",
      "Validation Score: 80/100\n",
      "\n",
      "⚠️  Issues Identified:\n",
      "--------------------\n",
      "   1. Extreme BMI values: 13 records\n",
      "\n",
      "💡 Recommendations:\n",
      "---------------\n",
      "   • Review BMI values: Check for extreme values outside 10-60 range\n",
      "   • Consider BMI validation: May indicate measurement errors\n",
      "\n",
      "📋 Detailed Validation Results:\n",
      "-----------------------------------\n",
      "\n",
      "AGE:\n",
      "   Invalid records: 0\n",
      "   ✅ All values within expected range\n",
      "\n",
      "BMI:\n",
      "   Invalid records: 13\n",
      "   Issue: Extreme BMI values: 13 records\n",
      "\n",
      "GLUCOSE:\n",
      "   Invalid records: 0\n",
      "   ✅ All values within expected range\n"
     ]
    }
   ],
   "source": [
    "print(\"=\"*80)\n",
    "print(\"🏥 MEDICAL DOMAIN VALIDATION\")\n",
    "print(\"=\"*80)\n",
    "\n",
    "medical_report = quality_report['medical_validation']\n",
    "\n",
    "print(f\"Validation Status: {medical_report['validation_status']}\")\n",
    "print(f\"Validation Score: {medical_report['validation_score']}/100\")\n",
    "\n",
    "if medical_report['issues']:\n",
    "    print(f\"\\n⚠️  Issues Identified:\")\n",
    "    print(\"-\" * 20)\n",
    "    \n",
    "    for i, issue in enumerate(medical_report['issues'], 1):\n",
    "        print(f\"   {i}. {issue}\")\n",
    "    \n",
    "    print(f\"\\n💡 Recommendations:\")\n",
    "    print(\"-\" * 15)\n",
    "    \n",
    "    for issue in medical_report['issues']:\n",
    "        if 'age' in issue.lower():\n",
    "            print(\"   • Review age values: Check for data entry errors or outliers\")\n",
    "            print(\"   • Consider age validation rules: 0-120 years for general population\")\n",
    "        elif 'bmi' in issue.lower():\n",
    "            print(\"   • Review BMI values: Check for extreme values outside 10-60 range\")\n",
    "            print(\"   • Consider BMI validation: May indicate measurement errors\")\n",
    "        elif 'glucose' in issue.lower():\n",
    "            print(\"   • Review glucose values: Check for values outside 50-500 mg/dL\")\n",
    "            print(\"   • Consider measurement context: Fasting vs. random glucose\")\n",
    "        elif 'binary' in issue.lower():\n",
    "            print(\"   • Review binary variables: Ensure only 0/1 values present\")\n",
    "            print(\"   • Check data encoding: Verify proper binary encoding\")\n",
    "\n",
    "else:\n",
    "    print(\"✅ All medical domain validations passed!\")\n",
    "    print(\"   Data values are within expected clinical ranges\")\n",
    "    print(\"   Binary variables properly encoded\")\n",
    "    print(\"   No obvious medical inconsistencies detected\")\n",
    "\n",
    "# Detailed medical validation results\n",
    "if 'detailed_results' in medical_report:\n",
    "    print(f\"\\n📋 Detailed Validation Results:\")\n",
    "    print(\"-\" * 35)\n",
    "    \n",
    "    detailed = medical_report['detailed_results']\n",
    "    \n",
    "    for variable, results in detailed.items():\n",
    "        if 'invalid_count' in results:\n",
    "            print(f\"\\n{variable.upper()}:\")\n",
    "            print(f\"   Invalid records: {results['invalid_count']}\")\n",
    "            \n",
    "            if results['issues']:\n",
    "                for issue in results['issues']:\n",
    "                    print(f\"   Issue: {issue}\")\n",
    "            else:\n",
    "                print(f\"   ✅ All values within expected range\")"
   ]
  },
  {
   "cell_type": "markdown",
   "metadata": {},
   "source": [
    "## 📊 Data Quality Visualizations\n",
    "\n",
    "Creating comprehensive visualizations to illustrate data quality findings and patterns."
   ]
  },
  {
   "cell_type": "code",
   "execution_count": 30,
   "metadata": {},
   "outputs": [
    {
     "name": "stdout",
     "output_type": "stream",
     "text": [
      "================================================================================\n",
      "📊 CREATING DATA QUALITY VISUALIZATIONS\n",
      "================================================================================\n",
      "Creating missing values visualization...\n"
     ]
    },
    {
     "data": {
      "application/vnd.plotly.v1+json": {
       "config": {
        "plotlyServerURL": "https://plot.ly"
       },
       "data": [
        {
         "hovertemplate": "Missing Percentage (%)=%{marker.color}<br>Column=%{y}<br>missing_count=%{text}<extra></extra>",
         "legendgroup": "",
         "marker": {
          "color": {
           "bdata": "fPfu3bt3D0A=",
           "dtype": "f8"
          },
          "coloraxis": "coloraxis",
          "pattern": {
           "shape": ""
          }
         },
         "name": "",
         "orientation": "h",
         "showlegend": false,
         "text": {
          "bdata": "AAAAAAAgaUA=",
          "dtype": "f8"
         },
         "textposition": "outside",
         "texttemplate": "%{text}",
         "type": "bar",
         "x": {
          "bdata": "fPfu3bt3D0A=",
          "dtype": "f8"
         },
         "xaxis": "x",
         "y": [
          "bmi"
         ],
         "yaxis": "y"
        }
       ],
       "layout": {
        "barmode": "relative",
        "coloraxis": {
         "colorbar": {
          "title": {
           "text": "Missing Percentage (%)"
          }
         },
         "colorscale": [
          [
           0,
           "rgb(255,245,240)"
          ],
          [
           0.125,
           "rgb(254,224,210)"
          ],
          [
           0.25,
           "rgb(252,187,161)"
          ],
          [
           0.375,
           "rgb(252,146,114)"
          ],
          [
           0.5,
           "rgb(251,106,74)"
          ],
          [
           0.625,
           "rgb(239,59,44)"
          ],
          [
           0.75,
           "rgb(203,24,29)"
          ],
          [
           0.875,
           "rgb(165,15,21)"
          ],
          [
           1,
           "rgb(103,0,13)"
          ]
         ]
        },
        "height": 400,
        "legend": {
         "tracegroupgap": 0
        },
        "showlegend": false,
        "template": {
         "data": {
          "bar": [
           {
            "error_x": {
             "color": "#2a3f5f"
            },
            "error_y": {
             "color": "#2a3f5f"
            },
            "marker": {
             "line": {
              "color": "#E5ECF6",
              "width": 0.5
             },
             "pattern": {
              "fillmode": "overlay",
              "size": 10,
              "solidity": 0.2
             }
            },
            "type": "bar"
           }
          ],
          "barpolar": [
           {
            "marker": {
             "line": {
              "color": "#E5ECF6",
              "width": 0.5
             },
             "pattern": {
              "fillmode": "overlay",
              "size": 10,
              "solidity": 0.2
             }
            },
            "type": "barpolar"
           }
          ],
          "carpet": [
           {
            "aaxis": {
             "endlinecolor": "#2a3f5f",
             "gridcolor": "white",
             "linecolor": "white",
             "minorgridcolor": "white",
             "startlinecolor": "#2a3f5f"
            },
            "baxis": {
             "endlinecolor": "#2a3f5f",
             "gridcolor": "white",
             "linecolor": "white",
             "minorgridcolor": "white",
             "startlinecolor": "#2a3f5f"
            },
            "type": "carpet"
           }
          ],
          "choropleth": [
           {
            "colorbar": {
             "outlinewidth": 0,
             "ticks": ""
            },
            "type": "choropleth"
           }
          ],
          "contour": [
           {
            "colorbar": {
             "outlinewidth": 0,
             "ticks": ""
            },
            "colorscale": [
             [
              0,
              "#0d0887"
             ],
             [
              0.1111111111111111,
              "#46039f"
             ],
             [
              0.2222222222222222,
              "#7201a8"
             ],
             [
              0.3333333333333333,
              "#9c179e"
             ],
             [
              0.4444444444444444,
              "#bd3786"
             ],
             [
              0.5555555555555556,
              "#d8576b"
             ],
             [
              0.6666666666666666,
              "#ed7953"
             ],
             [
              0.7777777777777778,
              "#fb9f3a"
             ],
             [
              0.8888888888888888,
              "#fdca26"
             ],
             [
              1,
              "#f0f921"
             ]
            ],
            "type": "contour"
           }
          ],
          "contourcarpet": [
           {
            "colorbar": {
             "outlinewidth": 0,
             "ticks": ""
            },
            "type": "contourcarpet"
           }
          ],
          "heatmap": [
           {
            "colorbar": {
             "outlinewidth": 0,
             "ticks": ""
            },
            "colorscale": [
             [
              0,
              "#0d0887"
             ],
             [
              0.1111111111111111,
              "#46039f"
             ],
             [
              0.2222222222222222,
              "#7201a8"
             ],
             [
              0.3333333333333333,
              "#9c179e"
             ],
             [
              0.4444444444444444,
              "#bd3786"
             ],
             [
              0.5555555555555556,
              "#d8576b"
             ],
             [
              0.6666666666666666,
              "#ed7953"
             ],
             [
              0.7777777777777778,
              "#fb9f3a"
             ],
             [
              0.8888888888888888,
              "#fdca26"
             ],
             [
              1,
              "#f0f921"
             ]
            ],
            "type": "heatmap"
           }
          ],
          "histogram": [
           {
            "marker": {
             "pattern": {
              "fillmode": "overlay",
              "size": 10,
              "solidity": 0.2
             }
            },
            "type": "histogram"
           }
          ],
          "histogram2d": [
           {
            "colorbar": {
             "outlinewidth": 0,
             "ticks": ""
            },
            "colorscale": [
             [
              0,
              "#0d0887"
             ],
             [
              0.1111111111111111,
              "#46039f"
             ],
             [
              0.2222222222222222,
              "#7201a8"
             ],
             [
              0.3333333333333333,
              "#9c179e"
             ],
             [
              0.4444444444444444,
              "#bd3786"
             ],
             [
              0.5555555555555556,
              "#d8576b"
             ],
             [
              0.6666666666666666,
              "#ed7953"
             ],
             [
              0.7777777777777778,
              "#fb9f3a"
             ],
             [
              0.8888888888888888,
              "#fdca26"
             ],
             [
              1,
              "#f0f921"
             ]
            ],
            "type": "histogram2d"
           }
          ],
          "histogram2dcontour": [
           {
            "colorbar": {
             "outlinewidth": 0,
             "ticks": ""
            },
            "colorscale": [
             [
              0,
              "#0d0887"
             ],
             [
              0.1111111111111111,
              "#46039f"
             ],
             [
              0.2222222222222222,
              "#7201a8"
             ],
             [
              0.3333333333333333,
              "#9c179e"
             ],
             [
              0.4444444444444444,
              "#bd3786"
             ],
             [
              0.5555555555555556,
              "#d8576b"
             ],
             [
              0.6666666666666666,
              "#ed7953"
             ],
             [
              0.7777777777777778,
              "#fb9f3a"
             ],
             [
              0.8888888888888888,
              "#fdca26"
             ],
             [
              1,
              "#f0f921"
             ]
            ],
            "type": "histogram2dcontour"
           }
          ],
          "mesh3d": [
           {
            "colorbar": {
             "outlinewidth": 0,
             "ticks": ""
            },
            "type": "mesh3d"
           }
          ],
          "parcoords": [
           {
            "line": {
             "colorbar": {
              "outlinewidth": 0,
              "ticks": ""
             }
            },
            "type": "parcoords"
           }
          ],
          "pie": [
           {
            "automargin": true,
            "type": "pie"
           }
          ],
          "scatter": [
           {
            "fillpattern": {
             "fillmode": "overlay",
             "size": 10,
             "solidity": 0.2
            },
            "type": "scatter"
           }
          ],
          "scatter3d": [
           {
            "line": {
             "colorbar": {
              "outlinewidth": 0,
              "ticks": ""
             }
            },
            "marker": {
             "colorbar": {
              "outlinewidth": 0,
              "ticks": ""
             }
            },
            "type": "scatter3d"
           }
          ],
          "scattercarpet": [
           {
            "marker": {
             "colorbar": {
              "outlinewidth": 0,
              "ticks": ""
             }
            },
            "type": "scattercarpet"
           }
          ],
          "scattergeo": [
           {
            "marker": {
             "colorbar": {
              "outlinewidth": 0,
              "ticks": ""
             }
            },
            "type": "scattergeo"
           }
          ],
          "scattergl": [
           {
            "marker": {
             "colorbar": {
              "outlinewidth": 0,
              "ticks": ""
             }
            },
            "type": "scattergl"
           }
          ],
          "scattermap": [
           {
            "marker": {
             "colorbar": {
              "outlinewidth": 0,
              "ticks": ""
             }
            },
            "type": "scattermap"
           }
          ],
          "scattermapbox": [
           {
            "marker": {
             "colorbar": {
              "outlinewidth": 0,
              "ticks": ""
             }
            },
            "type": "scattermapbox"
           }
          ],
          "scatterpolar": [
           {
            "marker": {
             "colorbar": {
              "outlinewidth": 0,
              "ticks": ""
             }
            },
            "type": "scatterpolar"
           }
          ],
          "scatterpolargl": [
           {
            "marker": {
             "colorbar": {
              "outlinewidth": 0,
              "ticks": ""
             }
            },
            "type": "scatterpolargl"
           }
          ],
          "scatterternary": [
           {
            "marker": {
             "colorbar": {
              "outlinewidth": 0,
              "ticks": ""
             }
            },
            "type": "scatterternary"
           }
          ],
          "surface": [
           {
            "colorbar": {
             "outlinewidth": 0,
             "ticks": ""
            },
            "colorscale": [
             [
              0,
              "#0d0887"
             ],
             [
              0.1111111111111111,
              "#46039f"
             ],
             [
              0.2222222222222222,
              "#7201a8"
             ],
             [
              0.3333333333333333,
              "#9c179e"
             ],
             [
              0.4444444444444444,
              "#bd3786"
             ],
             [
              0.5555555555555556,
              "#d8576b"
             ],
             [
              0.6666666666666666,
              "#ed7953"
             ],
             [
              0.7777777777777778,
              "#fb9f3a"
             ],
             [
              0.8888888888888888,
              "#fdca26"
             ],
             [
              1,
              "#f0f921"
             ]
            ],
            "type": "surface"
           }
          ],
          "table": [
           {
            "cells": {
             "fill": {
              "color": "#EBF0F8"
             },
             "line": {
              "color": "white"
             }
            },
            "header": {
             "fill": {
              "color": "#C8D4E3"
             },
             "line": {
              "color": "white"
             }
            },
            "type": "table"
           }
          ]
         },
         "layout": {
          "annotationdefaults": {
           "arrowcolor": "#2a3f5f",
           "arrowhead": 0,
           "arrowwidth": 1
          },
          "autotypenumbers": "strict",
          "coloraxis": {
           "colorbar": {
            "outlinewidth": 0,
            "ticks": ""
           }
          },
          "colorscale": {
           "diverging": [
            [
             0,
             "#8e0152"
            ],
            [
             0.1,
             "#c51b7d"
            ],
            [
             0.2,
             "#de77ae"
            ],
            [
             0.3,
             "#f1b6da"
            ],
            [
             0.4,
             "#fde0ef"
            ],
            [
             0.5,
             "#f7f7f7"
            ],
            [
             0.6,
             "#e6f5d0"
            ],
            [
             0.7,
             "#b8e186"
            ],
            [
             0.8,
             "#7fbc41"
            ],
            [
             0.9,
             "#4d9221"
            ],
            [
             1,
             "#276419"
            ]
           ],
           "sequential": [
            [
             0,
             "#0d0887"
            ],
            [
             0.1111111111111111,
             "#46039f"
            ],
            [
             0.2222222222222222,
             "#7201a8"
            ],
            [
             0.3333333333333333,
             "#9c179e"
            ],
            [
             0.4444444444444444,
             "#bd3786"
            ],
            [
             0.5555555555555556,
             "#d8576b"
            ],
            [
             0.6666666666666666,
             "#ed7953"
            ],
            [
             0.7777777777777778,
             "#fb9f3a"
            ],
            [
             0.8888888888888888,
             "#fdca26"
            ],
            [
             1,
             "#f0f921"
            ]
           ],
           "sequentialminus": [
            [
             0,
             "#0d0887"
            ],
            [
             0.1111111111111111,
             "#46039f"
            ],
            [
             0.2222222222222222,
             "#7201a8"
            ],
            [
             0.3333333333333333,
             "#9c179e"
            ],
            [
             0.4444444444444444,
             "#bd3786"
            ],
            [
             0.5555555555555556,
             "#d8576b"
            ],
            [
             0.6666666666666666,
             "#ed7953"
            ],
            [
             0.7777777777777778,
             "#fb9f3a"
            ],
            [
             0.8888888888888888,
             "#fdca26"
            ],
            [
             1,
             "#f0f921"
            ]
           ]
          },
          "colorway": [
           "#636efa",
           "#EF553B",
           "#00cc96",
           "#ab63fa",
           "#FFA15A",
           "#19d3f3",
           "#FF6692",
           "#B6E880",
           "#FF97FF",
           "#FECB52"
          ],
          "font": {
           "color": "#2a3f5f"
          },
          "geo": {
           "bgcolor": "white",
           "lakecolor": "white",
           "landcolor": "#E5ECF6",
           "showlakes": true,
           "showland": true,
           "subunitcolor": "white"
          },
          "hoverlabel": {
           "align": "left"
          },
          "hovermode": "closest",
          "mapbox": {
           "style": "light"
          },
          "paper_bgcolor": "white",
          "plot_bgcolor": "#E5ECF6",
          "polar": {
           "angularaxis": {
            "gridcolor": "white",
            "linecolor": "white",
            "ticks": ""
           },
           "bgcolor": "#E5ECF6",
           "radialaxis": {
            "gridcolor": "white",
            "linecolor": "white",
            "ticks": ""
           }
          },
          "scene": {
           "xaxis": {
            "backgroundcolor": "#E5ECF6",
            "gridcolor": "white",
            "gridwidth": 2,
            "linecolor": "white",
            "showbackground": true,
            "ticks": "",
            "zerolinecolor": "white"
           },
           "yaxis": {
            "backgroundcolor": "#E5ECF6",
            "gridcolor": "white",
            "gridwidth": 2,
            "linecolor": "white",
            "showbackground": true,
            "ticks": "",
            "zerolinecolor": "white"
           },
           "zaxis": {
            "backgroundcolor": "#E5ECF6",
            "gridcolor": "white",
            "gridwidth": 2,
            "linecolor": "white",
            "showbackground": true,
            "ticks": "",
            "zerolinecolor": "white"
           }
          },
          "shapedefaults": {
           "line": {
            "color": "#2a3f5f"
           }
          },
          "ternary": {
           "aaxis": {
            "gridcolor": "white",
            "linecolor": "white",
            "ticks": ""
           },
           "baxis": {
            "gridcolor": "white",
            "linecolor": "white",
            "ticks": ""
           },
           "bgcolor": "#E5ECF6",
           "caxis": {
            "gridcolor": "white",
            "linecolor": "white",
            "ticks": ""
           }
          },
          "title": {
           "x": 0.05
          },
          "xaxis": {
           "automargin": true,
           "gridcolor": "white",
           "linecolor": "white",
           "ticks": "",
           "title": {
            "standoff": 15
           },
           "zerolinecolor": "white",
           "zerolinewidth": 2
          },
          "yaxis": {
           "automargin": true,
           "gridcolor": "white",
           "linecolor": "white",
           "ticks": "",
           "title": {
            "standoff": 15
           },
           "zerolinecolor": "white",
           "zerolinewidth": 2
          }
         }
        },
        "title": {
         "text": "Missing Values by Column (%)"
        },
        "xaxis": {
         "anchor": "y",
         "domain": [
          0,
          1
         ],
         "title": {
          "text": "Missing Percentage (%)"
         }
        },
        "yaxis": {
         "anchor": "x",
         "domain": [
          0,
          1
         ],
         "title": {
          "text": "Columns"
         }
        }
       }
      }
     },
     "metadata": {},
     "output_type": "display_data"
    },
    {
     "name": "stdout",
     "output_type": "stream",
     "text": [
      "Creating data types distribution...\n"
     ]
    },
    {
     "data": {
      "application/vnd.plotly.v1+json": {
       "config": {
        "plotlyServerURL": "https://plot.ly"
       },
       "data": [
        {
         "domain": {
          "x": [
           0,
           1
          ],
          "y": [
           0,
           1
          ]
         },
         "hovertemplate": "label=%{label}<br>value=%{value}<extra></extra>",
         "labels": [
          "Int64",
          "String",
          "Float64"
         ],
         "legendgroup": "",
         "name": "",
         "showlegend": true,
         "textinfo": "percent+label",
         "textposition": "inside",
         "type": "pie",
         "values": {
          "bdata": "BAUD",
          "dtype": "i1"
         }
        }
       ],
       "layout": {
        "height": 500,
        "legend": {
         "tracegroupgap": 0
        },
        "piecolorway": [
         "rgb(141,211,199)",
         "rgb(255,255,179)",
         "rgb(190,186,218)",
         "rgb(251,128,114)",
         "rgb(128,177,211)",
         "rgb(253,180,98)",
         "rgb(179,222,105)",
         "rgb(252,205,229)",
         "rgb(217,217,217)",
         "rgb(188,128,189)",
         "rgb(204,235,197)",
         "rgb(255,237,111)"
        ],
        "template": {
         "data": {
          "bar": [
           {
            "error_x": {
             "color": "#2a3f5f"
            },
            "error_y": {
             "color": "#2a3f5f"
            },
            "marker": {
             "line": {
              "color": "#E5ECF6",
              "width": 0.5
             },
             "pattern": {
              "fillmode": "overlay",
              "size": 10,
              "solidity": 0.2
             }
            },
            "type": "bar"
           }
          ],
          "barpolar": [
           {
            "marker": {
             "line": {
              "color": "#E5ECF6",
              "width": 0.5
             },
             "pattern": {
              "fillmode": "overlay",
              "size": 10,
              "solidity": 0.2
             }
            },
            "type": "barpolar"
           }
          ],
          "carpet": [
           {
            "aaxis": {
             "endlinecolor": "#2a3f5f",
             "gridcolor": "white",
             "linecolor": "white",
             "minorgridcolor": "white",
             "startlinecolor": "#2a3f5f"
            },
            "baxis": {
             "endlinecolor": "#2a3f5f",
             "gridcolor": "white",
             "linecolor": "white",
             "minorgridcolor": "white",
             "startlinecolor": "#2a3f5f"
            },
            "type": "carpet"
           }
          ],
          "choropleth": [
           {
            "colorbar": {
             "outlinewidth": 0,
             "ticks": ""
            },
            "type": "choropleth"
           }
          ],
          "contour": [
           {
            "colorbar": {
             "outlinewidth": 0,
             "ticks": ""
            },
            "colorscale": [
             [
              0,
              "#0d0887"
             ],
             [
              0.1111111111111111,
              "#46039f"
             ],
             [
              0.2222222222222222,
              "#7201a8"
             ],
             [
              0.3333333333333333,
              "#9c179e"
             ],
             [
              0.4444444444444444,
              "#bd3786"
             ],
             [
              0.5555555555555556,
              "#d8576b"
             ],
             [
              0.6666666666666666,
              "#ed7953"
             ],
             [
              0.7777777777777778,
              "#fb9f3a"
             ],
             [
              0.8888888888888888,
              "#fdca26"
             ],
             [
              1,
              "#f0f921"
             ]
            ],
            "type": "contour"
           }
          ],
          "contourcarpet": [
           {
            "colorbar": {
             "outlinewidth": 0,
             "ticks": ""
            },
            "type": "contourcarpet"
           }
          ],
          "heatmap": [
           {
            "colorbar": {
             "outlinewidth": 0,
             "ticks": ""
            },
            "colorscale": [
             [
              0,
              "#0d0887"
             ],
             [
              0.1111111111111111,
              "#46039f"
             ],
             [
              0.2222222222222222,
              "#7201a8"
             ],
             [
              0.3333333333333333,
              "#9c179e"
             ],
             [
              0.4444444444444444,
              "#bd3786"
             ],
             [
              0.5555555555555556,
              "#d8576b"
             ],
             [
              0.6666666666666666,
              "#ed7953"
             ],
             [
              0.7777777777777778,
              "#fb9f3a"
             ],
             [
              0.8888888888888888,
              "#fdca26"
             ],
             [
              1,
              "#f0f921"
             ]
            ],
            "type": "heatmap"
           }
          ],
          "histogram": [
           {
            "marker": {
             "pattern": {
              "fillmode": "overlay",
              "size": 10,
              "solidity": 0.2
             }
            },
            "type": "histogram"
           }
          ],
          "histogram2d": [
           {
            "colorbar": {
             "outlinewidth": 0,
             "ticks": ""
            },
            "colorscale": [
             [
              0,
              "#0d0887"
             ],
             [
              0.1111111111111111,
              "#46039f"
             ],
             [
              0.2222222222222222,
              "#7201a8"
             ],
             [
              0.3333333333333333,
              "#9c179e"
             ],
             [
              0.4444444444444444,
              "#bd3786"
             ],
             [
              0.5555555555555556,
              "#d8576b"
             ],
             [
              0.6666666666666666,
              "#ed7953"
             ],
             [
              0.7777777777777778,
              "#fb9f3a"
             ],
             [
              0.8888888888888888,
              "#fdca26"
             ],
             [
              1,
              "#f0f921"
             ]
            ],
            "type": "histogram2d"
           }
          ],
          "histogram2dcontour": [
           {
            "colorbar": {
             "outlinewidth": 0,
             "ticks": ""
            },
            "colorscale": [
             [
              0,
              "#0d0887"
             ],
             [
              0.1111111111111111,
              "#46039f"
             ],
             [
              0.2222222222222222,
              "#7201a8"
             ],
             [
              0.3333333333333333,
              "#9c179e"
             ],
             [
              0.4444444444444444,
              "#bd3786"
             ],
             [
              0.5555555555555556,
              "#d8576b"
             ],
             [
              0.6666666666666666,
              "#ed7953"
             ],
             [
              0.7777777777777778,
              "#fb9f3a"
             ],
             [
              0.8888888888888888,
              "#fdca26"
             ],
             [
              1,
              "#f0f921"
             ]
            ],
            "type": "histogram2dcontour"
           }
          ],
          "mesh3d": [
           {
            "colorbar": {
             "outlinewidth": 0,
             "ticks": ""
            },
            "type": "mesh3d"
           }
          ],
          "parcoords": [
           {
            "line": {
             "colorbar": {
              "outlinewidth": 0,
              "ticks": ""
             }
            },
            "type": "parcoords"
           }
          ],
          "pie": [
           {
            "automargin": true,
            "type": "pie"
           }
          ],
          "scatter": [
           {
            "fillpattern": {
             "fillmode": "overlay",
             "size": 10,
             "solidity": 0.2
            },
            "type": "scatter"
           }
          ],
          "scatter3d": [
           {
            "line": {
             "colorbar": {
              "outlinewidth": 0,
              "ticks": ""
             }
            },
            "marker": {
             "colorbar": {
              "outlinewidth": 0,
              "ticks": ""
             }
            },
            "type": "scatter3d"
           }
          ],
          "scattercarpet": [
           {
            "marker": {
             "colorbar": {
              "outlinewidth": 0,
              "ticks": ""
             }
            },
            "type": "scattercarpet"
           }
          ],
          "scattergeo": [
           {
            "marker": {
             "colorbar": {
              "outlinewidth": 0,
              "ticks": ""
             }
            },
            "type": "scattergeo"
           }
          ],
          "scattergl": [
           {
            "marker": {
             "colorbar": {
              "outlinewidth": 0,
              "ticks": ""
             }
            },
            "type": "scattergl"
           }
          ],
          "scattermap": [
           {
            "marker": {
             "colorbar": {
              "outlinewidth": 0,
              "ticks": ""
             }
            },
            "type": "scattermap"
           }
          ],
          "scattermapbox": [
           {
            "marker": {
             "colorbar": {
              "outlinewidth": 0,
              "ticks": ""
             }
            },
            "type": "scattermapbox"
           }
          ],
          "scatterpolar": [
           {
            "marker": {
             "colorbar": {
              "outlinewidth": 0,
              "ticks": ""
             }
            },
            "type": "scatterpolar"
           }
          ],
          "scatterpolargl": [
           {
            "marker": {
             "colorbar": {
              "outlinewidth": 0,
              "ticks": ""
             }
            },
            "type": "scatterpolargl"
           }
          ],
          "scatterternary": [
           {
            "marker": {
             "colorbar": {
              "outlinewidth": 0,
              "ticks": ""
             }
            },
            "type": "scatterternary"
           }
          ],
          "surface": [
           {
            "colorbar": {
             "outlinewidth": 0,
             "ticks": ""
            },
            "colorscale": [
             [
              0,
              "#0d0887"
             ],
             [
              0.1111111111111111,
              "#46039f"
             ],
             [
              0.2222222222222222,
              "#7201a8"
             ],
             [
              0.3333333333333333,
              "#9c179e"
             ],
             [
              0.4444444444444444,
              "#bd3786"
             ],
             [
              0.5555555555555556,
              "#d8576b"
             ],
             [
              0.6666666666666666,
              "#ed7953"
             ],
             [
              0.7777777777777778,
              "#fb9f3a"
             ],
             [
              0.8888888888888888,
              "#fdca26"
             ],
             [
              1,
              "#f0f921"
             ]
            ],
            "type": "surface"
           }
          ],
          "table": [
           {
            "cells": {
             "fill": {
              "color": "#EBF0F8"
             },
             "line": {
              "color": "white"
             }
            },
            "header": {
             "fill": {
              "color": "#C8D4E3"
             },
             "line": {
              "color": "white"
             }
            },
            "type": "table"
           }
          ]
         },
         "layout": {
          "annotationdefaults": {
           "arrowcolor": "#2a3f5f",
           "arrowhead": 0,
           "arrowwidth": 1
          },
          "autotypenumbers": "strict",
          "coloraxis": {
           "colorbar": {
            "outlinewidth": 0,
            "ticks": ""
           }
          },
          "colorscale": {
           "diverging": [
            [
             0,
             "#8e0152"
            ],
            [
             0.1,
             "#c51b7d"
            ],
            [
             0.2,
             "#de77ae"
            ],
            [
             0.3,
             "#f1b6da"
            ],
            [
             0.4,
             "#fde0ef"
            ],
            [
             0.5,
             "#f7f7f7"
            ],
            [
             0.6,
             "#e6f5d0"
            ],
            [
             0.7,
             "#b8e186"
            ],
            [
             0.8,
             "#7fbc41"
            ],
            [
             0.9,
             "#4d9221"
            ],
            [
             1,
             "#276419"
            ]
           ],
           "sequential": [
            [
             0,
             "#0d0887"
            ],
            [
             0.1111111111111111,
             "#46039f"
            ],
            [
             0.2222222222222222,
             "#7201a8"
            ],
            [
             0.3333333333333333,
             "#9c179e"
            ],
            [
             0.4444444444444444,
             "#bd3786"
            ],
            [
             0.5555555555555556,
             "#d8576b"
            ],
            [
             0.6666666666666666,
             "#ed7953"
            ],
            [
             0.7777777777777778,
             "#fb9f3a"
            ],
            [
             0.8888888888888888,
             "#fdca26"
            ],
            [
             1,
             "#f0f921"
            ]
           ],
           "sequentialminus": [
            [
             0,
             "#0d0887"
            ],
            [
             0.1111111111111111,
             "#46039f"
            ],
            [
             0.2222222222222222,
             "#7201a8"
            ],
            [
             0.3333333333333333,
             "#9c179e"
            ],
            [
             0.4444444444444444,
             "#bd3786"
            ],
            [
             0.5555555555555556,
             "#d8576b"
            ],
            [
             0.6666666666666666,
             "#ed7953"
            ],
            [
             0.7777777777777778,
             "#fb9f3a"
            ],
            [
             0.8888888888888888,
             "#fdca26"
            ],
            [
             1,
             "#f0f921"
            ]
           ]
          },
          "colorway": [
           "#636efa",
           "#EF553B",
           "#00cc96",
           "#ab63fa",
           "#FFA15A",
           "#19d3f3",
           "#FF6692",
           "#B6E880",
           "#FF97FF",
           "#FECB52"
          ],
          "font": {
           "color": "#2a3f5f"
          },
          "geo": {
           "bgcolor": "white",
           "lakecolor": "white",
           "landcolor": "#E5ECF6",
           "showlakes": true,
           "showland": true,
           "subunitcolor": "white"
          },
          "hoverlabel": {
           "align": "left"
          },
          "hovermode": "closest",
          "mapbox": {
           "style": "light"
          },
          "paper_bgcolor": "white",
          "plot_bgcolor": "#E5ECF6",
          "polar": {
           "angularaxis": {
            "gridcolor": "white",
            "linecolor": "white",
            "ticks": ""
           },
           "bgcolor": "#E5ECF6",
           "radialaxis": {
            "gridcolor": "white",
            "linecolor": "white",
            "ticks": ""
           }
          },
          "scene": {
           "xaxis": {
            "backgroundcolor": "#E5ECF6",
            "gridcolor": "white",
            "gridwidth": 2,
            "linecolor": "white",
            "showbackground": true,
            "ticks": "",
            "zerolinecolor": "white"
           },
           "yaxis": {
            "backgroundcolor": "#E5ECF6",
            "gridcolor": "white",
            "gridwidth": 2,
            "linecolor": "white",
            "showbackground": true,
            "ticks": "",
            "zerolinecolor": "white"
           },
           "zaxis": {
            "backgroundcolor": "#E5ECF6",
            "gridcolor": "white",
            "gridwidth": 2,
            "linecolor": "white",
            "showbackground": true,
            "ticks": "",
            "zerolinecolor": "white"
           }
          },
          "shapedefaults": {
           "line": {
            "color": "#2a3f5f"
           }
          },
          "ternary": {
           "aaxis": {
            "gridcolor": "white",
            "linecolor": "white",
            "ticks": ""
           },
           "baxis": {
            "gridcolor": "white",
            "linecolor": "white",
            "ticks": ""
           },
           "bgcolor": "#E5ECF6",
           "caxis": {
            "gridcolor": "white",
            "linecolor": "white",
            "ticks": ""
           }
          },
          "title": {
           "x": 0.05
          },
          "xaxis": {
           "automargin": true,
           "gridcolor": "white",
           "linecolor": "white",
           "ticks": "",
           "title": {
            "standoff": 15
           },
           "zerolinecolor": "white",
           "zerolinewidth": 2
          },
          "yaxis": {
           "automargin": true,
           "gridcolor": "white",
           "linecolor": "white",
           "ticks": "",
           "title": {
            "standoff": 15
           },
           "zerolinecolor": "white",
           "zerolinewidth": 2
          }
         }
        },
        "title": {
         "text": "Data Types Distribution"
        }
       }
      }
     },
     "metadata": {},
     "output_type": "display_data"
    },
    {
     "name": "stdout",
     "output_type": "stream",
     "text": [
      "Creating target variable distribution...\n"
     ]
    },
    {
     "data": {
      "application/vnd.plotly.v1+json": {
       "config": {
        "plotlyServerURL": "https://plot.ly"
       },
       "data": [
        {
         "marker": {
          "color": [
           "lightblue",
           "coral"
          ]
         },
         "name": "Count",
         "text": [
          "4,861<br>(95.1%)",
          "249<br>(4.9%)"
         ],
         "textposition": "auto",
         "type": "bar",
         "x": [
          "No Stroke",
          "Stroke"
         ],
         "y": [
          4861,
          249
         ]
        }
       ],
       "layout": {
        "annotations": [
         {
          "bgcolor": "white",
          "bordercolor": "black",
          "borderwidth": 1,
          "font": {
           "color": "black",
           "size": 12
          },
          "showarrow": false,
          "text": "Imbalance Ratio: 19.5:1",
          "x": 0.02,
          "xanchor": "left",
          "xref": "paper",
          "y": 0.98,
          "yanchor": "top",
          "yref": "paper"
         }
        ],
        "height": 400,
        "showlegend": false,
        "template": {
         "data": {
          "bar": [
           {
            "error_x": {
             "color": "#2a3f5f"
            },
            "error_y": {
             "color": "#2a3f5f"
            },
            "marker": {
             "line": {
              "color": "#E5ECF6",
              "width": 0.5
             },
             "pattern": {
              "fillmode": "overlay",
              "size": 10,
              "solidity": 0.2
             }
            },
            "type": "bar"
           }
          ],
          "barpolar": [
           {
            "marker": {
             "line": {
              "color": "#E5ECF6",
              "width": 0.5
             },
             "pattern": {
              "fillmode": "overlay",
              "size": 10,
              "solidity": 0.2
             }
            },
            "type": "barpolar"
           }
          ],
          "carpet": [
           {
            "aaxis": {
             "endlinecolor": "#2a3f5f",
             "gridcolor": "white",
             "linecolor": "white",
             "minorgridcolor": "white",
             "startlinecolor": "#2a3f5f"
            },
            "baxis": {
             "endlinecolor": "#2a3f5f",
             "gridcolor": "white",
             "linecolor": "white",
             "minorgridcolor": "white",
             "startlinecolor": "#2a3f5f"
            },
            "type": "carpet"
           }
          ],
          "choropleth": [
           {
            "colorbar": {
             "outlinewidth": 0,
             "ticks": ""
            },
            "type": "choropleth"
           }
          ],
          "contour": [
           {
            "colorbar": {
             "outlinewidth": 0,
             "ticks": ""
            },
            "colorscale": [
             [
              0,
              "#0d0887"
             ],
             [
              0.1111111111111111,
              "#46039f"
             ],
             [
              0.2222222222222222,
              "#7201a8"
             ],
             [
              0.3333333333333333,
              "#9c179e"
             ],
             [
              0.4444444444444444,
              "#bd3786"
             ],
             [
              0.5555555555555556,
              "#d8576b"
             ],
             [
              0.6666666666666666,
              "#ed7953"
             ],
             [
              0.7777777777777778,
              "#fb9f3a"
             ],
             [
              0.8888888888888888,
              "#fdca26"
             ],
             [
              1,
              "#f0f921"
             ]
            ],
            "type": "contour"
           }
          ],
          "contourcarpet": [
           {
            "colorbar": {
             "outlinewidth": 0,
             "ticks": ""
            },
            "type": "contourcarpet"
           }
          ],
          "heatmap": [
           {
            "colorbar": {
             "outlinewidth": 0,
             "ticks": ""
            },
            "colorscale": [
             [
              0,
              "#0d0887"
             ],
             [
              0.1111111111111111,
              "#46039f"
             ],
             [
              0.2222222222222222,
              "#7201a8"
             ],
             [
              0.3333333333333333,
              "#9c179e"
             ],
             [
              0.4444444444444444,
              "#bd3786"
             ],
             [
              0.5555555555555556,
              "#d8576b"
             ],
             [
              0.6666666666666666,
              "#ed7953"
             ],
             [
              0.7777777777777778,
              "#fb9f3a"
             ],
             [
              0.8888888888888888,
              "#fdca26"
             ],
             [
              1,
              "#f0f921"
             ]
            ],
            "type": "heatmap"
           }
          ],
          "histogram": [
           {
            "marker": {
             "pattern": {
              "fillmode": "overlay",
              "size": 10,
              "solidity": 0.2
             }
            },
            "type": "histogram"
           }
          ],
          "histogram2d": [
           {
            "colorbar": {
             "outlinewidth": 0,
             "ticks": ""
            },
            "colorscale": [
             [
              0,
              "#0d0887"
             ],
             [
              0.1111111111111111,
              "#46039f"
             ],
             [
              0.2222222222222222,
              "#7201a8"
             ],
             [
              0.3333333333333333,
              "#9c179e"
             ],
             [
              0.4444444444444444,
              "#bd3786"
             ],
             [
              0.5555555555555556,
              "#d8576b"
             ],
             [
              0.6666666666666666,
              "#ed7953"
             ],
             [
              0.7777777777777778,
              "#fb9f3a"
             ],
             [
              0.8888888888888888,
              "#fdca26"
             ],
             [
              1,
              "#f0f921"
             ]
            ],
            "type": "histogram2d"
           }
          ],
          "histogram2dcontour": [
           {
            "colorbar": {
             "outlinewidth": 0,
             "ticks": ""
            },
            "colorscale": [
             [
              0,
              "#0d0887"
             ],
             [
              0.1111111111111111,
              "#46039f"
             ],
             [
              0.2222222222222222,
              "#7201a8"
             ],
             [
              0.3333333333333333,
              "#9c179e"
             ],
             [
              0.4444444444444444,
              "#bd3786"
             ],
             [
              0.5555555555555556,
              "#d8576b"
             ],
             [
              0.6666666666666666,
              "#ed7953"
             ],
             [
              0.7777777777777778,
              "#fb9f3a"
             ],
             [
              0.8888888888888888,
              "#fdca26"
             ],
             [
              1,
              "#f0f921"
             ]
            ],
            "type": "histogram2dcontour"
           }
          ],
          "mesh3d": [
           {
            "colorbar": {
             "outlinewidth": 0,
             "ticks": ""
            },
            "type": "mesh3d"
           }
          ],
          "parcoords": [
           {
            "line": {
             "colorbar": {
              "outlinewidth": 0,
              "ticks": ""
             }
            },
            "type": "parcoords"
           }
          ],
          "pie": [
           {
            "automargin": true,
            "type": "pie"
           }
          ],
          "scatter": [
           {
            "fillpattern": {
             "fillmode": "overlay",
             "size": 10,
             "solidity": 0.2
            },
            "type": "scatter"
           }
          ],
          "scatter3d": [
           {
            "line": {
             "colorbar": {
              "outlinewidth": 0,
              "ticks": ""
             }
            },
            "marker": {
             "colorbar": {
              "outlinewidth": 0,
              "ticks": ""
             }
            },
            "type": "scatter3d"
           }
          ],
          "scattercarpet": [
           {
            "marker": {
             "colorbar": {
              "outlinewidth": 0,
              "ticks": ""
             }
            },
            "type": "scattercarpet"
           }
          ],
          "scattergeo": [
           {
            "marker": {
             "colorbar": {
              "outlinewidth": 0,
              "ticks": ""
             }
            },
            "type": "scattergeo"
           }
          ],
          "scattergl": [
           {
            "marker": {
             "colorbar": {
              "outlinewidth": 0,
              "ticks": ""
             }
            },
            "type": "scattergl"
           }
          ],
          "scattermap": [
           {
            "marker": {
             "colorbar": {
              "outlinewidth": 0,
              "ticks": ""
             }
            },
            "type": "scattermap"
           }
          ],
          "scattermapbox": [
           {
            "marker": {
             "colorbar": {
              "outlinewidth": 0,
              "ticks": ""
             }
            },
            "type": "scattermapbox"
           }
          ],
          "scatterpolar": [
           {
            "marker": {
             "colorbar": {
              "outlinewidth": 0,
              "ticks": ""
             }
            },
            "type": "scatterpolar"
           }
          ],
          "scatterpolargl": [
           {
            "marker": {
             "colorbar": {
              "outlinewidth": 0,
              "ticks": ""
             }
            },
            "type": "scatterpolargl"
           }
          ],
          "scatterternary": [
           {
            "marker": {
             "colorbar": {
              "outlinewidth": 0,
              "ticks": ""
             }
            },
            "type": "scatterternary"
           }
          ],
          "surface": [
           {
            "colorbar": {
             "outlinewidth": 0,
             "ticks": ""
            },
            "colorscale": [
             [
              0,
              "#0d0887"
             ],
             [
              0.1111111111111111,
              "#46039f"
             ],
             [
              0.2222222222222222,
              "#7201a8"
             ],
             [
              0.3333333333333333,
              "#9c179e"
             ],
             [
              0.4444444444444444,
              "#bd3786"
             ],
             [
              0.5555555555555556,
              "#d8576b"
             ],
             [
              0.6666666666666666,
              "#ed7953"
             ],
             [
              0.7777777777777778,
              "#fb9f3a"
             ],
             [
              0.8888888888888888,
              "#fdca26"
             ],
             [
              1,
              "#f0f921"
             ]
            ],
            "type": "surface"
           }
          ],
          "table": [
           {
            "cells": {
             "fill": {
              "color": "#EBF0F8"
             },
             "line": {
              "color": "white"
             }
            },
            "header": {
             "fill": {
              "color": "#C8D4E3"
             },
             "line": {
              "color": "white"
             }
            },
            "type": "table"
           }
          ]
         },
         "layout": {
          "annotationdefaults": {
           "arrowcolor": "#2a3f5f",
           "arrowhead": 0,
           "arrowwidth": 1
          },
          "autotypenumbers": "strict",
          "coloraxis": {
           "colorbar": {
            "outlinewidth": 0,
            "ticks": ""
           }
          },
          "colorscale": {
           "diverging": [
            [
             0,
             "#8e0152"
            ],
            [
             0.1,
             "#c51b7d"
            ],
            [
             0.2,
             "#de77ae"
            ],
            [
             0.3,
             "#f1b6da"
            ],
            [
             0.4,
             "#fde0ef"
            ],
            [
             0.5,
             "#f7f7f7"
            ],
            [
             0.6,
             "#e6f5d0"
            ],
            [
             0.7,
             "#b8e186"
            ],
            [
             0.8,
             "#7fbc41"
            ],
            [
             0.9,
             "#4d9221"
            ],
            [
             1,
             "#276419"
            ]
           ],
           "sequential": [
            [
             0,
             "#0d0887"
            ],
            [
             0.1111111111111111,
             "#46039f"
            ],
            [
             0.2222222222222222,
             "#7201a8"
            ],
            [
             0.3333333333333333,
             "#9c179e"
            ],
            [
             0.4444444444444444,
             "#bd3786"
            ],
            [
             0.5555555555555556,
             "#d8576b"
            ],
            [
             0.6666666666666666,
             "#ed7953"
            ],
            [
             0.7777777777777778,
             "#fb9f3a"
            ],
            [
             0.8888888888888888,
             "#fdca26"
            ],
            [
             1,
             "#f0f921"
            ]
           ],
           "sequentialminus": [
            [
             0,
             "#0d0887"
            ],
            [
             0.1111111111111111,
             "#46039f"
            ],
            [
             0.2222222222222222,
             "#7201a8"
            ],
            [
             0.3333333333333333,
             "#9c179e"
            ],
            [
             0.4444444444444444,
             "#bd3786"
            ],
            [
             0.5555555555555556,
             "#d8576b"
            ],
            [
             0.6666666666666666,
             "#ed7953"
            ],
            [
             0.7777777777777778,
             "#fb9f3a"
            ],
            [
             0.8888888888888888,
             "#fdca26"
            ],
            [
             1,
             "#f0f921"
            ]
           ]
          },
          "colorway": [
           "#636efa",
           "#EF553B",
           "#00cc96",
           "#ab63fa",
           "#FFA15A",
           "#19d3f3",
           "#FF6692",
           "#B6E880",
           "#FF97FF",
           "#FECB52"
          ],
          "font": {
           "color": "#2a3f5f"
          },
          "geo": {
           "bgcolor": "white",
           "lakecolor": "white",
           "landcolor": "#E5ECF6",
           "showlakes": true,
           "showland": true,
           "subunitcolor": "white"
          },
          "hoverlabel": {
           "align": "left"
          },
          "hovermode": "closest",
          "mapbox": {
           "style": "light"
          },
          "paper_bgcolor": "white",
          "plot_bgcolor": "#E5ECF6",
          "polar": {
           "angularaxis": {
            "gridcolor": "white",
            "linecolor": "white",
            "ticks": ""
           },
           "bgcolor": "#E5ECF6",
           "radialaxis": {
            "gridcolor": "white",
            "linecolor": "white",
            "ticks": ""
           }
          },
          "scene": {
           "xaxis": {
            "backgroundcolor": "#E5ECF6",
            "gridcolor": "white",
            "gridwidth": 2,
            "linecolor": "white",
            "showbackground": true,
            "ticks": "",
            "zerolinecolor": "white"
           },
           "yaxis": {
            "backgroundcolor": "#E5ECF6",
            "gridcolor": "white",
            "gridwidth": 2,
            "linecolor": "white",
            "showbackground": true,
            "ticks": "",
            "zerolinecolor": "white"
           },
           "zaxis": {
            "backgroundcolor": "#E5ECF6",
            "gridcolor": "white",
            "gridwidth": 2,
            "linecolor": "white",
            "showbackground": true,
            "ticks": "",
            "zerolinecolor": "white"
           }
          },
          "shapedefaults": {
           "line": {
            "color": "#2a3f5f"
           }
          },
          "ternary": {
           "aaxis": {
            "gridcolor": "white",
            "linecolor": "white",
            "ticks": ""
           },
           "baxis": {
            "gridcolor": "white",
            "linecolor": "white",
            "ticks": ""
           },
           "bgcolor": "#E5ECF6",
           "caxis": {
            "gridcolor": "white",
            "linecolor": "white",
            "ticks": ""
           }
          },
          "title": {
           "x": 0.05
          },
          "xaxis": {
           "automargin": true,
           "gridcolor": "white",
           "linecolor": "white",
           "ticks": "",
           "title": {
            "standoff": 15
           },
           "zerolinecolor": "white",
           "zerolinewidth": 2
          },
          "yaxis": {
           "automargin": true,
           "gridcolor": "white",
           "linecolor": "white",
           "ticks": "",
           "title": {
            "standoff": 15
           },
           "zerolinecolor": "white",
           "zerolinewidth": 2
          }
         }
        },
        "title": {
         "text": "Target Variable Distribution (Stroke)"
        },
        "xaxis": {
         "title": {
          "text": "Class"
         }
        },
        "yaxis": {
         "title": {
          "text": "Count"
         }
        }
       }
      }
     },
     "metadata": {},
     "output_type": "display_data"
    },
    {
     "name": "stdout",
     "output_type": "stream",
     "text": [
      "Creating numerical variables distributions...\n"
     ]
    },
    {
     "data": {
      "application/vnd.plotly.v1+json": {
       "config": {
        "plotlyServerURL": "https://plot.ly"
       },
       "data": [
        {
         "marker": {
          "color": "lightblue"
         },
         "name": "id",
         "nbinsx": 30,
         "opacity": 0.7,
         "showlegend": false,
         "type": "histogram",
         "x": {
          "bdata": "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",
          "dtype": "i4"
         },
         "xaxis": "x",
         "yaxis": "y"
        },
        {
         "marker": {
          "color": "lightblue"
         },
         "name": "age",
         "nbinsx": 30,
         "opacity": 0.7,
         "showlegend": false,
         "type": "histogram",
         "x": {
          "bdata": "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",
          "dtype": "f8"
         },
         "xaxis": "x2",
         "yaxis": "y2"
        },
        {
         "marker": {
          "color": "lightblue"
         },
         "name": "hypertension",
         "nbinsx": 30,
         "opacity": 0.7,
         "showlegend": false,
         "type": "histogram",
         "x": {
          "bdata": "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",
          "dtype": "i1"
         },
         "xaxis": "x3",
         "yaxis": "y3"
        },
        {
         "marker": {
          "color": "lightblue"
         },
         "name": "heart_disease",
         "nbinsx": 30,
         "opacity": 0.7,
         "showlegend": false,
         "type": "histogram",
         "x": {
          "bdata": "AQABAAAAAQAAAAABAAEBAAEAAAEAAAABAAAAAAEAAAAAAQABAAAAAAAAAQAAAAEAAAAAAAEAAAEAAAAAAAAAAAAAAAAAAAAAAAAAAQAAAAAAAAAAAAABAQAAAQAAAAAAAAEAAAEAAAEAAAAAAAABAQAAAAEAAAAAAAAAAAAAAAAAAAAAAAAAAAAAAAABAAABAAAAAAABAAEAAAABAAAAAAABAAAAAAAAAAAAAQAAAAAAAAAAAAAAAAEAAQEAAQAAAAEAAAAAAAAAAQAAAAAAAAAAAAAAAAABAAEBAQEAAAAAAQAAAAAAAAAAAAAAAAABAAAAAQAAAAAAAAAAAAAAAAEAAAABAAAAAAAAAAEAAAAAAAAAAAAAAAAAAAAAAAAAAAAAAAAAAAAAAAAAAAAAAAAAAAAAAAAAAAAAAQAAAAAAAAAAAAAAAAAAAAAAAAAAAAEAAAAAAQAAAAAAAAABAAAAAAAAAAAAAAAAAAAAAAAAAAAAAAAAAAAAAAAAAAEAAAAAAAAAAAAAAAAAAAAAAAAAAAAAAQAAAAAAAAAAAAAAAAAAAAAAAAAAAAAAAAEAAAAAAAAAAAAAAAAAAAAAAAAAAQAAAAAAAQAAAAAAAAAAAAAAAAAAAAAAAAAAAAAAAAABAAAAAAAAAAAAAAAAAAAAAAAAAAAAAAAAAAAAAAAAAAAAAAAAAAAAAAAAAAAAAAAAAAAAAAAAAAAAAAAAAAAAAAAAAAAAAAAAAAAAAAAAAQAAAAAAAAAAAAAAAAAAAAAAAAAAAAAAAQAAAAAAAAAAAAAAAAAAAAAAAAAAAAAAAAAAAAAAAAAAAAAAAAAAAQABAAAAAAAAAAAAAQAAAAAAAAEAAAAAAAAAAAAAAAAAAAAAAAAAAAAAAAAAAAABAAAAAAAAAAAAAAAAAAAAAAAAAAAAAAAAAAAAAAAAAAAAAAAAAAAAAAAAAAAAAAAAAAAAAAAAAAAAAAAAAAAAAAAAAAAAAAAAAAEAAAAAAAAAAAAAAAAAAAAAAAAAAAAAAAAAAAAAAAAAAAAAAAAAAAABAAAAAAAAAAAAAAAAAAAAAAAAAAAAAAAAAAAAAAAAAAAAAAAAAAAAAAAAAAEAAAAAAAAAAAAAAAAAAAAAAAAAAAAAAAAAAAAAAAAAAAAAAAAAAQAAAAAAAAAAAAAAAAAAAAAAAAAAAAEBAAAAAAAAAAAAAQAAAAAAAAAAAAAAAAAAAAAAAAAAAAABAAAAAAABAAAAAAAAAAAAAAAAAQAAAAAAAAAAAAAAAAAAAAAAAAAAAAAAAAAAAAEBAAAAAAAAAAAAAAAAAAAAAAAAAQABAAAAAAAAAAAAAQAAAAAAAAAAAAAAAAAAAAAAAAAAAAAAAAAAAAAAAAAAAAAAAAAAAAAAAAAAAAEAAAAAAAAAAAAAAAAAAQAAAAABAAAAAAAAAAAAAAAAAAAAAAAAAAAAAAAAAAAAAAAAAAAAAAAAAAAAAAAAAAAAAAAAAAAAAAAAAAAAAAAAAAAAAAAAAAAAAAAAAAAAAAAAAAAAAAAAAAAAAAAAAAAAAAAAAAAAAAAAAAAAAAAAAAAAAAAAAAAAAAAAAAEAAAABAAAAAAEAAAAAAAAAAAAAAAAAAAAAAAAAAAAAAAAAAAAAAAAAAAAAAAAAAAAAAAAAAAAAAAAAAAAAAAAAAAAAAAAAAAAAAAAAAAAAAAAAAAAAAAAAAAAAAAEBAAABAAAAAAAAAAAAAAAAAAAAAAAAAAAAAAEAAAAAAAAAAAEBAQAAAAAAAAAAAAAAAAEAAAAAAAEAAAAAAAAAAAAAAAAAAAAAAAAAAAAAAAAAAQAAAAAAAAAAAAAAAAAAAAAAAAEAAAAAAAAAAAAAAAAAAAAAAAAAAAAAAAAAAAAAAQEAAAAAAAAAAAAAAAAAAAAAAAAAAAEAAAAAAAAAAAAAAAAAAAAAAAAAAAAAAAAAAAAAAAAAAAAAAAAAAAAAAAAAAAAAAAAAAAABAAAAAAAAAAAAAAAAAAAAAQAAAQAAAAABAAAAAAAAAAAAAAAAAAABAQAAAAAAAAAAAAAAAAAAAAAAAAABAAAAAAAAAAAAAAAAAAEAAAAAAQAAAAAAAAAAAAAAAAAAAAAAAAAAAAAAAAAAAAAAAAAAAAAAAAAAAAAAAAAAAQAAAAAAAAAAAAAAAAAAAAABAAAAAAAAAAAAAAABAAAAAAABAAAAAAAAAAEAAAAAAAAAAAAAAAAAAAABAAAAAAAAAAAAAAAAAAAAAAAAAAAAAAAAAAAAAAAAAAAAAAAAAAAAAAAAAAAAAAABAAAAAAAAAAAAAAAAAAAAAAAAAQAAAAAAAAAAAAAAAAAAAQAAAAAAAAAAAAAAAAAAAAABAAAAAAAAAAAAAAAAAAAAAQAAAAAAAAAAAAAAAAAAAAAAAAAAAAAAAAEAAAAAAAAAAAAAAAAAAAAAAAAAAAAAAAABAAAAAAAAAAAAAAAAAAAAAAAAAAAAAAAAAAABAAAAAAAAAAAAAAAAAQAAAAAAAAAAAAAAAAAAAAAAAQAAAAAAAAAAAAAAAAAAAAAAAAAAAAAAAAAAAQAAAAAAAAAAAAAAAAAAAAAAAAAAAAAAAAAAAAAAAAAAAQEAAAAAAAAAAAAAAAAAAAAAAAAAAAAAAAAAAAAAAAEAAAAAAAAAAQAAAAAAAAAAAAAAAAAAAAAAAAAAAAAAAAAAAAAAAAAAAAAAAAAAAAAAAAAAAAAAAAAAAAAAAAAAAAAAAAAAAAAAAAAAAAAAAAAAAAAAAAAAAAAAAAAAAAAAAQAAAAEAAAAAAAAAAAAAAAAAAAABAAAAAAAAAAEAAAAAAAAAAAAAAAEAAAAAAAAAAAABAAAAAAAAAAAAAAAAAAAAAAAAAAAAAAAAAAAAAAAAAAAAAAAAAAAAAAAAAAAAAAAAAAAAAAEAAAEAAAAAAAAAAAAAAAABAQABAAAAAAAAAAAAAAEAAAAAAAEAAAAAAAAAAAAAAAAAAAAAAAAAAAAAAAAAAAAAAQAAAAABAAAAAAAAAAAAAAAAAAAAAAAAAAAAAAAAAAAAAQAAAAAAAAAAAAAAAAAAAAAAAAAAAAAAAAAAAAAAAAAAAAAAAAABAAAAAAAAAAAAAAEAAAAAAAAAAAAAAAAAAAAAAAAAAAAAAAAAAAABAAEAAAAAAAAAAAAAAAAAAAAAAAAAAAAAAAAAAAAAAAAAAAAAAAAAAAAAAAAAAAAAAAAAAAAAAAAAAQAAAAAAAAAAAAAAAAAAAQAAAAAAAAAAAAAAAAAAAAAAAAAAAAAAAAAAAAAAAAAAAAAAAAAAAAAAAAAAAAAAAAAAAAAAAAAAAAAAAAEAAAEAAAAAAQAAAAAAAAAAAAAAAAEAAAABAAEAAQAAAAEAAAAAAQAAAAAAAAAAAQAAAQAAAAAAAAAAAAAAAAAAAAAAAAAAAAAAAAAAAAAAAAABAAAAAAAAAQAAAAAAAAAAAQAAAAAAAAAAAAAAAAAAAAAAAAAAAAAAAAAAAAAAAAAAAAAAAAAAAAEAAAAAAQAAAAAAAAAAAAAAAAAAAAAAAAAAAAAAAAAAAAAAAAAAAAAAAAAAAAAAAAAAAAAAAAAAAAABAAAAAAAAAAAAAAAAAAAAAAAAAQAAAAAAAAAAAQABAAAAAAAAAAAAAAAAAAAAAAAAAAAAAAAAAAAAAAAAAAAAAAAAAAAAAAAAAAAAAAAAAQAAAAAAAAAAAAAAAAAAAAAAAAAAAAAAAAAAAAAAAQEAAAAAAAAAAAAAAAAAAAAAAAEAAAEAAAAAAAAAAAAAAAAAAAAAAAAAAAAAAAAAAAAAAAAAAAAAAAAAAAAAAAAAAAABAAAAAAAAAAAAAAAAAQAAAAAAAAAAAAABAAAAAAABAAAAAAEAAAAAAAAAAAAAAAAAAAABAAAAAAAAAAAAAAAAAAAAAQAAAAEAAQAAAAAAAAAAAAAAAAAAAAAAAAAAAQAAAAAAAAAAAAAAAAAAAAAAAAAAAQAAAQEAAAAAAAAAAAAAAQAAAAAAAAAAAAAAAAAAAAAAAAAAAAAAAAAAAAAAAAAAAAEAAAAAAAAAAAAAAAAAAAAAAAAAAAAAAQABAAAAAAAAAAAAAAAAAQAAAAAAAQAAAAAAAAAAAAEAAAAAAAAAAAAAAAAAAAAAAAAAAAAAAAAAAAAAAAAAAAAAAAAAAAAAAAAAAAAAAAABAAAAAAAAAAAAAAAAAAAAAAAAAAAAAAAAAAAAAAAAAAAAAAAAAAAAAAAAAAAAAAEAAAAAAAAAAAAAAAAAAAAAAAAAAAAAAAAAAAAAAAAAAQAAAAAAAAAAAAAAAAAAAAAAAAAAAAAAAAAAAAAAAAAAAAAAAAAAAAAAAAAAAAAAAAAAAAAAAAAAAAAAAAAAAAAAAAAAAAAAAAAAAAAAAAAAAAAAAAABAAAAAAAAAAAAAAAAAAAAAAAAAQAAAAAAAAAAAAEAAAAAAAAAAAAAAAAAAAAAAQAAAAAAAAAAAAAAAAEAAQAAAAAAAAAAAAAAAAAAAAAAAAAAAAAAAAAAAAAAAAAAAAAAAAAAAQEAAAAAAAAAAAAAAAAAAAAAAAAAAAAAAAAAAAAAAAAAAAAAAAEAAAAAAAAAAAAAAAAAAAAAAAAAAAAAAAABAAAAAAAAAAAAAAAAAAAAAAABAAAAAAAAAAAAAAAAAAAAAAAAAAAAAAEBAAAAAAAAAAAAAAAAAAAAAAAAAAAAAAAAAAAAAAAAAAAAAAAAAAAAAAAAAAAAAAAAAAEAAAAAAAAAAAABAQAAAAAAAAAAAAAAAAAAAAAAAAAAAAABAAAAAAAAAAAAAAAAAAAAAAAAAAAAAAAAAAAAAAAAAAAAAAAAAAEAAAAAAAAAAAAAAAAAAAABAAAAAAAAAAAAAAAAAAAAAAAAAAAAAAAAAAAAAAAAAAAAAAAAAAABAAABAAAAAAAAAAAAAAAAAAAAAAAAAAAAAAAAAAAAAAAAAAAAAAAAAAAAAAAAAAAAAAAAAAAAAAAAAAAAAAAAAAAAAAAAAAAAAQAAAQAAAAAAAAAAAAAAAAAAAQAAAAAAAAAAAAEAAAEAAAAAAAAAAAAAAAAAAAAAAAAAAAEAAAAAAAAAAAAAAAAAAAAAAAAAAAAAAAAAAAAAAAAAAAAAAAAAAAAAAAAAAAAAAAAAAAAAAAAAAAAAAAAAAAAAAAAAAAAAAAAAAAAAAQAAAQAAAAAAAAAAAAAAAAAAAAAAAAAAAAAAAAAAAAAAAAAAAAAAAAAAAAAAAAAAAAAAAAAAAAAAAAAAAAAAAQAAAAAAAAAAAAAAAAAAAAAAAAAAAAAAAAAAAAAAAAAAAAAAAAAAAAAAAAAAAAAAAAEAAAEAAAAAAAAAAAAAAAAAAAAAAAAAAAAAAAAAAAAAAAAAAAAAAAAAAAAAAAAAAAAAAAABAAABAAAAAAEBAAAAAAAAAAAAAAAAAAAAAAAAAAAAAAAAAAAAAAABAQABAAAAAAAAAAEAAAAAAAAAAAAAAAAAAAAAAAAAAAAAAAAAAAEAAAAAAAAAAAAAAAABAAAAAAAAAAAAAAEAAQAAAAAAAAAAAAAAAAEAAAEAAAAAAAAAAAAAAAAAAAAAAAAAAAAAAAAAAAAAAAAAAQAAAAAAAAAAAAAAAAABAAAAAAAAAAAAAAAAAAAAAAAAAAAAAAAAAAABAAAAAAAAAAAAAAAAAAAAAAAAAAAAAAAAAAAAAAAAAAAAAAAAAAAAAAAAAAAAAQAAAAAAAAAAAAAAAAAAAAAAAAAAAAAAAAAAAAAAAAAAAAAAAAAAAAAAAAAAAAAAAAAAAAEAAAAAAAAAAAAAAAAAAAAAAAAAAAAAAAEAAAAAAAAAAAAAAAAAAAEAAAAAAAAAAAAAAAAAAAEAAAAAAAAAAAAAAAAAAAAAAAAAAAEAAAAAAAAAAAAAAAAAAAAAAAAAAAAAAAAAAAAAAAAAAAAAAAAAAAAAAAAAAAAAAAAAAAAAAAAAAAAAAAAAAAAAAQAAAAAAAAAAAAAAAAAAAAAAAAAAAAAAAAAAAAAAAAAAAAAAAAAAAAAAAAAAAAAAAAAAAAABAAAAAAAAAAAAAAAAAQEAAAAAAAAAAAEAAAAAAAAAAAEAAAAAAAAAAAAAAAAAAAAAAAAAAAAAAAAAAAAAAQAAAAAAAAAAAAAAAAAAAAAAAAAAAAAAAAAAAAAAAAAAAAAAAAAAAAAAAAAAAAAAAQAAAAAAAAAAAAAAAAAAAAAAAAAAAAAAAAAAAAAAAAAAAAAAAAAAAAAAAAAAAAEAAAAAAAAAAAAAAAAAAAAAAAEBAAAAAAAAAAAAAQAAAAAAAAAAAAAAAAAAAAAAAAAAAAAAAAAAAAAAAAAAAAAAAAEAAAAAAAAAAAAAAAAAAAAAAAAAAAAAAAAAAAAAAAAAAAABAAAAAAAAAAAAAAAAAAAAAAAAAAAAAAAAAAAAAAAAAAAAAAAAAAAAAAAAAAAAAAAAAAAAAAAAAAAAAAAAAAAAAAAAAAAAAAEAAAAAAAAAAAAAAAAAAQAAAAAAAAAAAAAAAAAAAAAAAAAAAAAAAAAAAAAAAAAAAAAAAAAAAAAAAAAAAAAAAAAAAAEAAAAAAAAAAAAAAAAAAAAAAAAAAAAAAAAAAAAAAAAAAAAAAAAAAAAAAAAAAAAAAAAAAAAAAAAAAAAAAAAAAAAAAQAAAAAAAAAAAAAAAAAAAAAAAAAAAAEAAAAAAAAAAAAAAAAAAAAAAAAAAAAAAAAAAAAAAAAAAAAAAAAAAAAAAAAAAAAAAAAAAAAAAAAAAAAAAAAAAAAAAAAAAAAAAAAAAAAAAAAAAAAAAAAAAAAAAAAAAAAAAAAAAAAAAA==",
          "dtype": "i1"
         },
         "xaxis": "x4",
         "yaxis": "y4"
        },
        {
         "marker": {
          "color": "lightblue"
         },
         "name": "avg_glucose_level",
         "nbinsx": 30,
         "opacity": 0.7,
         "showlegend": false,
         "type": "histogram",
         "x": {
          "bdata": "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",
          "dtype": "f8"
         },
         "xaxis": "x5",
         "yaxis": "y5"
        },
        {
         "marker": {
          "color": "lightblue"
         },
         "name": "bmi",
         "nbinsx": 30,
         "opacity": 0.7,
         "showlegend": false,
         "type": "histogram",
         "x": {
          "bdata": "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",
          "dtype": "f8"
         },
         "xaxis": "x6",
         "yaxis": "y6"
        },
        {
         "marker": {
          "color": "lightblue"
         },
         "name": "stroke",
         "nbinsx": 30,
         "opacity": 0.7,
         "showlegend": false,
         "type": "histogram",
         "x": {
          "bdata": "AQEBAQEBAQEBAQEBAQEBAQEBAQEBAQEBAQEBAQEBAQEBAQEBAQEBAQEBAQEBAQEBAQEBAQEBAQEBAQEBAQEBAQEBAQEBAQEBAQEBAQEBAQEBAQEBAQEBAQEBAQEBAQEBAQEBAQEBAQEBAQEBAQEBAQEBAQEBAQEBAQEBAQEBAQEBAQEBAQEBAQEBAQEBAQEBAQEBAQEBAQEBAQEBAQEBAQEBAQEBAQEBAQEBAQEBAQEBAQEBAQEBAQEBAQEBAQEBAQEBAQEBAQEBAQEBAQEBAQEBAQEBAQEBAQEBAQEBAQEBAQEBAQEBAQEBAQEBAQEBAQEBAQEBAQEBAAAAAAAAAAAAAAAAAAAAAAAAAAAAAAAAAAAAAAAAAAAAAAAAAAAAAAAAAAAAAAAAAAAAAAAAAAAAAAAAAAAAAAAAAAAAAAAAAAAAAAAAAAAAAAAAAAAAAAAAAAAAAAAAAAAAAAAAAAAAAAAAAAAAAAAAAAAAAAAAAAAAAAAAAAAAAAAAAAAAAAAAAAAAAAAAAAAAAAAAAAAAAAAAAAAAAAAAAAAAAAAAAAAAAAAAAAAAAAAAAAAAAAAAAAAAAAAAAAAAAAAAAAAAAAAAAAAAAAAAAAAAAAAAAAAAAAAAAAAAAAAAAAAAAAAAAAAAAAAAAAAAAAAAAAAAAAAAAAAAAAAAAAAAAAAAAAAAAAAAAAAAAAAAAAAAAAAAAAAAAAAAAAAAAAAAAAAAAAAAAAAAAAAAAAAAAAAAAAAAAAAAAAAAAAAAAAAAAAAAAAAAAAAAAAAAAAAAAAAAAAAAAAAAAAAAAAAAAAAAAAAAAAAAAAAAAAAAAAAAAAAAAAAAAAAAAAAAAAAAAAAAAAAAAAAAAAAAAAAAAAAAAAAAAAAAAAAAAAAAAAAAAAAAAAAAAAAAAAAAAAAAAAAAAAAAAAAAAAAAAAAAAAAAAAAAAAAAAAAAAAAAAAAAAAAAAAAAAAAAAAAAAAAAAAAAAAAAAAAAAAAAAAAAAAAAAAAAAAAAAAAAAAAAAAAAAAAAAAAAAAAAAAAAAAAAAAAAAAAAAAAAAAAAAAAAAAAAAAAAAAAAAAAAAAAAAAAAAAAAAAAAAAAAAAAAAAAAAAAAAAAAAAAAAAAAAAAAAAAAAAAAAAAAAAAAAAAAAAAAAAAAAAAAAAAAAAAAAAAAAAAAAAAAAAAAAAAAAAAAAAAAAAAAAAAAAAAAAAAAAAAAAAAAAAAAAAAAAAAAAAAAAAAAAAAAAAAAAAAAAAAAAAAAAAAAAAAAAAAAAAAAAAAAAAAAAAAAAAAAAAAAAAAAAAAAAAAAAAAAAAAAAAAAAAAAAAAAAAAAAAAAAAAAAAAAAAAAAAAAAAAAAAAAAAAAAAAAAAAAAAAAAAAAAAAAAAAAAAAAAAAAAAAAAAAAAAAAAAAAAAAAAAAAAAAAAAAAAAAAAAAAAAAAAAAAAAAAAAAAAAAAAAAAAAAAAAAAAAAAAAAAAAAAAAAAAAAAAAAAAAAAAAAAAAAAAAAAAAAAAAAAAAAAAAAAAAAAAAAAAAAAAAAAAAAAAAAAAAAAAAAAAAAAAAAAAAAAAAAAAAAAAAAAAAAAAAAAAAAAAAAAAAAAAAAAAAAAAAAAAAAAAAAAAAAAAAAAAAAAAAAAAAAAAAAAAAAAAAAAAAAAAAAAAAAAAAAAAAAAAAAAAAAAAAAAAAAAAAAAAAAAAAAAAAAAAAAAAAAAAAAAAAAAAAAAAAAAAAAAAAAAAAAAAAAAAAAAAAAAAAAAAAAAAAAAAAAAAAAAAAAAAAAAAAAAAAAAAAAAAAAAAAAAAAAAAAAAAAAAAAAAAAAAAAAAAAAAAAAAAAAAAAAAAAAAAAAAAAAAAAAAAAAAAAAAAAAAAAAAAAAAAAAAAAAAAAAAAAAAAAAAAAAAAAAAAAAAAAAAAAAAAAAAAAAAAAAAAAAAAAAAAAAAAAAAAAAAAAAAAAAAAAAAAAAAAAAAAAAAAAAAAAAAAAAAAAAAAAAAAAAAAAAAAAAAAAAAAAAAAAAAAAAAAAAAAAAAAAAAAAAAAAAAAAAAAAAAAAAAAAAAAAAAAAAAAAAAAAAAAAAAAAAAAAAAAAAAAAAAAAAAAAAAAAAAAAAAAAAAAAAAAAAAAAAAAAAAAAAAAAAAAAAAAAAAAAAAAAAAAAAAAAAAAAAAAAAAAAAAAAAAAAAAAAAAAAAAAAAAAAAAAAAAAAAAAAAAAAAAAAAAAAAAAAAAAAAAAAAAAAAAAAAAAAAAAAAAAAAAAAAAAAAAAAAAAAAAAAAAAAAAAAAAAAAAAAAAAAAAAAAAAAAAAAAAAAAAAAAAAAAAAAAAAAAAAAAAAAAAAAAAAAAAAAAAAAAAAAAAAAAAAAAAAAAAAAAAAAAAAAAAAAAAAAAAAAAAAAAAAAAAAAAAAAAAAAAAAAAAAAAAAAAAAAAAAAAAAAAAAAAAAAAAAAAAAAAAAAAAAAAAAAAAAAAAAAAAAAAAAAAAAAAAAAAAAAAAAAAAAAAAAAAAAAAAAAAAAAAAAAAAAAAAAAAAAAAAAAAAAAAAAAAAAAAAAAAAAAAAAAAAAAAAAAAAAAAAAAAAAAAAAAAAAAAAAAAAAAAAAAAAAAAAAAAAAAAAAAAAAAAAAAAAAAAAAAAAAAAAAAAAAAAAAAAAAAAAAAAAAAAAAAAAAAAAAAAAAAAAAAAAAAAAAAAAAAAAAAAAAAAAAAAAAAAAAAAAAAAAAAAAAAAAAAAAAAAAAAAAAAAAAAAAAAAAAAAAAAAAAAAAAAAAAAAAAAAAAAAAAAAAAAAAAAAAAAAAAAAAAAAAAAAAAAAAAAAAAAAAAAAAAAAAAAAAAAAAAAAAAAAAAAAAAAAAAAAAAAAAAAAAAAAAAAAAAAAAAAAAAAAAAAAAAAAAAAAAAAAAAAAAAAAAAAAAAAAAAAAAAAAAAAAAAAAAAAAAAAAAAAAAAAAAAAAAAAAAAAAAAAAAAAAAAAAAAAAAAAAAAAAAAAAAAAAAAAAAAAAAAAAAAAAAAAAAAAAAAAAAAAAAAAAAAAAAAAAAAAAAAAAAAAAAAAAAAAAAAAAAAAAAAAAAAAAAAAAAAAAAAAAAAAAAAAAAAAAAAAAAAAAAAAAAAAAAAAAAAAAAAAAAAAAAAAAAAAAAAAAAAAAAAAAAAAAAAAAAAAAAAAAAAAAAAAAAAAAAAAAAAAAAAAAAAAAAAAAAAAAAAAAAAAAAAAAAAAAAAAAAAAAAAAAAAAAAAAAAAAAAAAAAAAAAAAAAAAAAAAAAAAAAAAAAAAAAAAAAAAAAAAAAAAAAAAAAAAAAAAAAAAAAAAAAAAAAAAAAAAAAAAAAAAAAAAAAAAAAAAAAAAAAAAAAAAAAAAAAAAAAAAAAAAAAAAAAAAAAAAAAAAAAAAAAAAAAAAAAAAAAAAAAAAAAAAAAAAAAAAAAAAAAAAAAAAAAAAAAAAAAAAAAAAAAAAAAAAAAAAAAAAAAAAAAAAAAAAAAAAAAAAAAAAAAAAAAAAAAAAAAAAAAAAAAAAAAAAAAAAAAAAAAAAAAAAAAAAAAAAAAAAAAAAAAAAAAAAAAAAAAAAAAAAAAAAAAAAAAAAAAAAAAAAAAAAAAAAAAAAAAAAAAAAAAAAAAAAAAAAAAAAAAAAAAAAAAAAAAAAAAAAAAAAAAAAAAAAAAAAAAAAAAAAAAAAAAAAAAAAAAAAAAAAAAAAAAAAAAAAAAAAAAAAAAAAAAAAAAAAAAAAAAAAAAAAAAAAAAAAAAAAAAAAAAAAAAAAAAAAAAAAAAAAAAAAAAAAAAAAAAAAAAAAAAAAAAAAAAAAAAAAAAAAAAAAAAAAAAAAAAAAAAAAAAAAAAAAAAAAAAAAAAAAAAAAAAAAAAAAAAAAAAAAAAAAAAAAAAAAAAAAAAAAAAAAAAAAAAAAAAAAAAAAAAAAAAAAAAAAAAAAAAAAAAAAAAAAAAAAAAAAAAAAAAAAAAAAAAAAAAAAAAAAAAAAAAAAAAAAAAAAAAAAAAAAAAAAAAAAAAAAAAAAAAAAAAAAAAAAAAAAAAAAAAAAAAAAAAAAAAAAAAAAAAAAAAAAAAAAAAAAAAAAAAAAAAAAAAAAAAAAAAAAAAAAAAAAAAAAAAAAAAAAAAAAAAAAAAAAAAAAAAAAAAAAAAAAAAAAAAAAAAAAAAAAAAAAAAAAAAAAAAAAAAAAAAAAAAAAAAAAAAAAAAAAAAAAAAAAAAAAAAAAAAAAAAAAAAAAAAAAAAAAAAAAAAAAAAAAAAAAAAAAAAAAAAAAAAAAAAAAAAAAAAAAAAAAAAAAAAAAAAAAAAAAAAAAAAAAAAAAAAAAAAAAAAAAAAAAAAAAAAAAAAAAAAAAAAAAAAAAAAAAAAAAAAAAAAAAAAAAAAAAAAAAAAAAAAAAAAAAAAAAAAAAAAAAAAAAAAAAAAAAAAAAAAAAAAAAAAAAAAAAAAAAAAAAAAAAAAAAAAAAAAAAAAAAAAAAAAAAAAAAAAAAAAAAAAAAAAAAAAAAAAAAAAAAAAAAAAAAAAAAAAAAAAAAAAAAAAAAAAAAAAAAAAAAAAAAAAAAAAAAAAAAAAAAAAAAAAAAAAAAAAAAAAAAAAAAAAAAAAAAAAAAAAAAAAAAAAAAAAAAAAAAAAAAAAAAAAAAAAAAAAAAAAAAAAAAAAAAAAAAAAAAAAAAAAAAAAAAAAAAAAAAAAAAAAAAAAAAAAAAAAAAAAAAAAAAAAAAAAAAAAAAAAAAAAAAAAAAAAAAAAAAAAAAAAAAAAAAAAAAAAAAAAAAAAAAAAAAAAAAAAAAAAAAAAAAAAAAAAAAAAAAAAAAAAAAAAAAAAAAAAAAAAAAAAAAAAAAAAAAAAAAAAAAAAAAAAAAAAAAAAAAAAAAAAAAAAAAAAAAAAAAAAAAAAAAAAAAAAAAAAAAAAAAAAAAAAAAAAAAAAAAAAAAAAAAAAAAAAAAAAAAAAAAAAAAAAAAAAAAAAAAAAAAAAAAAAAAAAAAAAAAAAAAAAAAAAAAAAAAAAAAAAAAAAAAAAAAAAAAAAAAAAAAAAAAAAAAAAAAAAAAAAAAAAAAAAAAAAAAAAAAAAAAAAAAAAAAAAAAAAAAAAAAAAAAAAAAAAAAAAAAAAAAAAAAAAAAAAAAAAAAAAAAAAAAAAAAAAAAAAAAAAAAAAAAAAAAAAAAAAAAAAAAAAAAAAAAAAAAAAAAAAAAAAAAAAAAAAAAAAAAAAAAAAAAAAAAAAAAAAAAAAAAAAAAAAAAAAAAAAAAAAAAAAAAAAAAAAAAAAAAAAAAAAAAAAAAAAAAAAAAAAAAAAAAAAAAAAAAAAAAAAAAAAAAAAAAAAAAAAAAAAAAAAAAAAAAAAAAAAAAAAAAAAAAAAAAAAAAAAAAAAAAAAAAAAAAAAAAAAAAAAAAAAAAAAAAAAAAAAAAAAAAAAAAAAAAAAAAAAAAAAAAAAAAAAAAAAAAAAAAAAAAAAAAAAAAAAAAAAAAAAAAAAAAAAAAAAAAAAAAAAAAAAAAAAAAAAAAAAAAAAAAAAAAAAAAAAAAAAAAAAAAAAAAAAAAAAAAAAAAAAAAAAAAAAAAAAAAAAAAAAAAAAAAAAAAAAAAAAAAAAAAAAAAAAAAAAAAAAAAAAAAAAAAAAAAAAAAAAAAAAAAAAAAAAAAAAAAAAAAAAAAAAAAAAAAAAAAAAAAAAAAAAAAAAAAAAAAAAAAAAAAAAAAAAAAAAAAAAAAAAAAAAAAAAAAAAAAAAAAAAAAAAAAAAAAAAAAAAAAAAAAAAAAAAAAAAAAAAAAAAAAAAAAAAAAAAAAAAAAAAAAAAAAAAAAAAAAAAAAAAAAAAAAAAAAAAAAAAAAAAAAAAAAAAAAAAAAAAAAAAAAAAAAAAAAAAAAAAAAAAAAAAAAAAAAAAAAAAAAAAAAAAAAAAAAAAAAAAAAAAAAAAAAAAAAAAAAAAAAAAAAAAAAAAAAAAAAAAAAAAAAAAAAAAAAAAAAAAAAAAAAAAAAAAAAAAAAAAAAAAAAAAAAAAAAAAAAAAAAAAAAAAAAAAAAAAAAAAAAAAAAAAAAAAAAAAAAAAAAAAAAAAAAAAAAAAAAAAAAAAAAAAAAAAAAAAAAAAAAAAAAAAAAAAAAAAAAAAAAAAAAAAAAAAAAAAAAAAAAAAAAAAAAAAAAAAAAAAAAAAAAAAAAAAAAAAAAAAAAAAAAAAAAAAAAAAAAAAAAAAAAAAAAAAAAAAAAAAAAAAAAAAAAAAAAAAAAAAAAAAAAAAAAAAAAAAAAAAAAAAAAAAAAAAAAAAAAAAAAAAAAAAAAAAAAAAAAAAAAAAAAAAAAAAAAAAAAAAAAAAAAAAAAAAAAAAAAAAAAAAAAAAAAAAAAAAAAAAAAAAAAAAAAAAAAAAAAAAAAAAAAAAAAAAAAAAAAAAAAAAAAAAAAAAAAAAAAAAAAAAAAAAAAAAAAAAAAAAAAAAAAAAAAAAAAAAAAAAAAAAAAAAAAAAAAAAAAAAAAAAAAAAAAAAAAAAAAAAAAAAAAAAAAAAAAAAAAAAAAAAAAAAAAAAAAAAAAAAAAAAAAAAAAAAAAAAAAAAAAAAAAAAAAAAAAAAAAAAAAAAAAAAAAAAAAAAAAAAAAAAAAAAAAAAAAAAAAAAAAAAAAAAAAAAAAAAAAAAAAAAAAAAAAAAAAAAAAAAAAAAAAAAAAAAAAAAAAAAAAAAAAAAAAAAAAAAAAAAAAAAAAAAAAAAAAAAAAAAAAAAAAAAAAAAAAAAAAAAAAAAAAAAAAAAAAAAAAAAAAAAAAAAAAAAAAAAAAAAAAAAAAAAAAAAAAAAAAAAAAAAAAAAAAAAAAAAAAAAAAAAAAAAAAAAAAAAAAAAAAAAAAAAAAAAAA==",
          "dtype": "i1"
         },
         "xaxis": "x7",
         "yaxis": "y7"
        }
       ],
       "layout": {
        "annotations": [
         {
          "font": {
           "size": 16
          },
          "showarrow": false,
          "text": "id",
          "x": 0.13999999999999999,
          "xanchor": "center",
          "xref": "paper",
          "y": 1,
          "yanchor": "bottom",
          "yref": "paper"
         },
         {
          "font": {
           "size": 16
          },
          "showarrow": false,
          "text": "age",
          "x": 0.49999999999999994,
          "xanchor": "center",
          "xref": "paper",
          "y": 1,
          "yanchor": "bottom",
          "yref": "paper"
         },
         {
          "font": {
           "size": 16
          },
          "showarrow": false,
          "text": "hypertension",
          "x": 0.86,
          "xanchor": "center",
          "xref": "paper",
          "y": 1,
          "yanchor": "bottom",
          "yref": "paper"
         },
         {
          "font": {
           "size": 16
          },
          "showarrow": false,
          "text": "heart_disease",
          "x": 0.13999999999999999,
          "xanchor": "center",
          "xref": "paper",
          "y": 0.6399999999999999,
          "yanchor": "bottom",
          "yref": "paper"
         },
         {
          "font": {
           "size": 16
          },
          "showarrow": false,
          "text": "avg_glucose_level",
          "x": 0.49999999999999994,
          "xanchor": "center",
          "xref": "paper",
          "y": 0.6399999999999999,
          "yanchor": "bottom",
          "yref": "paper"
         },
         {
          "font": {
           "size": 16
          },
          "showarrow": false,
          "text": "bmi",
          "x": 0.86,
          "xanchor": "center",
          "xref": "paper",
          "y": 0.6399999999999999,
          "yanchor": "bottom",
          "yref": "paper"
         },
         {
          "font": {
           "size": 16
          },
          "showarrow": false,
          "text": "stroke",
          "x": 0.13999999999999999,
          "xanchor": "center",
          "xref": "paper",
          "y": 0.27999999999999997,
          "yanchor": "bottom",
          "yref": "paper"
         }
        ],
        "height": 900,
        "showlegend": false,
        "template": {
         "data": {
          "bar": [
           {
            "error_x": {
             "color": "#2a3f5f"
            },
            "error_y": {
             "color": "#2a3f5f"
            },
            "marker": {
             "line": {
              "color": "#E5ECF6",
              "width": 0.5
             },
             "pattern": {
              "fillmode": "overlay",
              "size": 10,
              "solidity": 0.2
             }
            },
            "type": "bar"
           }
          ],
          "barpolar": [
           {
            "marker": {
             "line": {
              "color": "#E5ECF6",
              "width": 0.5
             },
             "pattern": {
              "fillmode": "overlay",
              "size": 10,
              "solidity": 0.2
             }
            },
            "type": "barpolar"
           }
          ],
          "carpet": [
           {
            "aaxis": {
             "endlinecolor": "#2a3f5f",
             "gridcolor": "white",
             "linecolor": "white",
             "minorgridcolor": "white",
             "startlinecolor": "#2a3f5f"
            },
            "baxis": {
             "endlinecolor": "#2a3f5f",
             "gridcolor": "white",
             "linecolor": "white",
             "minorgridcolor": "white",
             "startlinecolor": "#2a3f5f"
            },
            "type": "carpet"
           }
          ],
          "choropleth": [
           {
            "colorbar": {
             "outlinewidth": 0,
             "ticks": ""
            },
            "type": "choropleth"
           }
          ],
          "contour": [
           {
            "colorbar": {
             "outlinewidth": 0,
             "ticks": ""
            },
            "colorscale": [
             [
              0,
              "#0d0887"
             ],
             [
              0.1111111111111111,
              "#46039f"
             ],
             [
              0.2222222222222222,
              "#7201a8"
             ],
             [
              0.3333333333333333,
              "#9c179e"
             ],
             [
              0.4444444444444444,
              "#bd3786"
             ],
             [
              0.5555555555555556,
              "#d8576b"
             ],
             [
              0.6666666666666666,
              "#ed7953"
             ],
             [
              0.7777777777777778,
              "#fb9f3a"
             ],
             [
              0.8888888888888888,
              "#fdca26"
             ],
             [
              1,
              "#f0f921"
             ]
            ],
            "type": "contour"
           }
          ],
          "contourcarpet": [
           {
            "colorbar": {
             "outlinewidth": 0,
             "ticks": ""
            },
            "type": "contourcarpet"
           }
          ],
          "heatmap": [
           {
            "colorbar": {
             "outlinewidth": 0,
             "ticks": ""
            },
            "colorscale": [
             [
              0,
              "#0d0887"
             ],
             [
              0.1111111111111111,
              "#46039f"
             ],
             [
              0.2222222222222222,
              "#7201a8"
             ],
             [
              0.3333333333333333,
              "#9c179e"
             ],
             [
              0.4444444444444444,
              "#bd3786"
             ],
             [
              0.5555555555555556,
              "#d8576b"
             ],
             [
              0.6666666666666666,
              "#ed7953"
             ],
             [
              0.7777777777777778,
              "#fb9f3a"
             ],
             [
              0.8888888888888888,
              "#fdca26"
             ],
             [
              1,
              "#f0f921"
             ]
            ],
            "type": "heatmap"
           }
          ],
          "histogram": [
           {
            "marker": {
             "pattern": {
              "fillmode": "overlay",
              "size": 10,
              "solidity": 0.2
             }
            },
            "type": "histogram"
           }
          ],
          "histogram2d": [
           {
            "colorbar": {
             "outlinewidth": 0,
             "ticks": ""
            },
            "colorscale": [
             [
              0,
              "#0d0887"
             ],
             [
              0.1111111111111111,
              "#46039f"
             ],
             [
              0.2222222222222222,
              "#7201a8"
             ],
             [
              0.3333333333333333,
              "#9c179e"
             ],
             [
              0.4444444444444444,
              "#bd3786"
             ],
             [
              0.5555555555555556,
              "#d8576b"
             ],
             [
              0.6666666666666666,
              "#ed7953"
             ],
             [
              0.7777777777777778,
              "#fb9f3a"
             ],
             [
              0.8888888888888888,
              "#fdca26"
             ],
             [
              1,
              "#f0f921"
             ]
            ],
            "type": "histogram2d"
           }
          ],
          "histogram2dcontour": [
           {
            "colorbar": {
             "outlinewidth": 0,
             "ticks": ""
            },
            "colorscale": [
             [
              0,
              "#0d0887"
             ],
             [
              0.1111111111111111,
              "#46039f"
             ],
             [
              0.2222222222222222,
              "#7201a8"
             ],
             [
              0.3333333333333333,
              "#9c179e"
             ],
             [
              0.4444444444444444,
              "#bd3786"
             ],
             [
              0.5555555555555556,
              "#d8576b"
             ],
             [
              0.6666666666666666,
              "#ed7953"
             ],
             [
              0.7777777777777778,
              "#fb9f3a"
             ],
             [
              0.8888888888888888,
              "#fdca26"
             ],
             [
              1,
              "#f0f921"
             ]
            ],
            "type": "histogram2dcontour"
           }
          ],
          "mesh3d": [
           {
            "colorbar": {
             "outlinewidth": 0,
             "ticks": ""
            },
            "type": "mesh3d"
           }
          ],
          "parcoords": [
           {
            "line": {
             "colorbar": {
              "outlinewidth": 0,
              "ticks": ""
             }
            },
            "type": "parcoords"
           }
          ],
          "pie": [
           {
            "automargin": true,
            "type": "pie"
           }
          ],
          "scatter": [
           {
            "fillpattern": {
             "fillmode": "overlay",
             "size": 10,
             "solidity": 0.2
            },
            "type": "scatter"
           }
          ],
          "scatter3d": [
           {
            "line": {
             "colorbar": {
              "outlinewidth": 0,
              "ticks": ""
             }
            },
            "marker": {
             "colorbar": {
              "outlinewidth": 0,
              "ticks": ""
             }
            },
            "type": "scatter3d"
           }
          ],
          "scattercarpet": [
           {
            "marker": {
             "colorbar": {
              "outlinewidth": 0,
              "ticks": ""
             }
            },
            "type": "scattercarpet"
           }
          ],
          "scattergeo": [
           {
            "marker": {
             "colorbar": {
              "outlinewidth": 0,
              "ticks": ""
             }
            },
            "type": "scattergeo"
           }
          ],
          "scattergl": [
           {
            "marker": {
             "colorbar": {
              "outlinewidth": 0,
              "ticks": ""
             }
            },
            "type": "scattergl"
           }
          ],
          "scattermap": [
           {
            "marker": {
             "colorbar": {
              "outlinewidth": 0,
              "ticks": ""
             }
            },
            "type": "scattermap"
           }
          ],
          "scattermapbox": [
           {
            "marker": {
             "colorbar": {
              "outlinewidth": 0,
              "ticks": ""
             }
            },
            "type": "scattermapbox"
           }
          ],
          "scatterpolar": [
           {
            "marker": {
             "colorbar": {
              "outlinewidth": 0,
              "ticks": ""
             }
            },
            "type": "scatterpolar"
           }
          ],
          "scatterpolargl": [
           {
            "marker": {
             "colorbar": {
              "outlinewidth": 0,
              "ticks": ""
             }
            },
            "type": "scatterpolargl"
           }
          ],
          "scatterternary": [
           {
            "marker": {
             "colorbar": {
              "outlinewidth": 0,
              "ticks": ""
             }
            },
            "type": "scatterternary"
           }
          ],
          "surface": [
           {
            "colorbar": {
             "outlinewidth": 0,
             "ticks": ""
            },
            "colorscale": [
             [
              0,
              "#0d0887"
             ],
             [
              0.1111111111111111,
              "#46039f"
             ],
             [
              0.2222222222222222,
              "#7201a8"
             ],
             [
              0.3333333333333333,
              "#9c179e"
             ],
             [
              0.4444444444444444,
              "#bd3786"
             ],
             [
              0.5555555555555556,
              "#d8576b"
             ],
             [
              0.6666666666666666,
              "#ed7953"
             ],
             [
              0.7777777777777778,
              "#fb9f3a"
             ],
             [
              0.8888888888888888,
              "#fdca26"
             ],
             [
              1,
              "#f0f921"
             ]
            ],
            "type": "surface"
           }
          ],
          "table": [
           {
            "cells": {
             "fill": {
              "color": "#EBF0F8"
             },
             "line": {
              "color": "white"
             }
            },
            "header": {
             "fill": {
              "color": "#C8D4E3"
             },
             "line": {
              "color": "white"
             }
            },
            "type": "table"
           }
          ]
         },
         "layout": {
          "annotationdefaults": {
           "arrowcolor": "#2a3f5f",
           "arrowhead": 0,
           "arrowwidth": 1
          },
          "autotypenumbers": "strict",
          "coloraxis": {
           "colorbar": {
            "outlinewidth": 0,
            "ticks": ""
           }
          },
          "colorscale": {
           "diverging": [
            [
             0,
             "#8e0152"
            ],
            [
             0.1,
             "#c51b7d"
            ],
            [
             0.2,
             "#de77ae"
            ],
            [
             0.3,
             "#f1b6da"
            ],
            [
             0.4,
             "#fde0ef"
            ],
            [
             0.5,
             "#f7f7f7"
            ],
            [
             0.6,
             "#e6f5d0"
            ],
            [
             0.7,
             "#b8e186"
            ],
            [
             0.8,
             "#7fbc41"
            ],
            [
             0.9,
             "#4d9221"
            ],
            [
             1,
             "#276419"
            ]
           ],
           "sequential": [
            [
             0,
             "#0d0887"
            ],
            [
             0.1111111111111111,
             "#46039f"
            ],
            [
             0.2222222222222222,
             "#7201a8"
            ],
            [
             0.3333333333333333,
             "#9c179e"
            ],
            [
             0.4444444444444444,
             "#bd3786"
            ],
            [
             0.5555555555555556,
             "#d8576b"
            ],
            [
             0.6666666666666666,
             "#ed7953"
            ],
            [
             0.7777777777777778,
             "#fb9f3a"
            ],
            [
             0.8888888888888888,
             "#fdca26"
            ],
            [
             1,
             "#f0f921"
            ]
           ],
           "sequentialminus": [
            [
             0,
             "#0d0887"
            ],
            [
             0.1111111111111111,
             "#46039f"
            ],
            [
             0.2222222222222222,
             "#7201a8"
            ],
            [
             0.3333333333333333,
             "#9c179e"
            ],
            [
             0.4444444444444444,
             "#bd3786"
            ],
            [
             0.5555555555555556,
             "#d8576b"
            ],
            [
             0.6666666666666666,
             "#ed7953"
            ],
            [
             0.7777777777777778,
             "#fb9f3a"
            ],
            [
             0.8888888888888888,
             "#fdca26"
            ],
            [
             1,
             "#f0f921"
            ]
           ]
          },
          "colorway": [
           "#636efa",
           "#EF553B",
           "#00cc96",
           "#ab63fa",
           "#FFA15A",
           "#19d3f3",
           "#FF6692",
           "#B6E880",
           "#FF97FF",
           "#FECB52"
          ],
          "font": {
           "color": "#2a3f5f"
          },
          "geo": {
           "bgcolor": "white",
           "lakecolor": "white",
           "landcolor": "#E5ECF6",
           "showlakes": true,
           "showland": true,
           "subunitcolor": "white"
          },
          "hoverlabel": {
           "align": "left"
          },
          "hovermode": "closest",
          "mapbox": {
           "style": "light"
          },
          "paper_bgcolor": "white",
          "plot_bgcolor": "#E5ECF6",
          "polar": {
           "angularaxis": {
            "gridcolor": "white",
            "linecolor": "white",
            "ticks": ""
           },
           "bgcolor": "#E5ECF6",
           "radialaxis": {
            "gridcolor": "white",
            "linecolor": "white",
            "ticks": ""
           }
          },
          "scene": {
           "xaxis": {
            "backgroundcolor": "#E5ECF6",
            "gridcolor": "white",
            "gridwidth": 2,
            "linecolor": "white",
            "showbackground": true,
            "ticks": "",
            "zerolinecolor": "white"
           },
           "yaxis": {
            "backgroundcolor": "#E5ECF6",
            "gridcolor": "white",
            "gridwidth": 2,
            "linecolor": "white",
            "showbackground": true,
            "ticks": "",
            "zerolinecolor": "white"
           },
           "zaxis": {
            "backgroundcolor": "#E5ECF6",
            "gridcolor": "white",
            "gridwidth": 2,
            "linecolor": "white",
            "showbackground": true,
            "ticks": "",
            "zerolinecolor": "white"
           }
          },
          "shapedefaults": {
           "line": {
            "color": "#2a3f5f"
           }
          },
          "ternary": {
           "aaxis": {
            "gridcolor": "white",
            "linecolor": "white",
            "ticks": ""
           },
           "baxis": {
            "gridcolor": "white",
            "linecolor": "white",
            "ticks": ""
           },
           "bgcolor": "#E5ECF6",
           "caxis": {
            "gridcolor": "white",
            "linecolor": "white",
            "ticks": ""
           }
          },
          "title": {
           "x": 0.05
          },
          "xaxis": {
           "automargin": true,
           "gridcolor": "white",
           "linecolor": "white",
           "ticks": "",
           "title": {
            "standoff": 15
           },
           "zerolinecolor": "white",
           "zerolinewidth": 2
          },
          "yaxis": {
           "automargin": true,
           "gridcolor": "white",
           "linecolor": "white",
           "ticks": "",
           "title": {
            "standoff": 15
           },
           "zerolinecolor": "white",
           "zerolinewidth": 2
          }
         }
        },
        "title": {
         "text": "Distribution of Numerical Variables"
        },
        "xaxis": {
         "anchor": "y",
         "domain": [
          0,
          0.27999999999999997
         ]
        },
        "xaxis2": {
         "anchor": "y2",
         "domain": [
          0.36,
          0.6399999999999999
         ]
        },
        "xaxis3": {
         "anchor": "y3",
         "domain": [
          0.72,
          1
         ]
        },
        "xaxis4": {
         "anchor": "y4",
         "domain": [
          0,
          0.27999999999999997
         ]
        },
        "xaxis5": {
         "anchor": "y5",
         "domain": [
          0.36,
          0.6399999999999999
         ]
        },
        "xaxis6": {
         "anchor": "y6",
         "domain": [
          0.72,
          1
         ]
        },
        "xaxis7": {
         "anchor": "y7",
         "domain": [
          0,
          0.27999999999999997
         ]
        },
        "xaxis8": {
         "anchor": "y8",
         "domain": [
          0.36,
          0.6399999999999999
         ]
        },
        "xaxis9": {
         "anchor": "y9",
         "domain": [
          0.72,
          1
         ]
        },
        "yaxis": {
         "anchor": "x",
         "domain": [
          0.72,
          1
         ]
        },
        "yaxis2": {
         "anchor": "x2",
         "domain": [
          0.72,
          1
         ]
        },
        "yaxis3": {
         "anchor": "x3",
         "domain": [
          0.72,
          1
         ]
        },
        "yaxis4": {
         "anchor": "x4",
         "domain": [
          0.36,
          0.6399999999999999
         ]
        },
        "yaxis5": {
         "anchor": "x5",
         "domain": [
          0.36,
          0.6399999999999999
         ]
        },
        "yaxis6": {
         "anchor": "x6",
         "domain": [
          0.36,
          0.6399999999999999
         ]
        },
        "yaxis7": {
         "anchor": "x7",
         "domain": [
          0,
          0.27999999999999997
         ]
        },
        "yaxis8": {
         "anchor": "x8",
         "domain": [
          0,
          0.27999999999999997
         ]
        },
        "yaxis9": {
         "anchor": "x9",
         "domain": [
          0,
          0.27999999999999997
         ]
        }
       }
      }
     },
     "metadata": {},
     "output_type": "display_data"
    },
    {
     "name": "stdout",
     "output_type": "stream",
     "text": [
      "Creating overall quality score visualization...\n"
     ]
    },
    {
     "data": {
      "application/vnd.plotly.v1+json": {
       "config": {
        "plotlyServerURL": "https://plot.ly"
       },
       "data": [
        {
         "delta": {
          "reference": 80
         },
         "domain": {
          "x": [
           0,
           1
          ],
          "y": [
           0,
           1
          ]
         },
         "gauge": {
          "axis": {
           "range": [
            null,
            100
           ]
          },
          "bar": {
           "color": "darkblue"
          },
          "steps": [
           {
            "color": "lightgray",
            "range": [
             0,
             50
            ]
           },
           {
            "color": "yellow",
            "range": [
             50,
             75
            ]
           },
           {
            "color": "lightgreen",
            "range": [
             75,
             90
            ]
           },
           {
            "color": "green",
            "range": [
             90,
             100
            ]
           }
          ],
          "threshold": {
           "line": {
            "color": "red",
            "width": 4
           },
           "thickness": 0.75,
           "value": 90
          }
         },
         "mode": "gauge+number+delta",
         "title": {
          "text": "Data Quality Score<br><span style='font-size:0.8em;color:gray'>VERY_GOOD</span>"
         },
         "type": "indicator",
         "value": 94
        }
       ],
       "layout": {
        "height": 400,
        "template": {
         "data": {
          "bar": [
           {
            "error_x": {
             "color": "#2a3f5f"
            },
            "error_y": {
             "color": "#2a3f5f"
            },
            "marker": {
             "line": {
              "color": "#E5ECF6",
              "width": 0.5
             },
             "pattern": {
              "fillmode": "overlay",
              "size": 10,
              "solidity": 0.2
             }
            },
            "type": "bar"
           }
          ],
          "barpolar": [
           {
            "marker": {
             "line": {
              "color": "#E5ECF6",
              "width": 0.5
             },
             "pattern": {
              "fillmode": "overlay",
              "size": 10,
              "solidity": 0.2
             }
            },
            "type": "barpolar"
           }
          ],
          "carpet": [
           {
            "aaxis": {
             "endlinecolor": "#2a3f5f",
             "gridcolor": "white",
             "linecolor": "white",
             "minorgridcolor": "white",
             "startlinecolor": "#2a3f5f"
            },
            "baxis": {
             "endlinecolor": "#2a3f5f",
             "gridcolor": "white",
             "linecolor": "white",
             "minorgridcolor": "white",
             "startlinecolor": "#2a3f5f"
            },
            "type": "carpet"
           }
          ],
          "choropleth": [
           {
            "colorbar": {
             "outlinewidth": 0,
             "ticks": ""
            },
            "type": "choropleth"
           }
          ],
          "contour": [
           {
            "colorbar": {
             "outlinewidth": 0,
             "ticks": ""
            },
            "colorscale": [
             [
              0,
              "#0d0887"
             ],
             [
              0.1111111111111111,
              "#46039f"
             ],
             [
              0.2222222222222222,
              "#7201a8"
             ],
             [
              0.3333333333333333,
              "#9c179e"
             ],
             [
              0.4444444444444444,
              "#bd3786"
             ],
             [
              0.5555555555555556,
              "#d8576b"
             ],
             [
              0.6666666666666666,
              "#ed7953"
             ],
             [
              0.7777777777777778,
              "#fb9f3a"
             ],
             [
              0.8888888888888888,
              "#fdca26"
             ],
             [
              1,
              "#f0f921"
             ]
            ],
            "type": "contour"
           }
          ],
          "contourcarpet": [
           {
            "colorbar": {
             "outlinewidth": 0,
             "ticks": ""
            },
            "type": "contourcarpet"
           }
          ],
          "heatmap": [
           {
            "colorbar": {
             "outlinewidth": 0,
             "ticks": ""
            },
            "colorscale": [
             [
              0,
              "#0d0887"
             ],
             [
              0.1111111111111111,
              "#46039f"
             ],
             [
              0.2222222222222222,
              "#7201a8"
             ],
             [
              0.3333333333333333,
              "#9c179e"
             ],
             [
              0.4444444444444444,
              "#bd3786"
             ],
             [
              0.5555555555555556,
              "#d8576b"
             ],
             [
              0.6666666666666666,
              "#ed7953"
             ],
             [
              0.7777777777777778,
              "#fb9f3a"
             ],
             [
              0.8888888888888888,
              "#fdca26"
             ],
             [
              1,
              "#f0f921"
             ]
            ],
            "type": "heatmap"
           }
          ],
          "histogram": [
           {
            "marker": {
             "pattern": {
              "fillmode": "overlay",
              "size": 10,
              "solidity": 0.2
             }
            },
            "type": "histogram"
           }
          ],
          "histogram2d": [
           {
            "colorbar": {
             "outlinewidth": 0,
             "ticks": ""
            },
            "colorscale": [
             [
              0,
              "#0d0887"
             ],
             [
              0.1111111111111111,
              "#46039f"
             ],
             [
              0.2222222222222222,
              "#7201a8"
             ],
             [
              0.3333333333333333,
              "#9c179e"
             ],
             [
              0.4444444444444444,
              "#bd3786"
             ],
             [
              0.5555555555555556,
              "#d8576b"
             ],
             [
              0.6666666666666666,
              "#ed7953"
             ],
             [
              0.7777777777777778,
              "#fb9f3a"
             ],
             [
              0.8888888888888888,
              "#fdca26"
             ],
             [
              1,
              "#f0f921"
             ]
            ],
            "type": "histogram2d"
           }
          ],
          "histogram2dcontour": [
           {
            "colorbar": {
             "outlinewidth": 0,
             "ticks": ""
            },
            "colorscale": [
             [
              0,
              "#0d0887"
             ],
             [
              0.1111111111111111,
              "#46039f"
             ],
             [
              0.2222222222222222,
              "#7201a8"
             ],
             [
              0.3333333333333333,
              "#9c179e"
             ],
             [
              0.4444444444444444,
              "#bd3786"
             ],
             [
              0.5555555555555556,
              "#d8576b"
             ],
             [
              0.6666666666666666,
              "#ed7953"
             ],
             [
              0.7777777777777778,
              "#fb9f3a"
             ],
             [
              0.8888888888888888,
              "#fdca26"
             ],
             [
              1,
              "#f0f921"
             ]
            ],
            "type": "histogram2dcontour"
           }
          ],
          "mesh3d": [
           {
            "colorbar": {
             "outlinewidth": 0,
             "ticks": ""
            },
            "type": "mesh3d"
           }
          ],
          "parcoords": [
           {
            "line": {
             "colorbar": {
              "outlinewidth": 0,
              "ticks": ""
             }
            },
            "type": "parcoords"
           }
          ],
          "pie": [
           {
            "automargin": true,
            "type": "pie"
           }
          ],
          "scatter": [
           {
            "fillpattern": {
             "fillmode": "overlay",
             "size": 10,
             "solidity": 0.2
            },
            "type": "scatter"
           }
          ],
          "scatter3d": [
           {
            "line": {
             "colorbar": {
              "outlinewidth": 0,
              "ticks": ""
             }
            },
            "marker": {
             "colorbar": {
              "outlinewidth": 0,
              "ticks": ""
             }
            },
            "type": "scatter3d"
           }
          ],
          "scattercarpet": [
           {
            "marker": {
             "colorbar": {
              "outlinewidth": 0,
              "ticks": ""
             }
            },
            "type": "scattercarpet"
           }
          ],
          "scattergeo": [
           {
            "marker": {
             "colorbar": {
              "outlinewidth": 0,
              "ticks": ""
             }
            },
            "type": "scattergeo"
           }
          ],
          "scattergl": [
           {
            "marker": {
             "colorbar": {
              "outlinewidth": 0,
              "ticks": ""
             }
            },
            "type": "scattergl"
           }
          ],
          "scattermap": [
           {
            "marker": {
             "colorbar": {
              "outlinewidth": 0,
              "ticks": ""
             }
            },
            "type": "scattermap"
           }
          ],
          "scattermapbox": [
           {
            "marker": {
             "colorbar": {
              "outlinewidth": 0,
              "ticks": ""
             }
            },
            "type": "scattermapbox"
           }
          ],
          "scatterpolar": [
           {
            "marker": {
             "colorbar": {
              "outlinewidth": 0,
              "ticks": ""
             }
            },
            "type": "scatterpolar"
           }
          ],
          "scatterpolargl": [
           {
            "marker": {
             "colorbar": {
              "outlinewidth": 0,
              "ticks": ""
             }
            },
            "type": "scatterpolargl"
           }
          ],
          "scatterternary": [
           {
            "marker": {
             "colorbar": {
              "outlinewidth": 0,
              "ticks": ""
             }
            },
            "type": "scatterternary"
           }
          ],
          "surface": [
           {
            "colorbar": {
             "outlinewidth": 0,
             "ticks": ""
            },
            "colorscale": [
             [
              0,
              "#0d0887"
             ],
             [
              0.1111111111111111,
              "#46039f"
             ],
             [
              0.2222222222222222,
              "#7201a8"
             ],
             [
              0.3333333333333333,
              "#9c179e"
             ],
             [
              0.4444444444444444,
              "#bd3786"
             ],
             [
              0.5555555555555556,
              "#d8576b"
             ],
             [
              0.6666666666666666,
              "#ed7953"
             ],
             [
              0.7777777777777778,
              "#fb9f3a"
             ],
             [
              0.8888888888888888,
              "#fdca26"
             ],
             [
              1,
              "#f0f921"
             ]
            ],
            "type": "surface"
           }
          ],
          "table": [
           {
            "cells": {
             "fill": {
              "color": "#EBF0F8"
             },
             "line": {
              "color": "white"
             }
            },
            "header": {
             "fill": {
              "color": "#C8D4E3"
             },
             "line": {
              "color": "white"
             }
            },
            "type": "table"
           }
          ]
         },
         "layout": {
          "annotationdefaults": {
           "arrowcolor": "#2a3f5f",
           "arrowhead": 0,
           "arrowwidth": 1
          },
          "autotypenumbers": "strict",
          "coloraxis": {
           "colorbar": {
            "outlinewidth": 0,
            "ticks": ""
           }
          },
          "colorscale": {
           "diverging": [
            [
             0,
             "#8e0152"
            ],
            [
             0.1,
             "#c51b7d"
            ],
            [
             0.2,
             "#de77ae"
            ],
            [
             0.3,
             "#f1b6da"
            ],
            [
             0.4,
             "#fde0ef"
            ],
            [
             0.5,
             "#f7f7f7"
            ],
            [
             0.6,
             "#e6f5d0"
            ],
            [
             0.7,
             "#b8e186"
            ],
            [
             0.8,
             "#7fbc41"
            ],
            [
             0.9,
             "#4d9221"
            ],
            [
             1,
             "#276419"
            ]
           ],
           "sequential": [
            [
             0,
             "#0d0887"
            ],
            [
             0.1111111111111111,
             "#46039f"
            ],
            [
             0.2222222222222222,
             "#7201a8"
            ],
            [
             0.3333333333333333,
             "#9c179e"
            ],
            [
             0.4444444444444444,
             "#bd3786"
            ],
            [
             0.5555555555555556,
             "#d8576b"
            ],
            [
             0.6666666666666666,
             "#ed7953"
            ],
            [
             0.7777777777777778,
             "#fb9f3a"
            ],
            [
             0.8888888888888888,
             "#fdca26"
            ],
            [
             1,
             "#f0f921"
            ]
           ],
           "sequentialminus": [
            [
             0,
             "#0d0887"
            ],
            [
             0.1111111111111111,
             "#46039f"
            ],
            [
             0.2222222222222222,
             "#7201a8"
            ],
            [
             0.3333333333333333,
             "#9c179e"
            ],
            [
             0.4444444444444444,
             "#bd3786"
            ],
            [
             0.5555555555555556,
             "#d8576b"
            ],
            [
             0.6666666666666666,
             "#ed7953"
            ],
            [
             0.7777777777777778,
             "#fb9f3a"
            ],
            [
             0.8888888888888888,
             "#fdca26"
            ],
            [
             1,
             "#f0f921"
            ]
           ]
          },
          "colorway": [
           "#636efa",
           "#EF553B",
           "#00cc96",
           "#ab63fa",
           "#FFA15A",
           "#19d3f3",
           "#FF6692",
           "#B6E880",
           "#FF97FF",
           "#FECB52"
          ],
          "font": {
           "color": "#2a3f5f"
          },
          "geo": {
           "bgcolor": "white",
           "lakecolor": "white",
           "landcolor": "#E5ECF6",
           "showlakes": true,
           "showland": true,
           "subunitcolor": "white"
          },
          "hoverlabel": {
           "align": "left"
          },
          "hovermode": "closest",
          "mapbox": {
           "style": "light"
          },
          "paper_bgcolor": "white",
          "plot_bgcolor": "#E5ECF6",
          "polar": {
           "angularaxis": {
            "gridcolor": "white",
            "linecolor": "white",
            "ticks": ""
           },
           "bgcolor": "#E5ECF6",
           "radialaxis": {
            "gridcolor": "white",
            "linecolor": "white",
            "ticks": ""
           }
          },
          "scene": {
           "xaxis": {
            "backgroundcolor": "#E5ECF6",
            "gridcolor": "white",
            "gridwidth": 2,
            "linecolor": "white",
            "showbackground": true,
            "ticks": "",
            "zerolinecolor": "white"
           },
           "yaxis": {
            "backgroundcolor": "#E5ECF6",
            "gridcolor": "white",
            "gridwidth": 2,
            "linecolor": "white",
            "showbackground": true,
            "ticks": "",
            "zerolinecolor": "white"
           },
           "zaxis": {
            "backgroundcolor": "#E5ECF6",
            "gridcolor": "white",
            "gridwidth": 2,
            "linecolor": "white",
            "showbackground": true,
            "ticks": "",
            "zerolinecolor": "white"
           }
          },
          "shapedefaults": {
           "line": {
            "color": "#2a3f5f"
           }
          },
          "ternary": {
           "aaxis": {
            "gridcolor": "white",
            "linecolor": "white",
            "ticks": ""
           },
           "baxis": {
            "gridcolor": "white",
            "linecolor": "white",
            "ticks": ""
           },
           "bgcolor": "#E5ECF6",
           "caxis": {
            "gridcolor": "white",
            "linecolor": "white",
            "ticks": ""
           }
          },
          "title": {
           "x": 0.05
          },
          "xaxis": {
           "automargin": true,
           "gridcolor": "white",
           "linecolor": "white",
           "ticks": "",
           "title": {
            "standoff": 15
           },
           "zerolinecolor": "white",
           "zerolinewidth": 2
          },
          "yaxis": {
           "automargin": true,
           "gridcolor": "white",
           "linecolor": "white",
           "ticks": "",
           "title": {
            "standoff": 15
           },
           "zerolinecolor": "white",
           "zerolinewidth": 2
          }
         }
        }
       }
      }
     },
     "metadata": {},
     "output_type": "display_data"
    },
    {
     "name": "stdout",
     "output_type": "stream",
     "text": [
      "✅ All visualizations created successfully!\n"
     ]
    }
   ],
   "source": [
    "print(\"=\"*80)\n",
    "print(\"📊 CREATING DATA QUALITY VISUALIZATIONS\")\n",
    "print(\"=\"*80)\n",
    "\n",
    "# 1. Missing Values Visualization\n",
    "print(\"Creating missing values visualization...\")\n",
    "\n",
    "missing_df = pd.DataFrame(quality_report['missing_values']['missing_summary'])\n",
    "\n",
    "if len(missing_df[missing_df['missing_count'] > 0]) > 0:\n",
    "    # Missing values bar chart\n",
    "    missing_viz_df = missing_df[missing_df['missing_count'] > 0].sort_values('missing_percentage', ascending=True)\n",
    "    \n",
    "    fig_missing = px.bar(\n",
    "        missing_viz_df,\n",
    "        x='missing_percentage',\n",
    "        y='column',\n",
    "        orientation='h',\n",
    "        title='Missing Values by Column (%)',\n",
    "        labels={'missing_percentage': 'Missing Percentage (%)', 'column': 'Column'},\n",
    "        color='missing_percentage',\n",
    "        color_continuous_scale='Reds',\n",
    "        text='missing_count'\n",
    "    )\n",
    "    \n",
    "    fig_missing.update_traces(texttemplate='%{text}', textposition='outside')\n",
    "    fig_missing.update_layout(\n",
    "        height=400,\n",
    "        showlegend=False,\n",
    "        xaxis_title=\"Missing Percentage (%)\",\n",
    "        yaxis_title=\"Columns\"\n",
    "    )\n",
    "    \n",
    "    fig_missing.show()\n",
    "else:\n",
    "    print(\"✅ No missing values to visualize!\")\n",
    "\n",
    "# 2. Data Types Distribution\n",
    "print(\"Creating data types distribution...\")\n",
    "\n",
    "dtype_counts = {}\n",
    "for col in df.columns:\n",
    "    dtype = str(df[col].dtype)\n",
    "    dtype_counts[dtype] = dtype_counts.get(dtype, 0) + 1\n",
    "\n",
    "fig_dtypes = px.pie(\n",
    "    values=list(dtype_counts.values()),\n",
    "    names=list(dtype_counts.keys()),\n",
    "    title='Data Types Distribution',\n",
    "    color_discrete_sequence=px.colors.qualitative.Set3\n",
    ")\n",
    "\n",
    "fig_dtypes.update_traces(textposition='inside', textinfo='percent+label')\n",
    "fig_dtypes.update_layout(height=500)\n",
    "fig_dtypes.show()\n",
    "\n",
    "# 3. Target Variable Distribution\n",
    "print(\"Creating target variable distribution...\")\n",
    "\n",
    "if 'target_analysis' in quality_report and 'error' not in quality_report['target_analysis']:\n",
    "    target_dist = quality_report['target_analysis']['class_distribution']\n",
    "    \n",
    "    classes = list(target_dist.keys())\n",
    "    counts = [info['count'] for info in target_dist.values()]\n",
    "    percentages = [info['percentage'] for info in target_dist.values()]\n",
    "    \n",
    "    # Create labels\n",
    "    labels = ['No Stroke' if c == 0 else 'Stroke' if c == 1 else str(c) for c in classes]\n",
    "    \n",
    "    fig_target = go.Figure()\n",
    "    \n",
    "    # Add bar chart\n",
    "    fig_target.add_trace(go.Bar(\n",
    "        x=labels,\n",
    "        y=counts,\n",
    "        text=[f'{count:,}<br>({pct:.1f}%)' for count, pct in zip(counts, percentages)],\n",
    "        textposition='auto',\n",
    "        marker_color=['lightblue' if c == 0 else 'coral' for c in classes],\n",
    "        name='Count'\n",
    "    ))\n",
    "    \n",
    "    fig_target.update_layout(\n",
    "        title='Target Variable Distribution (Stroke)',\n",
    "        xaxis_title='Class',\n",
    "        yaxis_title='Count',\n",
    "        height=400,\n",
    "        showlegend=False\n",
    "    )\n",
    "    \n",
    "    # Add imbalance ratio annotation\n",
    "    imbalance_ratio = quality_report['target_analysis']['imbalance_ratio']\n",
    "    fig_target.add_annotation(\n",
    "        text=f\"Imbalance Ratio: {imbalance_ratio:.1f}:1\",\n",
    "        xref=\"paper\", yref=\"paper\",\n",
    "        x=0.02, y=0.98,\n",
    "        xanchor=\"left\", yanchor=\"top\",\n",
    "        showarrow=False,\n",
    "        font=dict(size=12, color=\"black\"),\n",
    "        bgcolor=\"white\",\n",
    "        bordercolor=\"black\",\n",
    "        borderwidth=1\n",
    "    )\n",
    "    \n",
    "    fig_target.show()\n",
    "\n",
    "# 4. Numerical Variables Distribution\n",
    "print(\"Creating numerical variables distributions...\")\n",
    "\n",
    "numerical_cols = quality_report['statistical_summary']['numerical_columns']\n",
    "\n",
    "if len(numerical_cols) > 0:\n",
    "    # Create subplots for numerical distributions\n",
    "    n_cols = min(3, len(numerical_cols))\n",
    "    n_rows = (len(numerical_cols) + n_cols - 1) // n_cols\n",
    "    \n",
    "    fig_dist = make_subplots(\n",
    "        rows=n_rows, cols=n_cols,\n",
    "        subplot_titles=numerical_cols,\n",
    "        vertical_spacing=0.08,\n",
    "        horizontal_spacing=0.08\n",
    "    )\n",
    "    \n",
    "    for i, col in enumerate(numerical_cols):\n",
    "        row = (i // n_cols) + 1\n",
    "        col_pos = (i % n_cols) + 1\n",
    "        \n",
    "        # Get data for histogram\n",
    "        col_data = df[col].drop_nulls().to_pandas()\n",
    "        \n",
    "        fig_dist.add_trace(\n",
    "            go.Histogram(\n",
    "                x=col_data,\n",
    "                name=col,\n",
    "                showlegend=False,\n",
    "                nbinsx=30,\n",
    "                marker_color='lightblue',\n",
    "                opacity=0.7\n",
    "            ),\n",
    "            row=row, col=col_pos\n",
    "        )\n",
    "    \n",
    "    fig_dist.update_layout(\n",
    "        title='Distribution of Numerical Variables',\n",
    "        height=300 * n_rows,\n",
    "        showlegend=False\n",
    "    )\n",
    "    \n",
    "    fig_dist.show()\n",
    "\n",
    "# 5. Overall Quality Score Visualization\n",
    "print(\"Creating overall quality score visualization...\")\n",
    "\n",
    "# Quality score gauge\n",
    "score = quality_report['overall_score']['score']\n",
    "grade = quality_report['overall_score']['grade']\n",
    "\n",
    "fig_quality = go.Figure(go.Indicator(\n",
    "    mode = \"gauge+number+delta\",\n",
    "    value = score,\n",
    "    domain = {'x': [0, 1], 'y': [0, 1]},\n",
    "    title = {'text': f\"Data Quality Score<br><span style='font-size:0.8em;color:gray'>{grade}</span>\"},\n",
    "    delta = {'reference': 80},\n",
    "    gauge = {\n",
    "        'axis': {'range': [None, 100]},\n",
    "        'bar': {'color': \"darkblue\"},\n",
    "        'steps': [\n",
    "            {'range': [0, 50], 'color': \"lightgray\"},\n",
    "            {'range': [50, 75], 'color': \"yellow\"},\n",
    "            {'range': [75, 90], 'color': \"lightgreen\"},\n",
    "            {'range': [90, 100], 'color': \"green\"}\n",
    "        ],\n",
    "        'threshold': {\n",
    "            'line': {'color': \"red\", 'width': 4},\n",
    "            'thickness': 0.75,\n",
    "            'value': 90\n",
    "        }\n",
    "    }\n",
    "))\n",
    "\n",
    "fig_quality.update_layout(height=400)\n",
    "fig_quality.show()\n",
    "\n",
    "print(\"✅ All visualizations created successfully!\")"
   ]
  },
  {
   "cell_type": "markdown",
   "metadata": {},
   "source": [
    "## 📋 Data Quality Summary Report\n",
    "\n",
    "Comprehensive summary of all data quality findings with actionable recommendations."
   ]
  },
  {
   "cell_type": "code",
   "execution_count": 31,
   "metadata": {},
   "outputs": [
    {
     "name": "stdout",
     "output_type": "stream",
     "text": [
      "====================================================================================================\n",
      "📋 COMPREHENSIVE DATA QUALITY SUMMARY REPORT\n",
      "====================================================================================================\n",
      "\n",
      "Dataset: Stroke Prediction Analysis\n",
      "Analysis Date: 2025-06-19 11:21:23\n",
      "Analysis Tool: Polars + Custom Quality Framework\n",
      "\n",
      "🏆 OVERALL ASSESSMENT:\n",
      "-------------------------\n",
      "Quality Score: 94.0/100\n",
      "Quality Grade: VERY_GOOD\n",
      "Recommendation: Minor issues, suitable for analysis with minimal preprocessing\n",
      "\n",
      "📊 DATASET OVERVIEW:\n",
      "--------------------\n",
      "Total Records: 5,110\n",
      "Total Features: 12\n",
      "Memory Usage: 0.43 MB\n",
      "Data Density: 99.7%\n",
      "\n",
      "🔍 KEY FINDINGS BY CATEGORY:\n",
      "------------------------------\n",
      "\n",
      "1. DATA COMPLETENESS:\n",
      "   Overall Missing Rate: 0.33%\n",
      "   Severity Level: EXCELLENT\n",
      "   Columns Affected: 1/12\n",
      "   Action Required: Handle missing values before analysis\n",
      "\n",
      "2. DATA VALIDITY:\n",
      "   Medical Validation Score: 80/100\n",
      "   Validation Status: MINOR_ISSUES\n",
      "   Issues Found: 1\n",
      "   Action Required: Review and clean invalid values\n",
      "\n",
      "3. DATA CONSISTENCY:\n",
      "   Duplicate Rate: 0.00%\n",
      "   Duplicate Records: 0\n",
      "   Consistency Level: EXCELLENT\n",
      "   Status: ✅ No duplicate records found\n",
      "\n",
      "4. TARGET VARIABLE QUALITY:\n",
      "   Class Balance: EXTREMELY_IMBALANCED\n",
      "   Imbalance Ratio: 19.5:1\n",
      "   Minority Class: 4.87%\n",
      "   Action Required: Use specialized techniques for imbalanced data\n",
      "\n",
      "🎯 PRIORITY ACTION ITEMS:\n",
      "-------------------------\n",
      "   1. MEDIUM PRIORITY: Prepare for imbalanced classification\n",
      "   2. LOW PRIORITY: Optimize data types for memory efficiency\n",
      "\n",
      "💡 RECOMMENDATIONS FOR NEXT STEPS:\n",
      "-----------------------------------\n",
      "   1. Address high-priority data quality issues identified above\n",
      "   2. Implement appropriate missing value imputation strategies\n",
      "   3. Validate data cleaning results\n",
      "   4. Proceed with exploratory data analysis (EDA)\n",
      "   4. Plan imbalanced classification strategy\n",
      "   5. Begin statistical hypothesis testing\n",
      "   6. Develop feature engineering strategies\n",
      "   7. Prepare for machine learning model development\n",
      "\n",
      "🚦 DATASET READINESS ASSESSMENT:\n",
      "-----------------------------------\n",
      "Status: ✅ READY FOR ANALYSIS\n",
      "Assessment: Dataset meets quality standards for machine learning analysis\n",
      "\n",
      "💾 SAVE QUALITY REPORT:\n",
      "--------------------\n",
      "To save this quality report to file, run:\n",
      "loader.save_data_quality_report('stroke_data_quality_report.txt')\n",
      "\n",
      "====================================================================================================\n",
      "📋 DATA QUALITY ASSESSMENT COMPLETED\n",
      "====================================================================================================\n"
     ]
    }
   ],
   "source": [
    "print(\"=\"*100)\n",
    "print(\"📋 COMPREHENSIVE DATA QUALITY SUMMARY REPORT\")\n",
    "print(\"=\"*100)\n",
    "\n",
    "# Header information\n",
    "print(f\"\\nDataset: Stroke Prediction Analysis\")\n",
    "print(f\"Analysis Date: {datetime.now().strftime('%Y-%m-%d %H:%M:%S')}\")\n",
    "print(f\"Analysis Tool: Polars + Custom Quality Framework\")\n",
    "\n",
    "# Overall assessment\n",
    "overall_score = quality_report['overall_score']\n",
    "print(f\"\\n🏆 OVERALL ASSESSMENT:\")\n",
    "print(\"-\" * 25)\n",
    "print(f\"Quality Score: {overall_score['score']:.1f}/100\")\n",
    "print(f\"Quality Grade: {overall_score['grade']}\")\n",
    "print(f\"Recommendation: {overall_score['recommendation']}\")\n",
    "\n",
    "# Dataset overview\n",
    "basic_metrics = quality_report['basic_metrics']\n",
    "print(f\"\\n📊 DATASET OVERVIEW:\")\n",
    "print(\"-\" * 20)\n",
    "print(f\"Total Records: {basic_metrics['total_rows']:,}\")\n",
    "print(f\"Total Features: {basic_metrics['total_columns']}\")\n",
    "print(f\"Memory Usage: {basic_metrics['memory_usage_mb']:.2f} MB\")\n",
    "print(f\"Data Density: {((basic_metrics['total_rows'] * basic_metrics['total_columns']) - quality_report['missing_values']['total_missing']) / (basic_metrics['total_rows'] * basic_metrics['total_columns']) * 100:.1f}%\")\n",
    "\n",
    "# Key findings by category\n",
    "print(f\"\\n🔍 KEY FINDINGS BY CATEGORY:\")\n",
    "print(\"-\" * 30)\n",
    "\n",
    "# 1. Completeness\n",
    "missing_info = quality_report['missing_values']\n",
    "print(f\"\\n1. DATA COMPLETENESS:\")\n",
    "print(f\"   Overall Missing Rate: {missing_info['overall_missing_rate']:.2f}%\")\n",
    "print(f\"   Severity Level: {missing_info['missing_severity']}\")\n",
    "print(f\"   Columns Affected: {missing_info['columns_with_missing']}/{basic_metrics['total_columns']}\")\n",
    "\n",
    "if missing_info['columns_with_missing'] > 0:\n",
    "    print(f\"   Action Required: Handle missing values before analysis\")\n",
    "else:\n",
    "    print(f\"   Status: ✅ Complete dataset\")\n",
    "\n",
    "# 2. Validity\n",
    "medical_info = quality_report['medical_validation']\n",
    "print(f\"\\n2. DATA VALIDITY:\")\n",
    "print(f\"   Medical Validation Score: {medical_info['validation_score']}/100\")\n",
    "print(f\"   Validation Status: {medical_info['validation_status']}\")\n",
    "if medical_info['issues']:\n",
    "    print(f\"   Issues Found: {len(medical_info['issues'])}\")\n",
    "    print(f\"   Action Required: Review and clean invalid values\")\n",
    "else:\n",
    "    print(f\"   Status: ✅ All values within expected ranges\")\n",
    "\n",
    "# 3. Consistency\n",
    "duplicate_info = quality_report['duplicates']\n",
    "print(f\"\\n3. DATA CONSISTENCY:\")\n",
    "print(f\"   Duplicate Rate: {duplicate_info['duplicate_percentage']:.2f}%\")\n",
    "print(f\"   Duplicate Records: {duplicate_info['duplicate_rows']:,}\")\n",
    "print(f\"   Consistency Level: {duplicate_info['duplicate_severity']}\")\n",
    "\n",
    "if duplicate_info['duplicate_rows'] > 0:\n",
    "    print(f\"   Action Required: Review and remove duplicates\")\n",
    "else:\n",
    "    print(f\"   Status: ✅ No duplicate records found\")\n",
    "\n",
    "# 4. Target Variable\n",
    "target_info = quality_report['target_analysis']\n",
    "if 'error' not in target_info:\n",
    "    print(f\"\\n4. TARGET VARIABLE QUALITY:\")\n",
    "    print(f\"   Class Balance: {target_info['balance_status']}\")\n",
    "    print(f\"   Imbalance Ratio: {target_info['imbalance_ratio']:.1f}:1\")\n",
    "    print(f\"   Minority Class: {target_info['minority_percentage']:.2f}%\")\n",
    "    \n",
    "    if target_info['imbalance_ratio'] > 10:\n",
    "        print(f\"   Action Required: Use specialized techniques for imbalanced data\")\n",
    "    else:\n",
    "        print(f\"   Status: ✅ Manageable class distribution\")\n",
    "\n",
    "# Priority action items\n",
    "print(f\"\\n🎯 PRIORITY ACTION ITEMS:\")\n",
    "print(\"-\" * 25)\n",
    "\n",
    "action_items = []\n",
    "priority_level = 1\n",
    "\n",
    "# High priority items\n",
    "if missing_info['overall_missing_rate'] > 10:\n",
    "    action_items.append(f\"{priority_level}. HIGH PRIORITY: Address high missing value rate ({missing_info['overall_missing_rate']:.1f}%)\")\n",
    "    priority_level += 1\n",
    "\n",
    "if medical_info['validation_score'] < 80:\n",
    "    action_items.append(f\"{priority_level}. HIGH PRIORITY: Fix medical validation issues\")\n",
    "    priority_level += 1\n",
    "\n",
    "if duplicate_info['duplicate_percentage'] > 5:\n",
    "    action_items.append(f\"{priority_level}. HIGH PRIORITY: Remove duplicate records ({duplicate_info['duplicate_percentage']:.1f}%)\")\n",
    "    priority_level += 1\n",
    "\n",
    "# Medium priority items\n",
    "if missing_info['overall_missing_rate'] > 1:\n",
    "    action_items.append(f\"{priority_level}. MEDIUM PRIORITY: Handle remaining missing values\")\n",
    "    priority_level += 1\n",
    "\n",
    "if 'error' not in target_info and target_info['imbalance_ratio'] > 10:\n",
    "    action_items.append(f\"{priority_level}. MEDIUM PRIORITY: Prepare for imbalanced classification\")\n",
    "    priority_level += 1\n",
    "\n",
    "# Low priority items\n",
    "dtype_suggestions = quality_report['data_types']['optimization_suggestions']\n",
    "if dtype_suggestions:\n",
    "    action_items.append(f\"{priority_level}. LOW PRIORITY: Optimize data types for memory efficiency\")\n",
    "    priority_level += 1\n",
    "\n",
    "if not action_items:\n",
    "    action_items.append(\"✅ No immediate action items - dataset is ready for analysis\")\n",
    "\n",
    "for item in action_items:\n",
    "    print(f\"   {item}\")\n",
    "\n",
    "# Recommendations for next steps\n",
    "print(f\"\\n💡 RECOMMENDATIONS FOR NEXT STEPS:\")\n",
    "print(\"-\" * 35)\n",
    "\n",
    "next_steps = [\n",
    "    \"1. Address high-priority data quality issues identified above\",\n",
    "    \"2. Implement appropriate missing value imputation strategies\",\n",
    "    \"3. Validate data cleaning results\",\n",
    "    \"4. Proceed with exploratory data analysis (EDA)\",\n",
    "    \"5. Begin statistical hypothesis testing\",\n",
    "    \"6. Develop feature engineering strategies\",\n",
    "    \"7. Prepare for machine learning model development\"\n",
    "]\n",
    "\n",
    "if 'error' not in target_info and target_info['imbalance_ratio'] > 10:\n",
    "    next_steps.insert(4, \"4. Plan imbalanced classification strategy\")\n",
    "\n",
    "for step in next_steps:\n",
    "    print(f\"   {step}\")\n",
    "\n",
    "# Dataset readiness assessment\n",
    "print(f\"\\n🚦 DATASET READINESS ASSESSMENT:\")\n",
    "print(\"-\" * 35)\n",
    "\n",
    "if overall_score['score'] >= 85:\n",
    "    readiness = \"✅ READY FOR ANALYSIS\"\n",
    "    readiness_note = \"Dataset meets quality standards for machine learning analysis\"\n",
    "elif overall_score['score'] >= 70:\n",
    "    readiness = \"⚠️  READY WITH MINOR PREPROCESSING\"\n",
    "    readiness_note = \"Dataset requires minor cleaning but is suitable for analysis\"\n",
    "elif overall_score['score'] >= 50:\n",
    "    readiness = \"🔧 REQUIRES SIGNIFICANT PREPROCESSING\"\n",
    "    readiness_note = \"Dataset needs substantial cleaning before analysis\"\n",
    "else:\n",
    "    readiness = \"❌ NOT READY - MAJOR ISSUES\"\n",
    "    readiness_note = \"Dataset has critical quality issues requiring extensive remediation\"\n",
    "\n",
    "print(f\"Status: {readiness}\")\n",
    "print(f\"Assessment: {readiness_note}\")\n",
    "\n",
    "# Save quality report flag\n",
    "print(f\"\\n💾 SAVE QUALITY REPORT:\")\n",
    "print(\"-\" * 20)\n",
    "print(\"To save this quality report to file, run:\")\n",
    "print(\"loader.save_data_quality_report('stroke_data_quality_report.txt')\")\n",
    "\n",
    "print(f\"\\n\" + \"=\"*100)\n",
    "print(\"📋 DATA QUALITY ASSESSMENT COMPLETED\")\n",
    "print(\"=\"*100)"
   ]
  },
  {
   "cell_type": "markdown",
   "metadata": {},
   "source": [
    "## 💾 Export Data Quality Report\n",
    "\n",
    "Save the comprehensive quality assessment report for documentation and future reference."
   ]
  },
  {
   "cell_type": "code",
   "execution_count": 32,
   "metadata": {},
   "outputs": [
    {
     "name": "stdout",
     "output_type": "stream",
     "text": [
      "💾 Saving comprehensive data quality report...\n",
      "✅ Quality report saved successfully!\n",
      "📄 Report file: stroke_data_quality_report_20250619_112125.txt\n",
      "📍 Location: /Users/sourangshupal/Downloads/Module1_FinalProject/notebooks/stroke_data_quality_report_20250619_112125.txt\n",
      "✅ JSON summary saved!\n",
      "📄 JSON file: stroke_data_info_20250619_112125.json\n"
     ]
    }
   ],
   "source": [
    "print(\"💾 Saving comprehensive data quality report...\")\n",
    "\n",
    "# Create a detailed text report\n",
    "report_filename = f\"stroke_data_quality_report_{datetime.now().strftime('%Y%m%d_%H%M%S')}.txt\"\n",
    "\n",
    "try:\n",
    "    with open(report_filename, 'w') as f:\n",
    "        f.write(\"=\"*100 + \"\\n\")\n",
    "        f.write(\"STROKE PREDICTION DATASET - COMPREHENSIVE QUALITY ASSESSMENT REPORT\\n\")\n",
    "        f.write(\"=\"*100 + \"\\n\\n\")\n",
    "        \n",
    "        f.write(f\"Analysis Date: {datetime.now().strftime('%Y-%m-%d %H:%M:%S')}\\n\")\n",
    "        f.write(f\"Analysis Tool: Polars + Custom Quality Assessment Framework\\n\\n\")\n",
    "        \n",
    "        # Overall assessment\n",
    "        overall = quality_report['overall_score']\n",
    "        f.write(\"OVERALL ASSESSMENT:\\n\")\n",
    "        f.write(\"-\" * 20 + \"\\n\")\n",
    "        f.write(f\"Quality Score: {overall['score']:.1f}/100\\n\")\n",
    "        f.write(f\"Quality Grade: {overall['grade']}\\n\")\n",
    "        f.write(f\"Recommendation: {overall['recommendation']}\\n\\n\")\n",
    "        \n",
    "        # Dataset overview\n",
    "        basic = quality_report['basic_metrics']\n",
    "        f.write(\"DATASET OVERVIEW:\\n\")\n",
    "        f.write(\"-\" * 17 + \"\\n\")\n",
    "        f.write(f\"Total Records: {basic['total_rows']:,}\\n\")\n",
    "        f.write(f\"Total Features: {basic['total_columns']}\\n\")\n",
    "        f.write(f\"Memory Usage: {basic['memory_usage_mb']:.2f} MB\\n\")\n",
    "        f.write(f\"Columns: {', '.join(basic['column_names'])}\\n\\n\")\n",
    "        \n",
    "        # Missing values\n",
    "        missing = quality_report['missing_values']\n",
    "        f.write(\"MISSING VALUES ANALYSIS:\\n\")\n",
    "        f.write(\"-\" * 24 + \"\\n\")\n",
    "        f.write(f\"Overall Missing Rate: {missing['overall_missing_rate']:.2f}%\\n\")\n",
    "        f.write(f\"Total Missing Values: {missing['total_missing']:,}\\n\")\n",
    "        f.write(f\"Columns Affected: {missing['columns_with_missing']}\\n\")\n",
    "        f.write(f\"Severity: {missing['missing_severity']}\\n\\n\")\n",
    "        \n",
    "        if missing['columns_with_missing'] > 0:\n",
    "            f.write(\"Missing Values by Column:\\n\")\n",
    "            missing_df = pd.DataFrame(missing['missing_summary'])\n",
    "            for _, row in missing_df[missing_df['missing_count'] > 0].iterrows():\n",
    "                f.write(f\"  {row['column']}: {row['missing_count']} ({row['missing_percentage']:.1f}%)\\n\")\n",
    "            f.write(\"\\n\")\n",
    "        \n",
    "        # Medical validation\n",
    "        medical = quality_report['medical_validation']\n",
    "        f.write(\"MEDICAL VALIDATION:\\n\")\n",
    "        f.write(\"-\" * 18 + \"\\n\")\n",
    "        f.write(f\"Validation Score: {medical['validation_score']}/100\\n\")\n",
    "        f.write(f\"Status: {medical['validation_status']}\\n\")\n",
    "        if medical['issues']:\n",
    "            f.write(\"Issues Found:\\n\")\n",
    "            for issue in medical['issues']:\n",
    "                f.write(f\"  - {issue}\\n\")\n",
    "        f.write(\"\\n\")\n",
    "        \n",
    "        # Target variable\n",
    "        target = quality_report['target_analysis']\n",
    "        if 'error' not in target:\n",
    "            f.write(\"TARGET VARIABLE ANALYSIS:\\n\")\n",
    "            f.write(\"-\" * 26 + \"\\n\")\n",
    "            f.write(f\"Variable: stroke\\n\")\n",
    "            f.write(f\"Imbalance Ratio: {target['imbalance_ratio']:.1f}:1\\n\")\n",
    "            f.write(f\"Balance Status: {target['balance_status']}\\n\")\n",
    "            f.write(f\"Minority Class: {target['minority_percentage']:.2f}%\\n\\n\")\n",
    "            \n",
    "            f.write(\"Class Distribution:\\n\")\n",
    "            for class_val, info in target['class_distribution'].items():\n",
    "                class_name = \"No Stroke\" if class_val == 0 else \"Stroke\"\n",
    "                f.write(f\"  {class_name}: {info['count']:,} ({info['percentage']:.1f}%)\\n\")\n",
    "            f.write(\"\\n\")\n",
    "        \n",
    "        # Quality score deductions\n",
    "        if overall['deductions']:\n",
    "            f.write(\"QUALITY SCORE DEDUCTIONS:\\n\")\n",
    "            f.write(\"-\" * 25 + \"\\n\")\n",
    "            for deduction in overall['deductions']:\n",
    "                f.write(f\"  - {deduction}\\n\")\n",
    "            f.write(\"\\n\")\n",
    "        \n",
    "        f.write(\"=\"*100 + \"\\n\")\n",
    "        f.write(\"END OF QUALITY ASSESSMENT REPORT\\n\")\n",
    "        f.write(\"=\"*100 + \"\\n\")\n",
    "    \n",
    "    print(f\"✅ Quality report saved successfully!\")\n",
    "    print(f\"📄 Report file: {report_filename}\")\n",
    "    print(f\"📍 Location: {Path(report_filename).absolute()}\")\n",
    "\n",
    "except Exception as e:\n",
    "    print(f\"❌ Error saving report: {e}\")\n",
    "\n",
    "# Save dataset info as JSON for programmatic access\n",
    "import json\n",
    "\n",
    "try:\n",
    "    json_filename = f\"stroke_data_info_{datetime.now().strftime('%Y%m%d_%H%M%S')}.json\"\n",
    "    \n",
    "    # Convert quality report to JSON-serializable format\n",
    "    json_report = {\n",
    "        'analysis_timestamp': datetime.now().isoformat(),\n",
    "        'dataset_path': DATASET_PATH if dataset_loaded else 'sample_data',\n",
    "        'basic_metrics': quality_report['basic_metrics'],\n",
    "        'overall_score': quality_report['overall_score'],\n",
    "        'missing_values_summary': {\n",
    "            'total_missing': quality_report['missing_values']['total_missing'],\n",
    "            'overall_rate': quality_report['missing_values']['overall_missing_rate'],\n",
    "            'severity': quality_report['missing_values']['missing_severity']\n",
    "        },\n",
    "        'medical_validation_summary': {\n",
    "            'score': quality_report['medical_validation']['validation_score'],\n",
    "            'status': quality_report['medical_validation']['validation_status'],\n",
    "            'issues_count': len(quality_report['medical_validation']['issues'])\n",
    "        }\n",
    "    }\n",
    "    \n",
    "    if 'error' not in quality_report['target_analysis']:\n",
    "        json_report['target_analysis_summary'] = {\n",
    "            'imbalance_ratio': quality_report['target_analysis']['imbalance_ratio'],\n",
    "            'balance_status': quality_report['target_analysis']['balance_status'],\n",
    "            'minority_percentage': quality_report['target_analysis']['minority_percentage']\n",
    "        }\n",
    "    \n",
    "    with open(json_filename, 'w') as f:\n",
    "        json.dump(json_report, f, indent=2)\n",
    "    \n",
    "    print(f\"✅ JSON summary saved!\")\n",
    "    print(f\"📄 JSON file: {json_filename}\")\n",
    "\n",
    "except Exception as e:\n",
    "    print(f\"⚠️  Warning: Could not save JSON summary: {e}\")"
   ]
  },
  {
   "cell_type": "markdown",
   "metadata": {},
   "source": [
    "## 🎉 Data Loading and Quality Assessment Complete!\n",
    "\n",
    "### ✅ What We've Accomplished\n",
    "\n",
    "1. **High-Performance Data Loading**: Successfully loaded the stroke prediction dataset using Polars for optimal performance\n",
    "2. **Comprehensive Quality Assessment**: Evaluated data quality across multiple dimensions:\n",
    "   - Completeness (missing values)\n",
    "   - Validity (medical domain validation)\n",
    "   - Consistency (duplicates)\n",
    "   - Target variable analysis\n",
    "3. **Statistical Overview**: Generated detailed statistical summaries for all variables\n",
    "4. **Interactive Visualizations**: Created informative plots to visualize data quality patterns\n",
    "5. **Actionable Insights**: Identified specific data quality issues and provided recommendations\n",
    "\n",
    "### 📊 Key Findings Summary\n",
    "\n",
    "- **Dataset Size**: {df.shape[0]:,} records × {df.shape[1]} columns\n",
    "- **Overall Quality Score**: {quality_report['overall_score']['score']:.1f}/100 ({quality_report['overall_score']['grade']})\n",
    "- **Missing Values**: {quality_report['missing_values']['overall_missing_rate']:.2f}% overall missing rate\n",
    "- **Target Variable**: {quality_report['target_analysis']['imbalance_ratio']:.1f}:1 imbalance ratio (typical for medical data)\n",
    "- **Medical Validation**: {quality_report['medical_validation']['validation_score']}/100 validation score\n",
    "\n",
    "### 🚀 Next Steps\n",
    "\n",
    "1. **Address Data Quality Issues**: Implement recommended fixes for missing values and validation errors\n",
    "2. **Statistical Hypothesis Testing**: Proceed to `02_hypothesis_testing.ipynb` for rigorous statistical analysis\n",
    "3. **Feature Engineering**: Use insights from this analysis to guide feature creation\n",
    "4. **Model Development**: Apply appropriate techniques for the identified class imbalance\n",
    "\n",
    "### 📁 Generated Files\n",
    "\n",
    "- **Quality Report**: `stroke_data_quality_report_[timestamp].txt`\n",
    "- **JSON Summary**: `stroke_data_info_[timestamp].json`\n",
    "- **Enhanced Dataset**: Ready for subsequent analysis phases\n",
    "\n",
    "The dataset is now thoroughly understood and ready for the next phase of analysis! 🎯"
   ]
  },
  {
   "cell_type": "code",
   "execution_count": 33,
   "metadata": {},
   "outputs": [
    {
     "name": "stdout",
     "output_type": "stream",
     "text": [
      "\n",
      "🎉 DATA LOADING AND QUALITY ASSESSMENT COMPLETED SUCCESSFULLY!\n",
      "📋 Notebook execution finished - ready for next analysis phase!\n",
      "💾 Memory cleanup completed\n"
     ]
    }
   ],
   "source": [
    "print(f\"\\n🎉 DATA LOADING AND QUALITY ASSESSMENT COMPLETED SUCCESSFULLY!\")\n",
    "print(f\"📋 Notebook execution finished - ready for next analysis phase!\")\n",
    "\n",
    "# Final memory cleanup\n",
    "import gc\n",
    "gc.collect()\n",
    "print(f\"💾 Memory cleanup completed\")"
   ]
  },
  {
   "cell_type": "code",
   "execution_count": null,
   "metadata": {},
   "outputs": [],
   "source": []
  },
  {
   "cell_type": "code",
   "execution_count": null,
   "metadata": {},
   "outputs": [],
   "source": []
  }
 ],
 "metadata": {
  "kernelspec": {
   "display_name": ".venv",
   "language": "python",
   "name": "python3"
  },
  "language_info": {
   "codemirror_mode": {
    "name": "ipython",
    "version": 3
   },
   "file_extension": ".py",
   "mimetype": "text/x-python",
   "name": "python",
   "nbconvert_exporter": "python",
   "pygments_lexer": "ipython3",
   "version": "3.12.9"
  }
 },
 "nbformat": 4,
 "nbformat_minor": 2
}
